{
 "cells": [
  {
   "cell_type": "markdown",
   "metadata": {},
   "source": [
    "# Dependency Injection in Python with FastAPI"
   ]
  },
  {
   "cell_type": "markdown",
   "metadata": {},
   "source": [
    "## 1. Introduction to Dependency Injection"
   ]
  },
  {
   "cell_type": "markdown",
   "metadata": {},
   "source": [
    "Dependency Injection (DI) is a design pattern that allows the decoupling of object creation from object usage, promoting more maintainable, testable, and flexible code. In this technique the object's dependencies are provided by an external entity, rather than the object creating them itself. This approach allows for greater flexibility and easier testing."
   ]
  },
  {
   "cell_type": "markdown",
   "metadata": {},
   "source": [
    "### A Simple Example"
   ]
  },
  {
   "cell_type": "markdown",
   "metadata": {},
   "source": [
    "**Without DI**"
   ]
  },
  {
   "cell_type": "code",
   "execution_count": 1,
   "metadata": {},
   "outputs": [
    {
     "name": "stdout",
     "output_type": "stream",
     "text": [
      "Connecting to the database\n",
      "Performing an action\n"
     ]
    }
   ],
   "source": [
    "class Database:\n",
    "    def connect(self):\n",
    "        print(\"Connecting to the database\")\n",
    "\n",
    "class Service:\n",
    "    def __init__(self):\n",
    "        self.db = Database()\n",
    "\n",
    "    def perform_action(self):\n",
    "        self.db.connect()\n",
    "        print(\"Performing an action\")\n",
    "\n",
    "service = Service()\n",
    "service.perform_action()"
   ]
  },
  {
   "cell_type": "markdown",
   "metadata": {},
   "source": [
    "In this example, the `Service` class is tightly coupled with the `Database` class, making it difficult to change the database implementation or to test the `Service` class in isolation."
   ]
  },
  {
   "cell_type": "markdown",
   "metadata": {},
   "source": [
    "**With DI**"
   ]
  },
  {
   "cell_type": "code",
   "execution_count": 2,
   "metadata": {},
   "outputs": [
    {
     "name": "stdout",
     "output_type": "stream",
     "text": [
      "Connecting to the database\n",
      "Performing an action\n"
     ]
    }
   ],
   "source": [
    "class Database:\n",
    "    def connect(self):\n",
    "        print(\"Connecting to the database\")\n",
    "\n",
    "class Service:\n",
    "    def __init__(self, db: Database):\n",
    "        self.db = db\n",
    "\n",
    "    def perform_action(self):\n",
    "        self.db.connect()\n",
    "        print(\"Performing an action\")\n",
    "\n",
    "db = Database()\n",
    "service = Service(db)\n",
    "service.perform_action()"
   ]
  },
  {
   "cell_type": "markdown",
   "metadata": {},
   "source": [
    "Here, the `Service` class receives its `Database` dependency through the constructor, allowing for greater flexibility and easier testing."
   ]
  },
  {
   "cell_type": "markdown",
   "metadata": {},
   "source": [
    "## 2. Benefits of Dependency Injection"
   ]
  },
  {
   "cell_type": "markdown",
   "metadata": {},
   "source": [
    "1. **Decoupling**: Reduces the tight coupling between classes.\n",
    "2. **Flexibility**: Easier to swap implementations of dependencies.\n",
    "3. **Testability**: Facilitates testing by allowing the injection of mock dependencies.\n",
    "4. **Maintainability**: Promotes cleaner and more maintainable code."
   ]
  },
  {
   "cell_type": "markdown",
   "metadata": {},
   "source": [
    "## 3. Basic Concepts"
   ]
  },
  {
   "cell_type": "markdown",
   "metadata": {},
   "source": [
    "- **Dependency**: An object that another object relies on.\n",
    "- **Injection**: The process of providing a dependency to an object.\n",
    "- **Inversion of Control (IoC)**: A principle where the control of object creation and management is transferred from the object itself to an external entity."
   ]
  },
  {
   "cell_type": "markdown",
   "metadata": {},
   "source": [
    "## 4. DI in Python"
   ]
  },
  {
   "cell_type": "markdown",
   "metadata": {},
   "source": [
    "In Python, DI can be achieved using various techniques like constructor injection, method injection, and property injection. We'll explore these techniques with examples."
   ]
  },
  {
   "cell_type": "markdown",
   "metadata": {},
   "source": [
    "### Constructor Injection"
   ]
  },
  {
   "cell_type": "markdown",
   "metadata": {},
   "source": [
    "Constructor injection involves passing dependencies through the constructor."
   ]
  },
  {
   "cell_type": "code",
   "execution_count": 3,
   "metadata": {},
   "outputs": [
    {
     "name": "stdout",
     "output_type": "stream",
     "text": [
      "LOG: User Alice created\n"
     ]
    }
   ],
   "source": [
    "class Logger:\n",
    "    def log(self, message: str):\n",
    "        print(f\"LOG: {message}\")\n",
    "\n",
    "class UserService:\n",
    "    def __init__(self, logger: Logger):\n",
    "        self.logger = logger\n",
    "\n",
    "    def create_user(self, username: str):\n",
    "        self.logger.log(f\"User {username} created\")\n",
    "\n",
    "logger = Logger()\n",
    "user_service = UserService(logger)\n",
    "user_service.create_user(\"Alice\")"
   ]
  },
  {
   "cell_type": "markdown",
   "metadata": {},
   "source": [
    "### Method Injection"
   ]
  },
  {
   "cell_type": "markdown",
   "metadata": {},
   "source": [
    "Method injection involves passing dependencies through methods."
   ]
  },
  {
   "cell_type": "code",
   "execution_count": 4,
   "metadata": {},
   "outputs": [
    {
     "name": "stdout",
     "output_type": "stream",
     "text": [
      "Processing payment of 100.0\n",
      "Order created\n"
     ]
    }
   ],
   "source": [
    "class PaymentProcessor:\n",
    "    def process(self, amount: float):\n",
    "        print(f\"Processing payment of {amount}\")\n",
    "\n",
    "class OrderService:\n",
    "    def create_order(self, processor: PaymentProcessor, amount: float):\n",
    "        processor.process(amount)\n",
    "        print(\"Order created\")\n",
    "\n",
    "processor = PaymentProcessor()\n",
    "order_service = OrderService()\n",
    "order_service.create_order(processor, 100.0)"
   ]
  },
  {
   "cell_type": "markdown",
   "metadata": {},
   "source": [
    "### Property Injection"
   ]
  },
  {
   "cell_type": "markdown",
   "metadata": {},
   "source": [
    "Property injection involves setting dependencies through properties."
   ]
  },
  {
   "cell_type": "code",
   "execution_count": 5,
   "metadata": {},
   "outputs": [
    {
     "name": "stdout",
     "output_type": "stream",
     "text": [
      "Sending email to user@example.com with subject Notification\n"
     ]
    }
   ],
   "source": [
    "class EmailService:\n",
    "    def send_email(self, to: str, subject: str, body: str):\n",
    "        print(f\"Sending email to {to} with subject {subject}\")\n",
    "\n",
    "class NotificationService:\n",
    "    def __init__(self):\n",
    "        self.email_service = None\n",
    "\n",
    "    def notify(self, message: str):\n",
    "        if self.email_service:\n",
    "            self.email_service.send_email(\"user@example.com\", \"Notification\", message)\n",
    "        else:\n",
    "            print(\"Email service not available\")\n",
    "\n",
    "email_service = EmailService()\n",
    "notification_service = NotificationService()\n",
    "notification_service.email_service = email_service\n",
    "notification_service.notify(\"This is a test notification\")"
   ]
  },
  {
   "cell_type": "markdown",
   "metadata": {},
   "source": [
    "## 5. DI in FastAPI"
   ]
  },
  {
   "cell_type": "markdown",
   "metadata": {},
   "source": [
    "FastAPI is a modern, fast (high-performance) web framework for building APIs with Python 3.6+ based on standard Python type hints. It supports Dependency Injection out of the box, making it easy to manage dependencies in web applications."
   ]
  },
  {
   "cell_type": "markdown",
   "metadata": {},
   "source": [
    "I'll create a simple FastAPI application demonstrating DI. This will not run in Jupyter notebook but you may put it into a Python app to see the results. Here it is put only for demonstartion purposes."
   ]
  },
  {
   "cell_type": "markdown",
   "metadata": {},
   "source": [
    "First, install FastAPI and Uvicorn:"
   ]
  },
  {
   "cell_type": "code",
   "execution_count": 13,
   "metadata": {},
   "outputs": [],
   "source": [
    "# ! pip install fastapi uvicorn typer==0.9.0 -q"
   ]
  },
  {
   "cell_type": "code",
   "execution_count": null,
   "metadata": {},
   "outputs": [],
   "source": [
    "# app.py\n",
    "from fastapi import FastAPI, Depends\n",
    "\n",
    "app = FastAPI()\n",
    "\n",
    "class Database:\n",
    "    def __init__(self):\n",
    "        self.connection = \"Database connection established\"\n",
    "\n",
    "def get_database():\n",
    "    db = Database()\n",
    "    try:\n",
    "        yield db\n",
    "    finally:\n",
    "        print(\"Closing database connection\")\n",
    "\n",
    "@app.get(\"/items/\")\n",
    "def read_items(db: Database = Depends(get_database)):\n",
    "    return {\"message\": db.connection}\n",
    "\n",
    "if __name__ == \"__main__\":\n",
    "    import uvicorn\n",
    "    uvicorn.run(app, host=\"127.0.0.1\", port=8000)"
   ]
  },
  {
   "cell_type": "markdown",
   "metadata": {},
   "source": [
    "In this example:\n",
    "- We define a `Database` class to simulate a database connection.\n",
    "- The `get_database` function is a dependency provider that yields a `Database` instance.\n",
    "- The `read_items` endpoint depends on the `get_database` function, which injects the `Database` instance into the endpoint.\n",
    "\n",
    "To run the application, use:"
   ]
  },
  {
   "cell_type": "code",
   "execution_count": 12,
   "metadata": {},
   "outputs": [],
   "source": [
    "# ! uvicorn app:app --reload"
   ]
  },
  {
   "cell_type": "markdown",
   "metadata": {},
   "source": [
    "Visit `http://127.0.0.1:8000/items/` to see the response."
   ]
  },
  {
   "cell_type": "markdown",
   "metadata": {},
   "source": [
    "## 6. Testing with Dependency Injection"
   ]
  },
  {
   "cell_type": "markdown",
   "metadata": {},
   "source": [
    "DI makes testing easier by allowing the injection of mock dependencies. You may use the below test with the above example. Here it is put only for demonstartion purposes."
   ]
  },
  {
   "cell_type": "code",
   "execution_count": null,
   "metadata": {},
   "outputs": [],
   "source": [
    "from fastapi.testclient import TestClient\n",
    "\n",
    "class MockDatabase(Database):\n",
    "    def __init__(self):\n",
    "        self.connection = \"Mock database connection\"\n",
    "\n",
    "def get_mock_database():\n",
    "    db = MockDatabase()\n",
    "    try:\n",
    "        yield db\n",
    "    finally:\n",
    "        print(\"Closing mock database connection\")\n",
    "\n",
    "app.dependency_overrides[Database] = get_mock_database\n",
    "\n",
    "client = TestClient(app)\n",
    "\n",
    "def test_read_items():\n",
    "    response = client.get(\"/items/\")\n",
    "    assert response.status_code == 200\n",
    "    assert response.json() == {\"message\": \"Mock database connection\"}"
   ]
  },
  {
   "cell_type": "markdown",
   "metadata": {},
   "source": [
    "In this example:\n",
    "- We create a `MockDatabase` class to simulate the database for testing.\n",
    "- The `get_mock_database` function provides the `MockDatabase` instance.\n",
    "- We override the dependency in the `app` with `get_mock_database` for testing.\n",
    "- The `test_read_items` function tests the `/items/` endpoint using the mock database."
   ]
  },
  {
   "cell_type": "markdown",
   "metadata": {},
   "source": [
    "## 7. Conclusion"
   ]
  },
  {
   "cell_type": "markdown",
   "metadata": {},
   "source": [
    "Dependency Injection is a powerful design pattern that promotes decoupling, flexibility, and testability. FastAPI provides excellent support for DI, making it easy to manage dependencies in web applications. By understanding and implementing DI, you can write more maintainable and testable code."
   ]
  }
 ],
 "metadata": {
  "kernelspec": {
   "display_name": "pytorch",
   "language": "python",
   "name": "python3"
  },
  "language_info": {
   "codemirror_mode": {
    "name": "ipython",
    "version": 3
   },
   "file_extension": ".py",
   "mimetype": "text/x-python",
   "name": "python",
   "nbconvert_exporter": "python",
   "pygments_lexer": "ipython3",
   "version": "3.11.5"
  }
 },
 "nbformat": 4,
 "nbformat_minor": 2
}
