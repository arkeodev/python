{
 "cells": [
  {
   "cell_type": "markdown",
   "metadata": {},
   "source": [
    "# SOLID Principles in Python"
   ]
  },
  {
   "cell_type": "markdown",
   "metadata": {},
   "source": [
    "## Introduction"
   ]
  },
  {
   "cell_type": "markdown",
   "metadata": {},
   "source": [
    "The SOLID principles are a set of design principles that help developers create maintainable, scalable, and robust software. The acronym SOLID stands for:\n",
    "- **S**ingle Responsibility Principle (SRP)\n",
    "- **O**pen/Closed Principle (OCP)\n",
    "- **L**iskov Substitution Principle (LSP)\n",
    "- **I**nterface Segregation Principle (ISP)\n",
    "- **D**ependency Inversion Principle (DIP)"
   ]
  },
  {
   "cell_type": "markdown",
   "metadata": {},
   "source": [
    "## 1. Single Responsibility Principle (SRP)"
   ]
  },
  {
   "cell_type": "markdown",
   "metadata": {},
   "source": [
    "A class should have only one reason to change, meaning it should have only one job or responsibility.\n",
    "\n",
    "Let's consider a class that handles user data and sends emails."
   ]
  },
  {
   "cell_type": "code",
   "execution_count": 1,
   "metadata": {},
   "outputs": [],
   "source": [
    "class User:\n",
    "    def __init__(self, name, email):\n",
    "        self.name = name\n",
    "        self.email = email\n",
    "\n",
    "    def save(self):\n",
    "        print(f\"Saving user {self.name}\")\n",
    "\n",
    "    def send_email(self, message):\n",
    "        print(f\"Sending email to {self.email}: {message}\")\n",
    "\n",
    "# Violates SRP: User class has two responsibilities - handling user data and sending emails."
   ]
  },
  {
   "cell_type": "markdown",
   "metadata": {},
   "source": [
    "To adhere to SRP, we can split this into two separate classes:"
   ]
  },
  {
   "cell_type": "code",
   "execution_count": 2,
   "metadata": {},
   "outputs": [],
   "source": [
    "class User:\n",
    "    def __init__(self, name, email):\n",
    "        self.name = name\n",
    "        self.email = email\n",
    "\n",
    "    def save(self):\n",
    "        print(f\"Saving user {self.name}\")\n",
    "\n",
    "class EmailService:\n",
    "    def send_email(self, email, message):\n",
    "        print(f\"Sending email to {email}: {message}\")\n",
    "\n",
    "# Now, User class handles user data, and EmailService handles sending emails."
   ]
  },
  {
   "cell_type": "markdown",
   "metadata": {},
   "source": [
    "## 2. Open/Closed Principle (OCP)"
   ]
  },
  {
   "cell_type": "markdown",
   "metadata": {},
   "source": [
    "Software entities (classes, modules, functions, etc.) should be open for extension but closed for modification.\n",
    "\n",
    "Let's consider a simple implementation for calculating area for different shapes:"
   ]
  },
  {
   "cell_type": "code",
   "execution_count": 3,
   "metadata": {},
   "outputs": [],
   "source": [
    "class Rectangle:\n",
    "    def __init__(self, width, height):\n",
    "        self.width = width\n",
    "        self.height = height\n",
    "\n",
    "class Circle:\n",
    "    def __init__(self, radius):\n",
    "        self.radius = radius\n",
    "\n",
    "def calculate_area(shape):\n",
    "    if isinstance(shape, Rectangle):\n",
    "        return shape.width * shape.height\n",
    "    elif isinstance(shape, Circle):\n",
    "        return 3.14 * shape.radius * shape.radius\n",
    "\n",
    "# Violates OCP: To add a new shape, we need to modify the calculate_area function."
   ]
  },
  {
   "cell_type": "markdown",
   "metadata": {},
   "source": [
    "To adhere to OCP, we can use polymorphism:"
   ]
  },
  {
   "cell_type": "code",
   "execution_count": 4,
   "metadata": {},
   "outputs": [
    {
     "name": "stdout",
     "output_type": "stream",
     "text": [
      "Area: 6\n",
      "Area: 78.5\n"
     ]
    }
   ],
   "source": [
    "class Shape:\n",
    "    def calculate_area(self):\n",
    "        pass\n",
    "\n",
    "class Rectangle(Shape):\n",
    "    def __init__(self, width, height):\n",
    "        self.width = width\n",
    "        self.height = height\n",
    "\n",
    "    def calculate_area(self):\n",
    "        return self.width * self.height\n",
    "\n",
    "class Circle(Shape):\n",
    "    def __init__(self, radius):\n",
    "        self.radius = radius\n",
    "\n",
    "    def calculate_area(self):\n",
    "        return 3.14 * self.radius * self.radius\n",
    "\n",
    "# Now, we can add new shapes without modifying existing code.\n",
    "shapes = [Rectangle(2, 3), Circle(5)]\n",
    "\n",
    "for shape in shapes:\n",
    "    print(f\"Area: {shape.calculate_area()}\")"
   ]
  },
  {
   "cell_type": "markdown",
   "metadata": {},
   "source": [
    "## 3. Liskov Substitution Principle (LSP)"
   ]
  },
  {
   "cell_type": "markdown",
   "metadata": {},
   "source": [
    "Subtypes must be substitutable for their base types without altering the correctness of the program.\n",
    "\n",
    "Let's consider a class hierarchy for birds:"
   ]
  },
  {
   "cell_type": "code",
   "execution_count": 5,
   "metadata": {},
   "outputs": [],
   "source": [
    "class Bird:\n",
    "    def fly(self):\n",
    "        pass\n",
    "\n",
    "class Sparrow(Bird):\n",
    "    def fly(self):\n",
    "        print(\"Sparrow flying\")\n",
    "\n",
    "class Ostrich(Bird):\n",
    "    def fly(self):\n",
    "        print(\"Ostrich can't fly\")\n",
    "\n",
    "# Violates LSP: Ostrich can't fly, but it's forced to implement fly method."
   ]
  },
  {
   "cell_type": "markdown",
   "metadata": {},
   "source": [
    "To adhere to LSP, we can refactor the design:"
   ]
  },
  {
   "cell_type": "code",
   "execution_count": 6,
   "metadata": {},
   "outputs": [],
   "source": [
    "class Bird:\n",
    "    pass\n",
    "\n",
    "class FlyingBird(Bird):\n",
    "    def fly(self):\n",
    "        pass\n",
    "\n",
    "class Sparrow(FlyingBird):\n",
    "    def fly(self):\n",
    "        print(\"Sparrow flying\")\n",
    "\n",
    "class Ostrich(Bird):\n",
    "    def run(self):\n",
    "        print(\"Ostrich running\")\n",
    "\n",
    "# Now, we have separated flying birds from non-flying birds."
   ]
  },
  {
   "cell_type": "markdown",
   "metadata": {},
   "source": [
    "## 4. Interface Segregation Principle (ISP)"
   ]
  },
  {
   "cell_type": "markdown",
   "metadata": {},
   "source": [
    "Clients should not be forced to depend on interfaces they do not use.\n",
    "\n",
    "Let's consider an interface for worker duties:"
   ]
  },
  {
   "cell_type": "code",
   "execution_count": 7,
   "metadata": {},
   "outputs": [],
   "source": [
    "class WorkerInterface:\n",
    "    def work(self):\n",
    "        pass\n",
    "\n",
    "    def eat(self):\n",
    "        pass\n",
    "\n",
    "class Worker(WorkerInterface):\n",
    "    def work(self):\n",
    "        print(\"Working\")\n",
    "\n",
    "    def eat(self):\n",
    "        print(\"Eating\")\n",
    "\n",
    "class Robot(WorkerInterface):\n",
    "    def work(self):\n",
    "        print(\"Working\")\n",
    "\n",
    "    def eat(self):\n",
    "        pass  # Robots don't eat\n",
    "\n",
    "# Violates ISP: Robot is forced to implement an unnecessary eat method."
   ]
  },
  {
   "cell_type": "markdown",
   "metadata": {},
   "source": [
    "To adhere to ISP, we can create smaller, more specific interfaces:"
   ]
  },
  {
   "cell_type": "code",
   "execution_count": 8,
   "metadata": {},
   "outputs": [],
   "source": [
    "class Workable:\n",
    "    def work(self):\n",
    "        pass\n",
    "\n",
    "class Eatable:\n",
    "    def eat(self):\n",
    "        pass\n",
    "\n",
    "class Worker(Workable, Eatable):\n",
    "    def work(self):\n",
    "        print(\"Working\")\n",
    "\n",
    "    def eat(self):\n",
    "        print(\"Eating\")\n",
    "\n",
    "class Robot(Workable):\n",
    "    def work(self):\n",
    "        print(\"Working\")\n",
    "\n",
    "# Now, Robot is not forced to implement eat method."
   ]
  },
  {
   "cell_type": "markdown",
   "metadata": {},
   "source": [
    "## 5. Dependency Inversion Principle (DIP)"
   ]
  },
  {
   "cell_type": "markdown",
   "metadata": {},
   "source": [
    "High-level modules should not depend on low-level modules. Both should depend on abstractions. Abstractions should not depend on details. Details should depend on abstractions.\n",
    "\n",
    "Let's consider a scenario where a `Developer` depends on a specific `Backend` service:"
   ]
  },
  {
   "cell_type": "code",
   "execution_count": 9,
   "metadata": {},
   "outputs": [],
   "source": [
    "class Backend:\n",
    "    def code(self):\n",
    "        print(\"Coding in Python\")\n",
    "\n",
    "class Developer:\n",
    "    def __init__(self):\n",
    "        self.backend = Backend()\n",
    "\n",
    "    def develop(self):\n",
    "        self.backend.code()\n",
    "\n",
    "# Violates DIP: Developer class is tightly coupled with Backend class."
   ]
  },
  {
   "cell_type": "markdown",
   "metadata": {},
   "source": [
    "To adhere to DIP, we can introduce an abstraction:"
   ]
  },
  {
   "cell_type": "code",
   "execution_count": 10,
   "metadata": {},
   "outputs": [
    {
     "name": "stdout",
     "output_type": "stream",
     "text": [
      "Coding in Python\n",
      "Coding in Java\n"
     ]
    }
   ],
   "source": [
    "class Backend:\n",
    "    def code(self):\n",
    "        pass\n",
    "\n",
    "class PythonBackend(Backend):\n",
    "    def code(self):\n",
    "        print(\"Coding in Python\")\n",
    "\n",
    "class JavaBackend(Backend):\n",
    "    def code(self):\n",
    "        print(\"Coding in Java\")\n",
    "\n",
    "class Developer:\n",
    "    def __init__(self, backend: Backend):\n",
    "        self.backend = backend\n",
    "\n",
    "    def develop(self):\n",
    "        self.backend.code()\n",
    "\n",
    "# Now, Developer depends on the abstraction Backend, not on specific implementations.\n",
    "python_dev = Developer(PythonBackend())\n",
    "java_dev = Developer(JavaBackend())\n",
    "\n",
    "python_dev.develop()\n",
    "java_dev.develop()"
   ]
  },
  {
   "cell_type": "markdown",
   "metadata": {},
   "source": [
    "## Conclusion"
   ]
  },
  {
   "cell_type": "markdown",
   "metadata": {},
   "source": [
    "\n",
    "The SOLID principles help create robust, maintainable, and scalable software by providing a set of guidelines for object-oriented design. By adhering to these principles, developers can improve code quality and ensure that their applications are easier to extend and maintain.\n"
   ]
  }
 ],
 "metadata": {
  "kernelspec": {
   "display_name": "pytorch",
   "language": "python",
   "name": "python3"
  },
  "language_info": {
   "codemirror_mode": {
    "name": "ipython",
    "version": 3
   },
   "file_extension": ".py",
   "mimetype": "text/x-python",
   "name": "python",
   "nbconvert_exporter": "python",
   "pygments_lexer": "ipython3",
   "version": "3.11.5"
  }
 },
 "nbformat": 4,
 "nbformat_minor": 2
}
