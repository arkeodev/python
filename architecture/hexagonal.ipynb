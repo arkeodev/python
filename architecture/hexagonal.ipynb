{
 "cells": [
  {
   "cell_type": "markdown",
   "metadata": {},
   "source": [
    "# Hexagonal Architecture (Ports and Adapters)"
   ]
  },
  {
   "cell_type": "markdown",
   "metadata": {},
   "source": [
    "Hexagonal Architecture, also known as Ports and Adapters Architecture, is an architectural pattern used in software design. It aims to create loosely coupled application components that can be easily tested and maintained."
   ]
  },
  {
   "cell_type": "markdown",
   "metadata": {},
   "source": [
    "## 1. Introduction"
   ]
  },
  {
   "cell_type": "markdown",
   "metadata": {},
   "source": [
    "Hexagonal Architecture is an architectural pattern introduced by Alistair Cockburn. Its primary goal is to make the application more modular and adaptable to changes. The pattern divides the application into three main parts:\n",
    "\n",
    "- **Domain Layer**: The core business logic.\n",
    "- **Ports**: Interfaces that define the application's use cases.\n",
    "- **Adapters**: Implementations of the ports that interact with external systems (e.g., databases, APIs)."
   ]
  },
  {
   "cell_type": "markdown",
   "metadata": {},
   "source": [
    "## 2. Core Concepts"
   ]
  },
  {
   "cell_type": "markdown",
   "metadata": {},
   "source": [
    "### Domain Layer"
   ]
  },
  {
   "cell_type": "markdown",
   "metadata": {},
   "source": [
    "The domain layer contains the core business logic and rules of the application. It is independent of any external systems or frameworks."
   ]
  },
  {
   "cell_type": "markdown",
   "metadata": {},
   "source": [
    "### Ports"
   ]
  },
  {
   "cell_type": "markdown",
   "metadata": {},
   "source": [
    "Ports are interfaces that define the entry points to the domain layer. There are two types of ports:\n",
    "- **Inbound Ports**: These represent the use cases of the application. They are called by external actors (e.g., UI, APIs).\n",
    "- **Outbound Ports**: These are interfaces through which the domain interacts with external systems (e.g., repositories, third-party services)."
   ]
  },
  {
   "cell_type": "markdown",
   "metadata": {},
   "source": [
    "### Adapters"
   ]
  },
  {
   "cell_type": "markdown",
   "metadata": {},
   "source": [
    "Adapters are implementations of the ports. They adapt the external systems to the domain and vice versa.\n",
    "- **Inbound Adapters**: These handle the communication from external actors to the domain layer (e.g., controllers, UI).\n",
    "- **Outbound Adapters**: These handle the communication from the domain layer to external systems (e.g., database repositories, API clients)."
   ]
  },
  {
   "cell_type": "markdown",
   "metadata": {},
   "source": [
    "## 3. Benefits of Hexagonal Architecture"
   ]
  },
  {
   "cell_type": "markdown",
   "metadata": {},
   "source": [
    "- **Modularity**: Separation of concerns leads to more modular code.\n",
    "- **Testability**: Core business logic can be tested independently of external systems.\n",
    "- **Flexibility**: Easy to replace or change external systems without affecting the core logic.\n",
    "- **Maintainability**: Clear boundaries and responsibilities make the codebase easier to maintain."
   ]
  },
  {
   "cell_type": "markdown",
   "metadata": {},
   "source": [
    "## 4. Implementation"
   ]
  },
  {
   "cell_type": "markdown",
   "metadata": {},
   "source": [
    "### A Banking Application"
   ]
  },
  {
   "cell_type": "markdown",
   "metadata": {},
   "source": [
    "**Use Case: Money Transfer**\n",
    "We will implement a simple money transfer service between accounts.\n",
    "\n",
    "**Domain Model**\n",
    "The domain model includes the `Account` class as shown earlier.\n",
    "\n",
    "**Ports**\n",
    "The ports include the `AccountRepository` and `TransferService` interfaces.\n",
    "\n",
    "**Adapters**\n",
    "The adapters include the `InMemoryAccountRepository` and `SimpleTransferService`."
   ]
  },
  {
   "cell_type": "markdown",
   "metadata": {},
   "source": [
    "#### Step 1: Define the Domain Layer\n",
    "Create the core business logic without any dependencies on external systems."
   ]
  },
  {
   "cell_type": "code",
   "execution_count": 1,
   "metadata": {},
   "outputs": [],
   "source": [
    "# domain/model.py\n",
    "class Account:\n",
    "    def __init__(self, account_id, balance):\n",
    "        self.account_id = account_id\n",
    "        self.balance = balance\n",
    "\n",
    "    def withdraw(self, amount):\n",
    "        if amount > self.balance:\n",
    "            raise ValueError(\"Insufficient funds\")\n",
    "        elif amount <= 0:\n",
    "            raise ValueError(\"Amount should be greater than 0\")\n",
    "        self.balance -= amount\n",
    "\n",
    "    def deposit(self, amount):\n",
    "        self.balance += amount"
   ]
  },
  {
   "cell_type": "markdown",
   "metadata": {},
   "source": [
    "#### Step 2: Define Ports\n",
    "Define interfaces for the use cases and external system interactions."
   ]
  },
  {
   "cell_type": "code",
   "execution_count": 2,
   "metadata": {},
   "outputs": [],
   "source": [
    "# domain/ports\n",
    "from abc import ABC, abstractmethod\n",
    "\n",
    "class AccountRepository(ABC):\n",
    "    @abstractmethod\n",
    "    def find_by_id(self, account_id):\n",
    "        pass\n",
    "\n",
    "    @abstractmethod\n",
    "    def save(self, account):\n",
    "        pass\n",
    "\n",
    "class TransferService(ABC):\n",
    "    @abstractmethod\n",
    "    def transfer(self, from_account_id, to_account_id, amount):\n",
    "        pass"
   ]
  },
  {
   "cell_type": "markdown",
   "metadata": {},
   "source": [
    "#### Step 3: Implement Adapters\n",
    "Implement the ports to interact with external systems."
   ]
  },
  {
   "cell_type": "code",
   "execution_count": 3,
   "metadata": {},
   "outputs": [],
   "source": [
    "# adapters/repositories\n",
    "\n",
    "class InMemoryAccountRepository(AccountRepository):\n",
    "    def __init__(self):\n",
    "        self.accounts = {}\n",
    "\n",
    "    def find_by_id(self, account_id):\n",
    "        return self.accounts.get(account_id)\n",
    "\n",
    "    def save(self, account):\n",
    "        self.accounts[account.account_id] = account"
   ]
  },
  {
   "cell_type": "code",
   "execution_count": 4,
   "metadata": {},
   "outputs": [],
   "source": [
    "# application/services\n",
    "\n",
    "class SimpleTransferService(TransferService):\n",
    "    def __init__(self, account_repository: AccountRepository):\n",
    "        self.account_repository = account_repository\n",
    "\n",
    "    def transfer(self, from_account_id, to_account_id, amount):\n",
    "        from_account = self.account_repository.find_by_id(from_account_id)\n",
    "        to_account = self.account_repository.find_by_id(to_account_id)\n",
    "        \n",
    "        from_account.withdraw(amount)\n",
    "        to_account.deposit(amount)\n",
    "        \n",
    "        self.account_repository.save(from_account)\n",
    "        self.account_repository.save(to_account)"
   ]
  },
  {
   "cell_type": "markdown",
   "metadata": {},
   "source": [
    "### Use Case - Money Transfer"
   ]
  },
  {
   "cell_type": "code",
   "execution_count": 6,
   "metadata": {},
   "outputs": [
    {
     "name": "stdout",
     "output_type": "stream",
     "text": [
      "70\n",
      "80\n"
     ]
    }
   ],
   "source": [
    "account_repository = InMemoryAccountRepository()\n",
    "\n",
    "# Create accounts\n",
    "account1 = Account(account_id=1, balance=100)\n",
    "account2 = Account(account_id=2, balance=50)\n",
    "\n",
    "account_repository.save(account1)\n",
    "account_repository.save(account2)\n",
    "\n",
    "transfer_service = SimpleTransferService(account_repository)\n",
    "transfer_service.transfer(1, 2, 30)\n",
    "\n",
    "print(account_repository.find_by_id(1).balance)\n",
    "print(account_repository.find_by_id(2).balance) "
   ]
  },
  {
   "cell_type": "markdown",
   "metadata": {},
   "source": [
    "## 5. Testing in Hexagonal Architecture"
   ]
  },
  {
   "cell_type": "markdown",
   "metadata": {},
   "source": [
    "\n",
    "Hexagonal Architecture promotes testability by isolating the core business logic from external dependencies."
   ]
  },
  {
   "cell_type": "code",
   "execution_count": 9,
   "metadata": {},
   "outputs": [
    {
     "name": "stderr",
     "output_type": "stream",
     "text": [
      "test_transfer (__main__.TestTransferService.test_transfer) ... ok\n",
      "test_transfer_insufficient_funds (__main__.TestTransferService.test_transfer_insufficient_funds) ... ok\n",
      "test_transfer_invalid_amount (__main__.TestTransferService.test_transfer_invalid_amount) ... ok\n",
      "\n",
      "----------------------------------------------------------------------\n",
      "Ran 3 tests in 0.034s\n",
      "\n",
      "OK\n"
     ]
    },
    {
     "data": {
      "text/plain": [
       "<unittest.main.TestProgram at 0x105483190>"
      ]
     },
     "execution_count": 9,
     "metadata": {},
     "output_type": "execute_result"
    }
   ],
   "source": [
    "# test_transfer_service\n",
    "import unittest\n",
    "\n",
    "class TestTransferService(unittest.TestCase):\n",
    "    def setUp(self):\n",
    "        self.account_repository = InMemoryAccountRepository()\n",
    "        self.transfer_service = SimpleTransferService(self.account_repository)\n",
    "        \n",
    "        self.account1 = Account(account_id=1, balance=100)\n",
    "        self.account2 = Account(account_id=2, balance=50)\n",
    "        \n",
    "        self.account_repository.save(self.account1)\n",
    "        self.account_repository.save(self.account2)\n",
    "\n",
    "    def test_transfer(self):\n",
    "        self.transfer_service.transfer(1, 2, 30)\n",
    "        self.assertEqual(self.account_repository.find_by_id(1).balance, 70)\n",
    "        self.assertEqual(self.account_repository.find_by_id(2).balance, 80)\n",
    "\n",
    "    def test_transfer_insufficient_funds(self):\n",
    "        with self.assertRaises(ValueError):\n",
    "            self.transfer_service.transfer(1, 2, 200)\n",
    "            \n",
    "    def test_transfer_invalid_amount(self):\n",
    "        with self.assertRaises(ValueError):\n",
    "            self.transfer_service.transfer(1, 2, -20)\n",
    "\n",
    "# Run the tests and display the results in the notebook\n",
    "unittest.main(argv=[''], verbosity=2, exit=False)"
   ]
  },
  {
   "cell_type": "markdown",
   "metadata": {},
   "source": [
    "## 6. Summary and Best Practices"
   ]
  },
  {
   "cell_type": "markdown",
   "metadata": {},
   "source": [
    "- **Keep the domain layer pure**: Avoid dependencies on external systems.\n",
    "- **Define clear interfaces (ports)**: Ensure the domain layer is only dependent on these interfaces.\n",
    "- **Implement adapters**: Use adapters to connect the domain layer to external systems.\n",
    "- **Focus on testability**: Write tests for your domain logic independently of external systems."
   ]
  }
 ],
 "metadata": {
  "kernelspec": {
   "display_name": "pytorch",
   "language": "python",
   "name": "python3"
  },
  "language_info": {
   "codemirror_mode": {
    "name": "ipython",
    "version": 3
   },
   "file_extension": ".py",
   "mimetype": "text/x-python",
   "name": "python",
   "nbconvert_exporter": "python",
   "pygments_lexer": "ipython3",
   "version": "3.11.5"
  }
 },
 "nbformat": 4,
 "nbformat_minor": 2
}
