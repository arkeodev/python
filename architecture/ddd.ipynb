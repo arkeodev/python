{
 "cells": [
  {
   "cell_type": "markdown",
   "metadata": {},
   "source": [
    "# Domain-Driven Design (DDD)"
   ]
  },
  {
   "cell_type": "markdown",
   "metadata": {},
   "source": [
    "## Introduction"
   ]
  },
  {
   "cell_type": "markdown",
   "metadata": {},
   "source": [
    "**Domain-Driven Design (DDD)** is an approach to software development that emphasizes the importance of the business domain and domain logic. The primary goal of DDD is to create a shared understanding of the domain between developers and domain experts and to translate that understanding into a software model.\n"
   ]
  },
  {
   "cell_type": "markdown",
   "metadata": {},
   "source": [
    "## Key Concepts and Principles"
   ]
  },
  {
   "cell_type": "markdown",
   "metadata": {},
   "source": [
    "1. **Domain**: The sphere of knowledge and activity around which the business logic revolves. For example, in an e-commerce application, the domain would include products, orders, customers, etc.\n",
    "\n",
    "2. **Ubiquitous Language**: A common language used by both developers and domain experts to describe the domain. This language should be used in code, documentation, and discussions.\n",
    "\n",
    "3. **Bounded Context**: A boundary within which a particular domain model is defined and applicable. Different parts of a large system might have different models and bounded contexts.\n",
    "\n",
    "4. **Entities**: Objects that have a distinct identity that runs through time and different states. For example, a customer or an order in an e-commerce system.\n",
    "\n",
    "5. **Value Objects**: Objects that describe some characteristics or attributes but have no distinct identity. For example, an address or a date range.\n",
    "\n",
    "6. **Aggregates**: A cluster of domain objects that can be treated as a single unit. An aggregate always has a root entity, referred to as the aggregate root, that guarantees the consistency of changes within the aggregate.\n",
    "\n",
    "7. **Repositories**: Mechanisms for encapsulating storage, retrieval, and search behavior which emulates a collection of objects.\n",
    "\n",
    "8. **Factories**: Encapsulate the creation of complex objects and aggregates.\n",
    "\n",
    "9. **Services**: Operations or functionalities that don’t naturally fit within an entity or value object."
   ]
  },
  {
   "cell_type": "markdown",
   "metadata": {},
   "source": [
    "## Step-by-Step Guide with an e-commerce Application"
   ]
  },
  {
   "cell_type": "markdown",
   "metadata": {},
   "source": [
    "### Step 1: Define the Domain and Ubiquitous Language"
   ]
  },
  {
   "cell_type": "markdown",
   "metadata": {},
   "source": [
    "Let's consider an example of an e-commerce application. We'll start by defining the domain and creating a ubiquitous language.\n",
    "\n",
    "- **Domain**: E-commerce\n",
    "- **Entities**: Product, Customer, Order\n",
    "- **Value Objects**: Address, Money\n",
    "- **Aggregates**: Order (comprising OrderLine, Customer, ShippingAddress)\n",
    "- **Services**: OrderService, PaymentService\n",
    "- **Repositories**: ProductRepository, OrderRepository"
   ]
  },
  {
   "cell_type": "markdown",
   "metadata": {},
   "source": [
    "### Step 2: Define Entities and Value Objects\n",
    "\n",
    "We'll create a few classes to represent entities and value objects."
   ]
  },
  {
   "cell_type": "code",
   "execution_count": 22,
   "metadata": {},
   "outputs": [],
   "source": [
    "from dataclasses import dataclass\n",
    "from typing import List\n",
    "\n",
    "# Value Object\n",
    "@dataclass(frozen=True)\n",
    "class Money:\n",
    "    amount: float\n",
    "    currency: str\n",
    "\n",
    "# Value Object\n",
    "@dataclass(frozen=True)\n",
    "class Address:\n",
    "    street: str\n",
    "    city: str\n",
    "    postal_code: str\n",
    "    country: str\n",
    "\n",
    "# Entity\n",
    "@dataclass\n",
    "class Customer:\n",
    "    customer_id: int\n",
    "    name: str\n",
    "    email: str\n",
    "    shipping_address: Address\n",
    "\n",
    "# Entity\n",
    "@dataclass\n",
    "class Product:\n",
    "    product_id: int\n",
    "    name: str\n",
    "    price: Money\n",
    "\n",
    "# Entity\n",
    "@dataclass\n",
    "class OrderLine:\n",
    "    product: Product\n",
    "    quantity: int\n",
    "    price: Money\n",
    "\n",
    "# Aggregate Root\n",
    "@dataclass\n",
    "class Order:\n",
    "    order_id: int\n",
    "    customer: Customer\n",
    "    shipping_address: Address\n",
    "    order_lines: List[OrderLine]\n",
    "    total: Money"
   ]
  },
  {
   "cell_type": "markdown",
   "metadata": {},
   "source": [
    "### Step 3: Define Repositories\n",
    "\n",
    "Repositories are responsible for retrieving and storing aggregates. We'll create interfaces for repositories."
   ]
  },
  {
   "cell_type": "code",
   "execution_count": 23,
   "metadata": {},
   "outputs": [],
   "source": [
    "from abc import ABC, abstractmethod\n",
    "\n",
    "class OrderRepository(ABC):\n",
    "    @abstractmethod\n",
    "    def save(self, order: Order) -> None:\n",
    "        pass\n",
    "    \n",
    "    @abstractmethod\n",
    "    def find_by_id(self, order_id: int) -> Order:\n",
    "        pass\n",
    "\n",
    "class ProductRepository(ABC):\n",
    "    @abstractmethod\n",
    "    def find_by_id(self, product_id: int) -> Product:\n",
    "        pass"
   ]
  },
  {
   "cell_type": "markdown",
   "metadata": {},
   "source": [
    "### Step 4: Define Services\n",
    "\n",
    "Services perform operations that don't naturally fit within an entity or value object. We'll define an `OrderService`."
   ]
  },
  {
   "cell_type": "code",
   "execution_count": 24,
   "metadata": {},
   "outputs": [],
   "source": [
    "class OrderService:\n",
    "    def __init__(self, order_repository: OrderRepository, product_repository: ProductRepository):\n",
    "        self.order_repository = order_repository\n",
    "        self.product_repository = product_repository\n",
    "\n",
    "    def create_order(self, customer: Customer, shipping_address: Address, product_quantities: List[tuple]) -> Order:\n",
    "        order_lines = []\n",
    "        total_amount = 0.0\n",
    "        currency = 'EUR'  # Assuming a single currency for simplicity\n",
    "\n",
    "        for product_id, quantity in product_quantities:\n",
    "            product = self.product_repository.find_by_id(product_id)\n",
    "            order_line = OrderLine(\n",
    "                product=product,\n",
    "                quantity=quantity,\n",
    "                price=Money(amount=product.price.amount * quantity, currency=product.price.currency)\n",
    "            )\n",
    "            order_lines.append(order_line)\n",
    "            total_amount += order_line.price.amount\n",
    "\n",
    "        order = Order(\n",
    "            order_id=123,  # Ideally, this should be generated uniquely\n",
    "            customer=customer,\n",
    "            shipping_address=shipping_address,\n",
    "            order_lines=order_lines,\n",
    "            total=Money(amount=total_amount, currency=currency)\n",
    "        )\n",
    "\n",
    "        self.order_repository.save(order)\n",
    "        return order"
   ]
  },
  {
   "cell_type": "markdown",
   "metadata": {},
   "source": [
    "### Step 5: Implement Repositories (Mock Implementation)\n",
    "\n",
    "To test our service, we'll create mock implementations of our repositories."
   ]
  },
  {
   "cell_type": "code",
   "execution_count": 25,
   "metadata": {},
   "outputs": [],
   "source": [
    "class InMemoryOrderRepository(OrderRepository):\n",
    "    def __init__(self):\n",
    "        self.orders = {}\n",
    "\n",
    "    def save(self, order: Order) -> None:\n",
    "        self.orders[order.order_id] = order\n",
    "    \n",
    "    def find_by_id(self, order_id: int) -> Order:\n",
    "        return self.orders.get(order_id)\n",
    "\n",
    "class InMemoryProductRepository(ProductRepository):\n",
    "    def __init__(self):\n",
    "        self.products = {\n",
    "            1: Product(1, \"Laptop\", Money(1000.0, \"EUR\")),\n",
    "            2: Product(2, \"Mouse\", Money(50.0, \"EUR\"))\n",
    "        }\n",
    "\n",
    "    def find_by_id(self, product_id: int) -> Product:\n",
    "        return self.products.get(product_id)"
   ]
  },
  {
   "cell_type": "markdown",
   "metadata": {},
   "source": [
    "### Step 6: Use the Service to Create an Order\n",
    "\n",
    "Now, let's use our `OrderService` to create an order."
   ]
  },
  {
   "cell_type": "code",
   "execution_count": 26,
   "metadata": {},
   "outputs": [
    {
     "name": "stdout",
     "output_type": "stream",
     "text": [
      "Order(order_id=123, customer=Customer(customer_id=1, name='Albert Einstein', email='einstein@sample.com', shipping_address=Address(street='123 Main St', city='Munich', postal_code='80888', country='Germany')), shipping_address=Address(street='123 Main St', city='Munich', postal_code='80888', country='Germany'), order_lines=[OrderLine(product=Product(product_id=1, name='Laptop', price=Money(amount=1000.0, currency='EUR')), quantity=1, price=Money(amount=1000.0, currency='EUR')), OrderLine(product=Product(product_id=2, name='Mouse', price=Money(amount=50.0, currency='EUR')), quantity=2, price=Money(amount=100.0, currency='EUR'))], total=Money(amount=1100.0, currency='EUR'))\n"
     ]
    }
   ],
   "source": [
    "# Setup repositories\n",
    "order_repository = InMemoryOrderRepository()\n",
    "product_repository = InMemoryProductRepository()\n",
    "\n",
    "# Create service\n",
    "order_service = OrderService(order_repository, product_repository)\n",
    "\n",
    "# Create a customer and address\n",
    "customer = Customer(customer_id=1, name=\"Albert Einstein\", email=\"einstein@sample.com\",\n",
    "                    shipping_address=Address(street=\"123 Main St\", city=\"Munich\", postal_code=\"80888\", country=\"Germany\"))\n",
    "\n",
    "# Create an order\n",
    "order = order_service.create_order(customer, customer.shipping_address, [(1, 1), (2, 2)])\n",
    "\n",
    "print(order)"
   ]
  },
  {
   "cell_type": "markdown",
   "metadata": {},
   "source": [
    "## Conclusion"
   ]
  },
  {
   "cell_type": "markdown",
   "metadata": {},
   "source": [
    "By following DDD principles, you can create software that accurately reflects the business domain and is easier to maintain and extend over time."
   ]
  }
 ],
 "metadata": {
  "kernelspec": {
   "display_name": "pytorch",
   "language": "python",
   "name": "python3"
  },
  "language_info": {
   "codemirror_mode": {
    "name": "ipython",
    "version": 3
   },
   "file_extension": ".py",
   "mimetype": "text/x-python",
   "name": "python",
   "nbconvert_exporter": "python",
   "pygments_lexer": "ipython3",
   "version": "3.11.5"
  }
 },
 "nbformat": 4,
 "nbformat_minor": 2
}
