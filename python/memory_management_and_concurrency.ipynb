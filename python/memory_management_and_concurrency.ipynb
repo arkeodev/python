{
 "cells": [
  {
   "cell_type": "markdown",
   "metadata": {},
   "source": [
    "# Memory Management and Concurrency"
   ]
  },
  {
   "cell_type": "markdown",
   "metadata": {},
   "source": [
    "## Memory Management Overview in Python"
   ]
  },
  {
   "cell_type": "markdown",
   "metadata": {},
   "source": [
    "Memory management in Python is handled automatically by the Python memory manager. The process involves a combination of techniques including garbage collection, reference counting, and a private heap space for managing objects and data structures.\n",
    "\n",
    "**Key Components**\n",
    "\n",
    "1. **Private Heap Space**: Python memory management is centered around a private heap containing all Python objects and data structures. The allocation of this heap is managed by the Python memory manager.\n",
    "\n",
    "2. **Reference Counting**: Python internally keeps track of the number of references to an object in the system. When an object’s reference count drops to zero, Python automatically reclaims the memory it occupied.\n",
    "\n",
    "3. **Garbage Collection**: Python uses a garbage collector that periodically searches for groups of objects that are only accessible by each other, and therefore can be safely deleted. The garbage collector is based on the \"generation\" concept, where objects are categorized based on their longevity.\n",
    "\n",
    "4. **Memory Pools**: Python employs a system of memory pools for managing small blocks of memory. When a Python object is destroyed, its memory block isn't immediately returned to the OS but is kept in a pool to be reused by future objects."
   ]
  },
  {
   "cell_type": "markdown",
   "metadata": {},
   "source": [
    "## Private Heap Space in Python"
   ]
  },
  {
   "cell_type": "markdown",
   "metadata": {},
   "source": [
    "**Private heap space** in Python refers to a dedicated area of memory reserved for the Python interpreter to store objects. Unlike other programming languages where the heap is directly managed by the programmer, Python manages the heap automatically, providing a higher level of abstraction."
   ]
  },
  {
   "cell_type": "markdown",
   "metadata": {},
   "source": [
    "### How Private Heap Space Works"
   ]
  },
  {
   "cell_type": "markdown",
   "metadata": {},
   "source": [
    "- **Memory Allocation:** Python allocates memory from the private heap space for all Python objects and data structures.\n",
    "- **Automatic Management:** The Python memory manager handles the allocation and deallocation of heap space, abstracting away the complexity from the programmer.\n",
    "- **Garbage Collection:** Python uses garbage collection techniques to reclaim memory from objects that are no longer in use, helping to prevent memory leaks.\n",
    "\n",
    "```\n",
    "+-------------------------------+\n",
    "|      Python Memory Space      |\n",
    "+-------------------------------+\n",
    "|                               |\n",
    "|  +-------------------------+  |\n",
    "|  |    Private Heap Space   |  |\n",
    "|  +-------------------------+  |\n",
    "|  |                         |  |\n",
    "|  |  +-------+  +-------+   |  |\n",
    "|  |  | Obj 1 |  | Obj 2 |   |  |\n",
    "|  |  +-------+  +-------+   |  |\n",
    "|  |                         |  |\n",
    "|  +-------------------------+  |\n",
    "|                               |\n",
    "+-------------------------------+\n",
    "```"
   ]
  },
  {
   "cell_type": "markdown",
   "metadata": {},
   "source": [
    "### Memory Management Techniques\n",
    "\n",
    "Python employs several techniques to manage memory within the private heap space:"
   ]
  },
  {
   "cell_type": "markdown",
   "metadata": {},
   "source": [
    "#### Reference Counting"
   ]
  },
  {
   "cell_type": "markdown",
   "metadata": {},
   "source": [
    "Python uses reference counting to keep track of the number of references to each object. When the count drops to zero, the memory is deallocated."
   ]
  },
  {
   "cell_type": "code",
   "execution_count": 11,
   "metadata": {},
   "outputs": [],
   "source": [
    "# Example: Reference Counting\n",
    "class MyClass:\n",
    "    def __init__(self, value):\n",
    "        self.value = value\n",
    "\n",
    "obj1 = MyClass(10)\n",
    "obj2 = obj1  # Reference count for obj1 is now 2\n",
    "del obj1     # Reference count for obj1 is now 1\n",
    "del obj2     # Reference count for obj1 is now 0, memory is deallocated"
   ]
  },
  {
   "cell_type": "markdown",
   "metadata": {},
   "source": [
    "#### Garbage Collection"
   ]
  },
  {
   "cell_type": "markdown",
   "metadata": {},
   "source": [
    "While reference counting is efficient, it cannot handle cyclic references. Python's garbage collector supplements reference counting by identifying and collecting cyclic garbage."
   ]
  },
  {
   "cell_type": "code",
   "execution_count": 12,
   "metadata": {},
   "outputs": [],
   "source": [
    "# Example: Cyclic Reference \n",
    "a = []\n",
    "b = []\n",
    "a.append(b)\n",
    "b.append(a)\n",
    "# Both a and b are part of a reference cycle"
   ]
  },
  {
   "cell_type": "markdown",
   "metadata": {},
   "source": [
    "Python's garbage collector uses a technique called **generational garbage collection**. It categorizes objects into three generations based on their lifespan:\n",
    "- **Generation 0:** Newly created objects\n",
    "- **Generation 1:** Survived one garbage collection\n",
    "- **Generation 2:** Survived multiple garbage collections\n",
    "\n",
    "Objects in higher generations are collected less frequently, optimizing performance.\n",
    "\n",
    "```\n",
    "+------------------------+\n",
    "|   Generation 2         | <--- Collected Least Frequently\n",
    "+------------------------+\n",
    "|   Generation 1         | <--- Collected Occasionally\n",
    "+------------------------+\n",
    "|   Generation 0         | <--- Collected Most Frequently\n",
    "+------------------------+\n",
    "```"
   ]
  },
  {
   "cell_type": "markdown",
   "metadata": {},
   "source": [
    "#### Object Caching"
   ]
  },
  {
   "cell_type": "markdown",
   "metadata": {},
   "source": [
    "Python caches frequently used objects to optimize memory usage. For example, small integers and short strings are cached to avoid repeated allocations and deallocations."
   ]
  },
  {
   "cell_type": "markdown",
   "metadata": {},
   "source": [
    "### Monitoring Memory Usage"
   ]
  },
  {
   "cell_type": "code",
   "execution_count": 13,
   "metadata": {},
   "outputs": [
    {
     "name": "stdout",
     "output_type": "stream",
     "text": [
      "3\n"
     ]
    },
    {
     "data": {
      "text/plain": [
       "8"
      ]
     },
     "execution_count": 13,
     "metadata": {},
     "output_type": "execute_result"
    }
   ],
   "source": [
    "# Example: Monitoring Memory Usage\n",
    "import gc\n",
    "import sys\n",
    "\n",
    "# Enable automatic garbage collection\n",
    "gc.enable()\n",
    "\n",
    "# Create objects\n",
    "a = [1, 2, 3]\n",
    "b = a\n",
    "\n",
    "# Print reference count\n",
    "print(sys.getrefcount(a)) # including the argument to getrefcount\n",
    "\n",
    "# Force garbage collection\n",
    "gc.collect()"
   ]
  },
  {
   "cell_type": "markdown",
   "metadata": {},
   "source": [
    "## Concurrency in Python"
   ]
  },
  {
   "cell_type": "markdown",
   "metadata": {},
   "source": [
    "Concurrency in computing refers to the ability to execute multiple tasks or processes simultaneously. Python provides two primary concurrency mechanisms: **multithreading** and **multiprocessing**. Each has distinct characteristics and is suitable for different types of tasks."
   ]
  },
  {
   "cell_type": "markdown",
   "metadata": {},
   "source": [
    "### Multithreading in Python"
   ]
  },
  {
   "cell_type": "markdown",
   "metadata": {},
   "source": [
    "**Threads** are the smallest units of a process that can be scheduled and executed by the operating system. In a multithreading environment, a single process can have multiple threads running concurrently, sharing the same memory space. Python's `threading` module enables multithreading."
   ]
  },
  {
   "cell_type": "markdown",
   "metadata": {},
   "source": [
    "**Key Points about Multithreading:**\n",
    "\n",
    "- **Shared Memory:** Threads within the same process share the same memory, which makes data sharing between threads more straightforward but requires careful synchronization to prevent conflicts.\n",
    "\n",
    "- **Global Interpreter Lock (GIL):** Python's GIL is a mutex that protects access to Python objects, preventing multiple native threads from executing Python bytecodes simultaneously. This means that in the standard CPython implementation, only one thread executes Python code at a time, which can be a limitation for CPU-bound tasks but is less of an issue for I/O-bound tasks.\n",
    "\n",
    "- **I/O-bound Tasks:** Multithreading is well-suited for tasks that spend a lot of time waiting for I/O operations, such as reading from a disk, network communication, or user input."
   ]
  },
  {
   "cell_type": "code",
   "execution_count": 14,
   "metadata": {},
   "outputs": [
    {
     "name": "stdout",
     "output_type": "stream",
     "text": [
      "Task is running\n"
     ]
    }
   ],
   "source": [
    "# Example: Multithreading\n",
    "import threading\n",
    "\n",
    "def task():\n",
    "    print(\"Task is running\")\n",
    "\n",
    "thread = threading.Thread(target=task)\n",
    "thread.start()\n",
    "thread.join()"
   ]
  },
  {
   "cell_type": "markdown",
   "metadata": {},
   "source": [
    "### Multiprocessing in Python"
   ]
  },
  {
   "cell_type": "markdown",
   "metadata": {},
   "source": [
    "**Processes** are independent execution units that have their own memory space. Python's `multiprocessing` module enables the creation of separate processes that can run concurrently on different CPU cores, bypassing the GIL."
   ]
  },
  {
   "cell_type": "markdown",
   "metadata": {},
   "source": [
    "**Key Points about Multiprocessing:**\n",
    "\n",
    "- **Separate Memory:** Each process runs in its own memory space, which means there's no shared state between processes. This isolation prevents data corruption but requires inter-process communication (IPC) mechanisms like pipes or queues to exchange data.\n",
    "\n",
    "- **Bypassing the GIL:** Since each process has its own Python interpreter and memory space, multiprocessing allows Python to utilize multiple CPU cores, making it suitable for CPU-bound tasks.\n",
    "\n",
    "- **CPU-bound Tasks:** Multiprocessing is ideal for tasks that require significant computation and can benefit from parallel execution on multiple CPU cores."
   ]
  },
  {
   "cell_type": "code",
   "execution_count": 15,
   "metadata": {},
   "outputs": [
    {
     "name": "stdout",
     "output_type": "stream",
     "text": [
      "Worker: 0\n",
      "Worker: 1\n",
      "Worker: 2\n",
      "Worker: 3\n",
      "Worker: 4\n",
      "Worker 0 finished\n",
      "Worker 1 finishedWorker 2 finishedWorker 3 finished\n",
      "\n",
      "\n",
      "Worker 4 finished\n",
      "All processes complete\n"
     ]
    }
   ],
   "source": [
    "! python modules/multiprocessing_example.py\n"
   ]
  },
  {
   "cell_type": "markdown",
   "metadata": {},
   "source": [
    "### Practical Considerations"
   ]
  },
  {
   "cell_type": "markdown",
   "metadata": {},
   "source": [
    "- **Choosing Between Threads and Processes:** \n",
    "  - Use **multithreading** for tasks that involve a lot of waiting (I/O-bound tasks), such as network requests or file operations.\n",
    "  - Use **multiprocessing** for tasks that require significant computation and can be parallelized (CPU-bound tasks), such as data processing or mathematical calculations.\n",
    "\n",
    "- **Synchronization and Communication:** \n",
    "  - In multithreading, use synchronization primitives like locks, semaphores, and condition variables to manage shared resources.\n",
    "  - In multiprocessing, use queues, pipes, and shared memory to handle inter-process communication."
   ]
  }
 ],
 "metadata": {
  "kernelspec": {
   "display_name": "pytorch",
   "language": "python",
   "name": "python3"
  },
  "language_info": {
   "codemirror_mode": {
    "name": "ipython",
    "version": 3
   },
   "file_extension": ".py",
   "mimetype": "text/x-python",
   "name": "python",
   "nbconvert_exporter": "python",
   "pygments_lexer": "ipython3",
   "version": "3.11.5"
  }
 },
 "nbformat": 4,
 "nbformat_minor": 2
}
