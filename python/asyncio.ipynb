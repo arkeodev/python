{
 "cells": [
  {
   "cell_type": "markdown",
   "metadata": {},
   "source": [
    "# Python’s Asyncio"
   ]
  },
  {
   "cell_type": "markdown",
   "metadata": {},
   "source": [
    "Concurrency is the ability of a program to manage multiple tasks at the same time, making efficient use of resources like the CPU. It doesn't mean tasks are happening simultaneously but rather that the program can switch between tasks quickly, so it seems like they are running together. This is crucial for operations that involve waiting, like reading files, fetching data from the internet, or interacting with a database. Without concurrency, a program would waste time sitting idle during these waiting periods.\n",
    "\n",
    "We need concurrency to improve the performance and responsiveness of applications, especially those that handle multiple I/O-bound tasks. For example, a web server can handle requests from many users at once without making each user wait for others to finish. We use concurrency in scenarios where tasks can be paused and resumed, allowing the program to keep working on other tasks in the meantime. This approach is common in network services, real-time data processing, and user interface applications, where maintaining a smooth, responsive experience is key."
   ]
  },
  {
   "cell_type": "code",
   "execution_count": 2,
   "metadata": {},
   "outputs": [],
   "source": [
    "import nest_asyncio\n",
    "import asyncio\n",
    "import time\n",
    "import aiohttp\n",
    "import aiofiles\n",
    "\n",
    "# Allow asyncio to run in Jupyter Notebooks\n",
    "nest_asyncio.apply()"
   ]
  },
  {
   "cell_type": "markdown",
   "metadata": {},
   "source": [
    "## Python Asyncio Concepts"
   ]
  },
  {
   "cell_type": "markdown",
   "metadata": {},
   "source": [
    "### Event Loop"
   ]
  },
  {
   "cell_type": "markdown",
   "metadata": {},
   "source": [
    "The event loop is the central hub of Python's `asyncio` framework, responsible for managing the execution of asynchronous tasks. It continually checks for tasks that are ready to run and dispatches them accordingly, ensuring that no task blocks the others unnecessarily. When a task is paused because it's waiting for something (like a network response or a timer), the event loop picks up another task that is ready to run, allowing the program to make progress even when some tasks are idle. Think of the event loop as a director in a theater, ensuring that each actor (task) knows when to step on stage and when to step back, allowing the show (your program) to flow smoothly without delays.\n",
    "\n",
    "In practical terms, the event loop keeps track of all the asynchronous tasks, managing when they start, pause, and finish. It efficiently handles these tasks by making sure the CPU isn't wasted on tasks that are just waiting. This makes it an essential part of writing non-blocking, concurrent programs, where you can run many I/O-bound operations simultaneously without waiting for each to complete one by one."
   ]
  },
  {
   "cell_type": "markdown",
   "metadata": {},
   "source": [
    "### Coroutines"
   ]
  },
  {
   "cell_type": "markdown",
   "metadata": {},
   "source": [
    "Coroutines are the building blocks of asynchronous programming in Python, defined using the `async def` syntax. Unlike regular functions, coroutines can pause their execution at certain points (using `await`) and yield control back to the event loop. This allows other tasks to run while the coroutine is waiting, making the overall execution more efficient. Coroutines are like actors in a play who pause their performance when they need to, allowing others to take the stage. Once the necessary condition is met (like the completion of an I/O operation), the coroutine resumes its execution from where it left off.\n",
    "\n",
    "For example, consider a coroutine that needs to wait for a web page to load. Instead of blocking the entire program, it pauses and lets other tasks (like loading another web page) run. This makes coroutines ideal for tasks that involve waiting, as they keep the event loop active and other tasks moving forward, ensuring that your application remains responsive."
   ]
  },
  {
   "cell_type": "markdown",
   "metadata": {},
   "source": [
    "### Futures and Tasks"
   ]
  },
  {
   "cell_type": "markdown",
   "metadata": {},
   "source": [
    "A Future in `asyncio` represents a result that hasn't been computed yet but will be available at some point in the future. It's essentially a placeholder that allows the program to continue running other tasks while waiting for a particular result. Futures are low-level objects that are usually handled by the event loop, and they're not often created directly by developers when writing high-level asynchronous code. However, understanding them is crucial when dealing with more complex async operations, as they provide a mechanism to manage results that aren’t immediately available.\n",
    "\n",
    "Tasks, on the other hand, are a higher-level abstraction built on top of Futures. When you schedule a coroutine to run with `asyncio.create_task()`, it is wrapped in a Task, which is then managed by the event loop. Tasks are what you usually work with in `asyncio` to run coroutines concurrently. They ensure that the coroutine's execution is tracked and that its result (or exception) is captured and handled once it's done. Tasks are the practical way to handle multiple operations that can run independently, making them an essential tool for building responsive and efficient applications."
   ]
  },
  {
   "cell_type": "markdown",
   "metadata": {},
   "source": [
    "## Getting Started with Asyncio"
   ]
  },
  {
   "cell_type": "markdown",
   "metadata": {},
   "source": [
    "### Basic Asyncio Example: Printing a Message"
   ]
  },
  {
   "cell_type": "code",
   "execution_count": 3,
   "metadata": {},
   "outputs": [
    {
     "name": "stdout",
     "output_type": "stream",
     "text": [
      "Hello, Async World!\n"
     ]
    }
   ],
   "source": [
    "async def say_hello_async():\n",
    "    await asyncio.sleep(2)\n",
    "    print(\"Hello, Async World!\")\n",
    "\n",
    "await say_hello_async()"
   ]
  },
  {
   "cell_type": "markdown",
   "metadata": {},
   "source": [
    "### Running Multiple Tasks Concurrently"
   ]
  },
  {
   "cell_type": "markdown",
   "metadata": {},
   "source": [
    "Asyncio shines when doing multiple tasks concurrently."
   ]
  },
  {
   "cell_type": "code",
   "execution_count": 4,
   "metadata": {},
   "outputs": [
    {
     "name": "stdout",
     "output_type": "stream",
     "text": [
      "Doing something else...\n",
      "Finished something else.\n",
      "Hello, Async World!\n"
     ]
    },
    {
     "data": {
      "text/plain": [
       "[None, None]"
      ]
     },
     "execution_count": 4,
     "metadata": {},
     "output_type": "execute_result"
    }
   ],
   "source": [
    "async def say_hello_async():\n",
    "    await asyncio.sleep(2)\n",
    "    print(\"Hello, Async World!\")\n",
    "\n",
    "async def do_something_else():\n",
    "    print(\"Doing something else...\")\n",
    "    await asyncio.sleep(1)\n",
    "    print(\"Finished something else.\")\n",
    "\n",
    "await asyncio.gather(say_hello_async(), do_something_else())"
   ]
  },
  {
   "cell_type": "markdown",
   "metadata": {},
   "source": [
    "### Synchronous vs. Asynchronous HTTP Requests"
   ]
  },
  {
   "cell_type": "markdown",
   "metadata": {},
   "source": [
    "#### Synchronous Example:"
   ]
  },
  {
   "cell_type": "code",
   "execution_count": 5,
   "metadata": {},
   "outputs": [
    {
     "name": "stdout",
     "output_type": "stream",
     "text": [
      "Done in 0.45296788215637207 seconds\n"
     ]
    }
   ],
   "source": [
    "import requests\n",
    "\n",
    "def fetch_sync(url):\n",
    "    return requests.get(url).text\n",
    "\n",
    "start_time = time.time()\n",
    "page1 = fetch_sync('http://example.com')\n",
    "page2 = fetch_sync('http://example.org')\n",
    "print(f\"Done in {time.time() - start_time} seconds\")"
   ]
  },
  {
   "cell_type": "markdown",
   "metadata": {},
   "source": [
    "#### Asynchronous Example:"
   ]
  },
  {
   "cell_type": "code",
   "execution_count": 6,
   "metadata": {},
   "outputs": [
    {
     "name": "stdout",
     "output_type": "stream",
     "text": [
      "Done in 0.22742891311645508 seconds\n"
     ]
    }
   ],
   "source": [
    "async def fetch_async(url, session):\n",
    "    async with session.get(url) as response:\n",
    "        return await response.text()\n",
    "\n",
    "async def main():\n",
    "    async with aiohttp.ClientSession() as session:\n",
    "        page1 = asyncio.create_task(fetch_async('http://example.com', session))\n",
    "        page2 = asyncio.create_task(fetch_async('http://example.org', session))\n",
    "        await asyncio.gather(page1, page2)\n",
    "\n",
    "start_time = time.time()\n",
    "await main()\n",
    "print(f\"Done in {time.time() - start_time} seconds\")"
   ]
  },
  {
   "cell_type": "markdown",
   "metadata": {},
   "source": [
    "### Asynchronous File Reading with aiofiles"
   ]
  },
  {
   "cell_type": "markdown",
   "metadata": {},
   "source": [
    "Use `aiofiles` to read files without blocking the event loop."
   ]
  },
  {
   "cell_type": "code",
   "execution_count": 7,
   "metadata": {},
   "outputs": [
    {
     "name": "stdout",
     "output_type": "stream",
     "text": [
      "['2024-05-21 12:00:00 - INFO - This is an informational message.\\n2024-05-21 12:01:00 - ERROR - This is an error message.\\n2024-05-21 12:02:00 - WARNING - This is a warning message.\\n2024-05-21 12:03:00 - ERROR - Another error occurred.\\n2024-05-21 12:04:00 - INFO - Another informational message.\\n2024-05-21 12:05:00 - ERROR - Yet another error message.\\n2024-05-21 12:06:00 - INFO - More info.\\n2024-05-21 12:07:00 - ERROR - Error with additional details.\\n2024-05-21 12:08:00 - WARNING - Warning with additional details.\\n2024-05-21 12:09:00 - ERROR - Final error message.', '21-05-2024 12:01:00 - ERROR - This is an error message.\\n21-05-2024 12:03:00 - ERROR - Another error occurred.\\n21-05-2024 12:05:00 - ERROR - Yet another error message.\\n21-05-2024 12:07:00 - ERROR - Error with additional details.\\n21-05-2024 12:09:00 - ERROR - Final error message.\\n']\n"
     ]
    }
   ],
   "source": [
    "async def read_file_async(filepath):\n",
    "    async with aiofiles.open(filepath, 'r') as file:\n",
    "        return await file.read()\n",
    "\n",
    "async def read_all_async(filepaths):\n",
    "    tasks = [read_file_async(filepath) for filepath in filepaths]\n",
    "    return await asyncio.gather(*tasks)\n",
    "\n",
    "filepaths = ['data/large_log_file.txt', 'data/processed_errors.txt']\n",
    "data = await read_all_async(filepaths)\n",
    "print(data)"
   ]
  },
  {
   "cell_type": "markdown",
   "metadata": {},
   "source": [
    "### Running Synchronous Functions Asynchronously"
   ]
  },
  {
   "cell_type": "markdown",
   "metadata": {},
   "source": [
    "Sometimes, you have to run blocking code (like old libraries) in an async environment."
   ]
  },
  {
   "cell_type": "code",
   "execution_count": 8,
   "metadata": {},
   "outputs": [
    {
     "name": "stdout",
     "output_type": "stream",
     "text": [
      "Starting a long sync task...\n",
      "Finished the sync task.\n"
     ]
    }
   ],
   "source": [
    "def sync_task():\n",
    "    print(\"Starting a long sync task...\")\n",
    "    time.sleep(5)\n",
    "    print(\"Finished the sync task.\")\n",
    "\n",
    "async def async_wrapper():\n",
    "    loop = asyncio.get_running_loop()\n",
    "    await loop.run_in_executor(None, sync_task)\n",
    "\n",
    "await async_wrapper()"
   ]
  },
  {
   "cell_type": "markdown",
   "metadata": {},
   "source": [
    "### Managing Futures in Asyncio"
   ]
  },
  {
   "cell_type": "markdown",
   "metadata": {},
   "source": [
    "A Future represents a result that isn’t available yet."
   ]
  },
  {
   "cell_type": "code",
   "execution_count": 9,
   "metadata": {},
   "outputs": [
    {
     "name": "stdout",
     "output_type": "stream",
     "text": [
      "Operation succeeded\n"
     ]
    }
   ],
   "source": [
    "async def async_operation(future, data):\n",
    "    await asyncio.sleep(1)\n",
    "    if data == \"success\":\n",
    "        future.set_result(\"Operation succeeded\")\n",
    "    else:\n",
    "        future.set_exception(RuntimeError(\"Operation failed\"))\n",
    "\n",
    "future = asyncio.Future()\n",
    "await async_operation(future, \"success\")\n",
    "if future.done():\n",
    "    print(future.result())"
   ]
  },
  {
   "cell_type": "markdown",
   "metadata": {},
   "source": [
    "## References"
   ]
  },
  {
   "cell_type": "markdown",
   "metadata": {},
   "source": [
    "1. [Python’s AsyncIO: An Introduction](https://realpython.com/async-io-python/)\n",
    "\n",
    "2. [Mastering Pythons Asyncio: A Practical Guide.](https://medium.com/@moraneus/mastering-pythons-asyncio-a-practical-guide-0a673265cf04)"
   ]
  }
 ],
 "metadata": {
  "kernelspec": {
   "display_name": "pytorch",
   "language": "python",
   "name": "python3"
  },
  "language_info": {
   "codemirror_mode": {
    "name": "ipython",
    "version": 3
   },
   "file_extension": ".py",
   "mimetype": "text/x-python",
   "name": "python",
   "nbconvert_exporter": "python",
   "pygments_lexer": "ipython3",
   "version": "3.11.5"
  }
 },
 "nbformat": 4,
 "nbformat_minor": 2
}
