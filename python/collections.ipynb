{
 "cells": [
  {
   "cell_type": "markdown",
   "metadata": {},
   "source": [
    "# Collections Module"
   ]
  },
  {
   "cell_type": "markdown",
   "metadata": {},
   "source": [
    "The `collections` module in Python provides specialized container datatypes that offer alternatives to Python's general-purpose built-in containers like `list`, `dict`, `set`, and `tuple`."
   ]
  },
  {
   "cell_type": "markdown",
   "metadata": {},
   "source": [
    "## 1. Counter"
   ]
  },
  {
   "cell_type": "markdown",
   "metadata": {},
   "source": [
    "The `Counter` class is a dictionary subclass for counting hashable objects. It is useful for counting items in an iterable or in a dictionary where the values are intended to be counts."
   ]
  },
  {
   "cell_type": "markdown",
   "metadata": {},
   "source": [
    "### Basic Usage"
   ]
  },
  {
   "cell_type": "code",
   "execution_count": 23,
   "metadata": {},
   "outputs": [
    {
     "name": "stdout",
     "output_type": "stream",
     "text": [
      "Counter({'apple': 3, 'banana': 2, 'orange': 1})\n"
     ]
    }
   ],
   "source": [
    "from collections import Counter\n",
    "\n",
    "# Count elements in a list\n",
    "fruits = ['apple', 'banana', 'apple', 'orange', 'banana', 'apple']\n",
    "fruit_counter = Counter(fruits)\n",
    "print(fruit_counter)"
   ]
  },
  {
   "cell_type": "markdown",
   "metadata": {},
   "source": [
    "### Methods"
   ]
  },
  {
   "cell_type": "markdown",
   "metadata": {},
   "source": [
    "- `elements()`: Returns an iterator over elements repeating each as many times as its count.\n",
    "- `most_common([n])`: Returns a list of the `n` most common elements and their counts.\n",
    "- `subtract()`: Subtracts element counts, but keeps only positive counts."
   ]
  },
  {
   "cell_type": "code",
   "execution_count": 24,
   "metadata": {},
   "outputs": [
    {
     "name": "stdout",
     "output_type": "stream",
     "text": [
      "[('apple', 3), ('banana', 2)]\n",
      "['apple', 'apple', 'apple', 'banana', 'banana', 'orange']\n",
      "Counter({'apple': 2, 'banana': 1, 'orange': -1})\n"
     ]
    }
   ],
   "source": [
    "# Most common elements\n",
    "print(fruit_counter.most_common(2))\n",
    "\n",
    "# Elements\n",
    "print(list(fruit_counter.elements()))\n",
    "\n",
    "# Subtract counts\n",
    "subtract_counter = Counter({'apple': 1, 'banana': 1, 'orange': 2})\n",
    "fruit_counter.subtract(subtract_counter)\n",
    "print(fruit_counter)"
   ]
  },
  {
   "cell_type": "markdown",
   "metadata": {},
   "source": [
    "## 2. defaultdict"
   ]
  },
  {
   "cell_type": "markdown",
   "metadata": {},
   "source": [
    "The `defaultdict` class is a dictionary subclass that calls a factory function to supply missing values."
   ]
  },
  {
   "cell_type": "markdown",
   "metadata": {},
   "source": [
    "### Basic Usage"
   ]
  },
  {
   "cell_type": "code",
   "execution_count": 25,
   "metadata": {},
   "outputs": [
    {
     "name": "stdout",
     "output_type": "stream",
     "text": [
      "defaultdict(<class 'int'>, {'apple': 1})\n"
     ]
    }
   ],
   "source": [
    "from collections import defaultdict\n",
    "\n",
    "# Default value of int (0)\n",
    "default_dict = defaultdict(int)\n",
    "default_dict['apple'] += 1\n",
    "print(default_dict)"
   ]
  },
  {
   "cell_type": "markdown",
   "metadata": {},
   "source": [
    "### Example: Grouping Items"
   ]
  },
  {
   "cell_type": "code",
   "execution_count": 26,
   "metadata": {},
   "outputs": [
    {
     "name": "stdout",
     "output_type": "stream",
     "text": [
      "defaultdict(<class 'list'>, {'a': ['Alice', 'Alicia'], 'b': ['Bob', 'Bobby']})\n"
     ]
    }
   ],
   "source": [
    "names = [('a', 'Alice'), ('b', 'Bob'), ('a', 'Alicia'), ('b', 'Bobby')]\n",
    "grouped_names = defaultdict(list)\n",
    "\n",
    "for key, name in names:\n",
    "    grouped_names[key].append(name)\n",
    "\n",
    "print(grouped_names)"
   ]
  },
  {
   "cell_type": "markdown",
   "metadata": {},
   "source": [
    "## 3. OrderedDict"
   ]
  },
  {
   "cell_type": "markdown",
   "metadata": {},
   "source": [
    "The `OrderedDict` class is a dictionary subclass that remembers the order entries were added."
   ]
  },
  {
   "cell_type": "markdown",
   "metadata": {},
   "source": [
    "### Basic Usage"
   ]
  },
  {
   "cell_type": "code",
   "execution_count": 27,
   "metadata": {},
   "outputs": [
    {
     "name": "stdout",
     "output_type": "stream",
     "text": [
      "OrderedDict([('one', 1), ('two', 2), ('three', 3)])\n"
     ]
    }
   ],
   "source": [
    "from collections import OrderedDict\n",
    "\n",
    "ordered_dict = OrderedDict()\n",
    "ordered_dict['one'] = 1\n",
    "ordered_dict['two'] = 2\n",
    "ordered_dict['three'] = 3\n",
    "print(ordered_dict)"
   ]
  },
  {
   "cell_type": "markdown",
   "metadata": {},
   "source": [
    "### Methods"
   ]
  },
  {
   "cell_type": "markdown",
   "metadata": {},
   "source": [
    "- `move_to_end()`: Move an existing key to either end of the dictionary.\n",
    "- `popitem()`: Remove and return a (key, value) pair in LIFO order if `last=True` (default) or FIFO order if `last=False`."
   ]
  },
  {
   "cell_type": "code",
   "execution_count": 28,
   "metadata": {},
   "outputs": [
    {
     "name": "stdout",
     "output_type": "stream",
     "text": [
      "OrderedDict([('two', 2), ('three', 3), ('one', 1)])\n",
      "OrderedDict([('two', 2), ('three', 3)])\n"
     ]
    }
   ],
   "source": [
    "ordered_dict.move_to_end('one')\n",
    "print(ordered_dict)\n",
    "\n",
    "ordered_dict.popitem()\n",
    "print(ordered_dict)"
   ]
  },
  {
   "cell_type": "markdown",
   "metadata": {},
   "source": [
    "## 4. namedtuple"
   ]
  },
  {
   "cell_type": "markdown",
   "metadata": {},
   "source": [
    "The `namedtuple` function returns a new tuple subclass named `typename`. The new subclass is used to create tuple-like objects that have fields accessible by attribute lookup as well as being indexable and iterable."
   ]
  },
  {
   "cell_type": "markdown",
   "metadata": {},
   "source": [
    "### Basic Usage"
   ]
  },
  {
   "cell_type": "code",
   "execution_count": 29,
   "metadata": {},
   "outputs": [
    {
     "name": "stdout",
     "output_type": "stream",
     "text": [
      "11 22\n"
     ]
    }
   ],
   "source": [
    "from collections import namedtuple\n",
    "\n",
    "Point = namedtuple('Point', 'x y')\n",
    "p = Point(11, y=22)\n",
    "print(p.x, p.y)"
   ]
  },
  {
   "cell_type": "markdown",
   "metadata": {},
   "source": [
    "### Example: Database Records"
   ]
  },
  {
   "cell_type": "code",
   "execution_count": 30,
   "metadata": {},
   "outputs": [
    {
     "name": "stdout",
     "output_type": "stream",
     "text": [
      "Alice is a Engineer\n",
      "Bob is a Analyst\n",
      "Charlie is a Manager\n"
     ]
    }
   ],
   "source": [
    "Employee = namedtuple('Employee', 'name, age, title')\n",
    "\n",
    "# Create a list of Employee namedtuples\n",
    "employees = [\n",
    "    Employee('Alice', 30, 'Engineer'),\n",
    "    Employee('Bob', 25, 'Analyst'),\n",
    "    Employee('Charlie', 35, 'Manager')\n",
    "]\n",
    "\n",
    "# Accessing namedtuple fields\n",
    "for employee in employees:\n",
    "    print(f'{employee.name} is a {employee.title}')"
   ]
  },
  {
   "cell_type": "markdown",
   "metadata": {},
   "source": [
    "## 5. deque"
   ]
  },
  {
   "cell_type": "markdown",
   "metadata": {},
   "source": [
    "The `deque` class is a list-like container with fast appends and pops on either end."
   ]
  },
  {
   "cell_type": "markdown",
   "metadata": {},
   "source": [
    "### Basic Usage"
   ]
  },
  {
   "cell_type": "code",
   "execution_count": 31,
   "metadata": {},
   "outputs": [
    {
     "name": "stdout",
     "output_type": "stream",
     "text": [
      "deque(['z', 'a', 'b', 'c', 'd'])\n"
     ]
    }
   ],
   "source": [
    "from collections import deque\n",
    "\n",
    "d = deque('abc')\n",
    "d.append('d')\n",
    "d.appendleft('z')\n",
    "print(d)"
   ]
  },
  {
   "cell_type": "markdown",
   "metadata": {},
   "source": [
    "### Methods"
   ]
  },
  {
   "cell_type": "markdown",
   "metadata": {},
   "source": [
    "- `append()`, `appendleft()`: Add elements to the right or left end.\n",
    "- `pop()`, `popleft()`: Remove elements from the right or left end.\n",
    "- `rotate()`: Rotate the deque n steps to the right. If n is negative, rotate to the left."
   ]
  },
  {
   "cell_type": "code",
   "execution_count": 32,
   "metadata": {},
   "outputs": [
    {
     "name": "stdout",
     "output_type": "stream",
     "text": [
      "deque(['d', 'z', 'a', 'b', 'c'])\n",
      "deque(['z', 'a', 'b'])\n"
     ]
    }
   ],
   "source": [
    "# Rotate deque\n",
    "d.rotate(1)\n",
    "print(d)\n",
    "\n",
    "# Pop elements\n",
    "d.pop()\n",
    "d.popleft()\n",
    "print(d)"
   ]
  },
  {
   "cell_type": "markdown",
   "metadata": {},
   "source": [
    "### Example: Sliding Window"
   ]
  },
  {
   "cell_type": "code",
   "execution_count": 33,
   "metadata": {},
   "outputs": [
    {
     "name": "stdout",
     "output_type": "stream",
     "text": [
      "[('a', 'b', 'c'), ('b', 'c', 'd'), ('c', 'd', 'e'), ('d', 'e', 'f'), ('e', 'f', 'g')]\n"
     ]
    }
   ],
   "source": [
    "def sliding_window(iterable, n=2):\n",
    "    it = iter(iterable)\n",
    "    window = deque((next(it) for _ in range(n)), maxlen=n)\n",
    "    yield tuple(window)\n",
    "    for elem in it:\n",
    "        window.append(elem)\n",
    "        yield tuple(window)\n",
    "\n",
    "print(list(sliding_window('abcdefg', 3)))"
   ]
  },
  {
   "cell_type": "markdown",
   "metadata": {},
   "source": [
    "## 6. ChainMap"
   ]
  },
  {
   "cell_type": "markdown",
   "metadata": {},
   "source": [
    "The `ChainMap` class groups multiple dictionaries into a single view for lookups."
   ]
  },
  {
   "cell_type": "markdown",
   "metadata": {},
   "source": [
    "### Basic Usage"
   ]
  },
  {
   "cell_type": "code",
   "execution_count": 34,
   "metadata": {},
   "outputs": [
    {
     "name": "stdout",
     "output_type": "stream",
     "text": [
      "ChainMap({'one': 1, 'two': 2}, {'three': 3, 'four': 4})\n"
     ]
    }
   ],
   "source": [
    "from collections import ChainMap\n",
    "\n",
    "dict1 = {'one': 1, 'two': 2}\n",
    "dict2 = {'three': 3, 'four': 4}\n",
    "chain = ChainMap(dict1, dict2)\n",
    "print(chain)"
   ]
  },
  {
   "cell_type": "markdown",
   "metadata": {},
   "source": [
    "### Example: Configuration Management"
   ]
  },
  {
   "cell_type": "code",
   "execution_count": 35,
   "metadata": {},
   "outputs": [
    {
     "name": "stdout",
     "output_type": "stream",
     "text": [
      "Dark\n",
      "English\n"
     ]
    }
   ],
   "source": [
    "import os\n",
    "from collections import ChainMap\n",
    "\n",
    "# Default configuration\n",
    "defaults = {'theme': 'Default', 'language': 'English'}\n",
    "\n",
    "# User-specific configuration\n",
    "user_config = {'theme': 'Dark'}\n",
    "\n",
    "# Environment variables configuration\n",
    "env_config = {'language': os.getenv('LANGUAGE', 'English')}\n",
    "\n",
    "# Combine configurations with ChainMap\n",
    "config = ChainMap(user_config, env_config, defaults)\n",
    "print(config['theme'])\n",
    "print(config['language'])"
   ]
  },
  {
   "cell_type": "markdown",
   "metadata": {},
   "source": [
    "## 7. UserDict, UserList, UserString"
   ]
  },
  {
   "cell_type": "markdown",
   "metadata": {},
   "source": [
    "These classes act as wrappers around standard dictionary, list, and string objects, making it easier to create custom variants."
   ]
  },
  {
   "cell_type": "markdown",
   "metadata": {},
   "source": [
    "### UserDict"
   ]
  },
  {
   "cell_type": "code",
   "execution_count": 36,
   "metadata": {},
   "outputs": [
    {
     "name": "stdout",
     "output_type": "stream",
     "text": [
      "{'name': 'Alice'}\n"
     ]
    }
   ],
   "source": [
    "from collections import UserDict\n",
    "\n",
    "class MyDict(UserDict):\n",
    "    def __setitem__(self, key, value):\n",
    "        if not isinstance(key, str):\n",
    "            raise TypeError('Keys must be strings')\n",
    "        super().__setitem__(key, value)\n",
    "\n",
    "d = MyDict()\n",
    "d['name'] = 'Alice'\n",
    "# d[123] = 'Bob'  # Raises TypeError: Keys must be strings\n",
    "print(d)"
   ]
  },
  {
   "cell_type": "markdown",
   "metadata": {},
   "source": [
    "### UserList"
   ]
  },
  {
   "cell_type": "code",
   "execution_count": 37,
   "metadata": {},
   "outputs": [
    {
     "name": "stdout",
     "output_type": "stream",
     "text": [
      "[1, 2, 3, 4]\n"
     ]
    }
   ],
   "source": [
    "from collections import UserList\n",
    "\n",
    "class MyList(UserList):\n",
    "    def append(self, item):\n",
    "        if not isinstance(item, int):\n",
    "            raise TypeError('Only integers are allowed')\n",
    "        super().append(item)\n",
    "\n",
    "lst = MyList([1, 2, 3])\n",
    "lst.append(4)\n",
    "# lst.append('a')  # Raises TypeError: Only integers are allowed\n",
    "print(lst)"
   ]
  },
  {
   "cell_type": "markdown",
   "metadata": {},
   "source": [
    "### UserString"
   ]
  },
  {
   "cell_type": "code",
   "execution_count": 38,
   "metadata": {},
   "outputs": [
    {
     "name": "stdout",
     "output_type": "stream",
     "text": [
      "Hello WORLD\n"
     ]
    }
   ],
   "source": [
    "from collections import UserString\n",
    "\n",
    "class MyString(UserString):\n",
    "    def __add__(self, other):\n",
    "        return MyString(self.data + other.upper())\n",
    "\n",
    "s = MyString('Hello')\n",
    "print(s + ' world')"
   ]
  }
 ],
 "metadata": {
  "kernelspec": {
   "display_name": "pytorch",
   "language": "python",
   "name": "python3"
  },
  "language_info": {
   "codemirror_mode": {
    "name": "ipython",
    "version": 3
   },
   "file_extension": ".py",
   "mimetype": "text/x-python",
   "name": "python",
   "nbconvert_exporter": "python",
   "pygments_lexer": "ipython3",
   "version": "3.11.5"
  }
 },
 "nbformat": 4,
 "nbformat_minor": 2
}
