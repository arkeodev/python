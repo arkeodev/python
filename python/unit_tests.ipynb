{
 "cells": [
  {
   "cell_type": "markdown",
   "metadata": {},
   "source": [
    "# Unit Testing in Python"
   ]
  },
  {
   "cell_type": "markdown",
   "metadata": {},
   "source": [
    "## Part 1: Why We Need Unit Tests and Their Importance"
   ]
  },
  {
   "cell_type": "markdown",
   "metadata": {},
   "source": [
    "Unit tests are a type of software testing where individual units or components of the software are tested. The purpose is to validate that each unit of the software performs as expected. A unit is the smallest testable part of any software, typically a function or a method.\n",
    "\n",
    "1. **Improves Code Quality**: By writing unit tests, developers can identify and fix bugs early in the development cycle, which leads to more stable and reliable software.\n",
    "\n",
    "2. **Facilitates Refactoring**: Unit tests ensure that code changes do not introduce new bugs. Developers can refactor code with confidence, knowing that tests will catch any regressions.\n",
    "\n",
    "3. **Documentation**: Tests can serve as documentation for the code. They describe how the code is supposed to behave and can help new developers understand the codebase."
   ]
  },
  {
   "cell_type": "markdown",
   "metadata": {},
   "source": [
    "## Part 2: The `unittest` Module"
   ]
  },
  {
   "cell_type": "markdown",
   "metadata": {},
   "source": [
    "Python’s `unittest` module, inspired by JUnit, is a built-in module used to create and run unit tests. It supports test automation, sharing of setup and shutdown code for tests, aggregation of tests into collections, and independence of the tests from the reporting framework."
   ]
  },
  {
   "cell_type": "markdown",
   "metadata": {},
   "source": [
    "### Base Features of `unittest`:"
   ]
  },
  {
   "cell_type": "markdown",
   "metadata": {},
   "source": [
    "- **Test Case**: The smallest unit of testing. It checks for a specific response to a particular set of inputs.\n",
    "\n",
    "- **Test Suite**: A collection of test cases, test suites, or both.\n",
    "\n",
    "- **Test Runner**: A component that orchestrates the execution of tests and provides the outcome to the user.\n",
    "\n",
    "- **Test Fixtures**: Resources needed for a test, such as temporary databases or files, which need to be set up before the test runs and torn down afterward.\n",
    "\n",
    "- Mocking: Replacing parts of the system under test with mock objects to isolate the behavior of the test."
   ]
  },
  {
   "cell_type": "markdown",
   "metadata": {},
   "source": [
    "### Example: Banking System Code"
   ]
  },
  {
   "cell_type": "markdown",
   "metadata": {},
   "source": [
    "First, let's define a simple banking system class."
   ]
  },
  {
   "cell_type": "markdown",
   "metadata": {},
   "source": [
    "Now, let's write the `unittest` code with `setUp`, `tearDown`, and a fixture."
   ]
  },
  {
   "cell_type": "code",
   "execution_count": 17,
   "metadata": {},
   "outputs": [
    {
     "name": "stderr",
     "output_type": "stream",
     "text": [
      "......\n",
      "----------------------------------------------------------------------\n",
      "Ran 6 tests in 0.006s\n",
      "\n",
      "OK\n"
     ]
    }
   ],
   "source": [
    "# test_banking_system_unittest.py\n",
    "\n",
    "import unittest\n",
    "from modules.banking_system import BankAccount\n",
    "\n",
    "def create_account_with_balance(balance):\n",
    "    \"\"\"Fixture function to create a BankAccount with a given balance.\"\"\"\n",
    "    account = BankAccount(balance)\n",
    "    return account\n",
    "\n",
    "class TestBankAccount(unittest.TestCase):\n",
    "    def setUp(self):\n",
    "        \"\"\"Set up test fixtures before each test method.\"\"\"\n",
    "        self.account = BankAccount()\n",
    "        self.account.deposit(100)  # Start each test with a balance of 100\n",
    "    \n",
    "    def tearDown(self):\n",
    "        \"\"\"Tear down test fixtures after each test method.\"\"\"\n",
    "        del self.account\n",
    "    \n",
    "    def test_deposit(self):\n",
    "        self.account.deposit(50)\n",
    "        self.assertEqual(self.account.get_balance(), 150)\n",
    "    \n",
    "    def test_withdraw(self):\n",
    "        self.account.withdraw(30)\n",
    "        self.assertEqual(self.account.get_balance(), 70)\n",
    "    \n",
    "    def test_withdraw_insufficient_funds(self):\n",
    "        with self.assertRaises(ValueError) as context:\n",
    "            self.account.withdraw(150)\n",
    "        self.assertEqual(str(context.exception), \"Insufficient funds\")\n",
    "    \n",
    "    def test_deposit_invalid_amount(self):\n",
    "        with self.assertRaises(ValueError) as context:\n",
    "            self.account.deposit(-20)\n",
    "        self.assertEqual(str(context.exception), \"Deposit amount must be positive\")\n",
    "    \n",
    "    def test_withdraw_invalid_amount(self):\n",
    "        with self.assertRaises(ValueError) as context:\n",
    "            self.account.withdraw(-10)\n",
    "        self.assertEqual(str(context.exception), \"Withdraw amount must be positive\")\n",
    "\n",
    "    def test_fixture_account(self):\n",
    "        account = create_account_with_balance(200)\n",
    "        self.assertEqual(account.get_balance(), 200)\n",
    "\n",
    "if __name__ == '__main__':\n",
    "    unittest.main(argv=['first-arg-is-ignored'], exit=False)"
   ]
  },
  {
   "cell_type": "markdown",
   "metadata": {},
   "source": [
    "- **`setUp` Method:** Initializes a `BankAccount` object and deposits 100 units before each test.\n",
    "- **`tearDown` Method:** Cleans up by deleting the `BankAccount` object after each test.\n",
    "- **Fixture:** The `create_account_with_balance` function is used as a fixture to create `BankAccount` objects with a specific balance. This allows us to reuse the same `BankAccount` object across multiple tests without having to create new objects for each test."
   ]
  },
  {
   "cell_type": "markdown",
   "metadata": {},
   "source": [
    "#### Example: Mocking"
   ]
  },
  {
   "cell_type": "markdown",
   "metadata": {},
   "source": [
    "**Mocking** is a technique in unit testing where you create mock objects to simulate the behavior of real objects. This is particularly useful when you want to isolate the part of the code you are testing from external dependencies, such as databases, web services, or other complex systems. By using mocks, you can control the environment in which your tests run, ensuring that they are reliable and repeatable.\n",
    "\n",
    "**Why is Mocking Used?**\n",
    "- **Isolation:** It allows you to test a unit of code in isolation by replacing external dependencies with mock objects.\n",
    "- **Control:** You can control the behavior of the mock objects to test different scenarios, including edge cases and error conditions.\n",
    "\n",
    "**Mocking Example with Unittest**\n",
    "In the above we have an example where we mock a web service call in a banking system to fetch exchange rates. Now, let's write the `unittest` code that mocks the web service call."
   ]
  },
  {
   "cell_type": "code",
   "execution_count": 2,
   "metadata": {},
   "outputs": [
    {
     "name": "stderr",
     "output_type": "stream",
     "text": [
      "..\n",
      "----------------------------------------------------------------------\n",
      "Ran 2 tests in 0.004s\n",
      "\n",
      "OK\n"
     ]
    }
   ],
   "source": [
    "# test_banking_system_mock.py\n",
    "\n",
    "import unittest\n",
    "from unittest.mock import patch\n",
    "from modules.banking_system import BankAccount\n",
    "\n",
    "class TestBankAccount(unittest.TestCase):\n",
    "    def setUp(self):\n",
    "        self.account = BankAccount()\n",
    "        self.account.deposit(100)\n",
    "    \n",
    "    def tearDown(self):\n",
    "        del self.account\n",
    "    \n",
    "    @patch('modules.banking_system.requests.get')\n",
    "    def test_convert_currency(self, mock_get):\n",
    "        mock_response = {\n",
    "            'rates': {\n",
    "                'EUR': 0.85\n",
    "            }\n",
    "        }\n",
    "        mock_get.return_value.status_code = 200\n",
    "        mock_get.return_value.json.return_value = mock_response\n",
    "\n",
    "        result = self.account.convert_currency(100, 'EUR')\n",
    "        self.assertEqual(result, 85)\n",
    "    \n",
    "    @patch('modules.banking_system.requests.get')\n",
    "    def test_convert_currency_api_failure(self, mock_get):\n",
    "        mock_get.return_value.status_code = 500\n",
    "        \n",
    "        with self.assertRaises(Exception) as context:\n",
    "            self.account.convert_currency(100, 'EUR')\n",
    "        self.assertEqual(str(context.exception), \"Error fetching exchange rate\")\n",
    "\n",
    "if __name__ == '__main__':\n",
    "    unittest.main(argv=['first-arg-is-ignored'], exit=False)\n"
   ]
  },
  {
   "cell_type": "markdown",
   "metadata": {},
   "source": [
    "- **Mocking the Web Service:** The `@patch('banking_system.requests.get')` decorator replaces the `requests.get` method with a mock object during the test.\n",
    "- **Mock Response:** We define a mock response for the exchange rate API to simulate different scenarios.\n",
    "  - In `test_convert_currency`, the mock response simulates a successful API call returning an exchange rate of 0.85 for EUR.\n",
    "  - In `test_convert_currency_api_failure`, the mock response simulates an API failure with a status code of 500.\n",
    "- **Assertions:** The tests check that the `convert_currency` method correctly converts the amount using the mocked exchange rate and raises an exception on API failure."
   ]
  },
  {
   "cell_type": "markdown",
   "metadata": {},
   "source": [
    "## Part 3: The `pytest` Package in Python"
   ]
  },
  {
   "cell_type": "markdown",
   "metadata": {},
   "source": [
    "`pytest` is a powerful testing framework for Python that makes it easy to write simple and scalable test cases.\n"
   ]
  },
  {
   "cell_type": "markdown",
   "metadata": {},
   "source": [
    "### Base Features of `pytest`:"
   ]
  },
  {
   "cell_type": "markdown",
   "metadata": {},
   "source": [
    "- **Simple Syntax**: Tests are written as regular functions with assert statements.\n",
    "\n",
    "- **Fixtures**: Reusable setup and teardown code for tests.\n",
    "\n",
    "- **Parameterization**: Running a test with multiple sets of data.\n",
    "\n",
    "- **Plugins**: Extending pytest functionality with plugins."
   ]
  },
  {
   "cell_type": "markdown",
   "metadata": {},
   "source": [
    "### Example"
   ]
  },
  {
   "cell_type": "markdown",
   "metadata": {},
   "source": [
    "Let's assume we have a simple e-commerce system with functionalities like adding products to a cart, checking out, and applying discounts. Please look at: `modules/ecommerce.py`. \n",
    "\n",
    "We'll create a series of tests to validate these functionalities. \n",
    "\n",
    "First, ensure you have pytest and pytest-mock installed:"
   ]
  },
  {
   "cell_type": "code",
   "execution_count": 14,
   "metadata": {},
   "outputs": [],
   "source": [
    "! pip install pytest pytest-mock ipytest -q"
   ]
  },
  {
   "cell_type": "code",
   "execution_count": 15,
   "metadata": {},
   "outputs": [],
   "source": [
    "import ipytest\n",
    "ipytest.autoconfig()"
   ]
  },
  {
   "cell_type": "code",
   "execution_count": 16,
   "metadata": {},
   "outputs": [
    {
     "name": "stdout",
     "output_type": "stream",
     "text": [
      "\u001b[32m.\u001b[0m\u001b[32m.\u001b[0m\u001b[32m.\u001b[0m\u001b[32m.\u001b[0m\u001b[33ms\u001b[0m\u001b[32m.\u001b[0m\u001b[32m.\u001b[0m\u001b[32m                                                                                      [100%]\u001b[0m\n",
      "\u001b[32m\u001b[32m\u001b[1m6 passed\u001b[0m, \u001b[33m1 skipped\u001b[0m\u001b[32m in 0.09s\u001b[0m\u001b[0m\n"
     ]
    }
   ],
   "source": [
    "%%ipytest\n",
    "\n",
    "from modules.ecommerce import Product, Cart, PaymentProcessor\n",
    "\n",
    "@pytest.fixture\n",
    "def cart():\n",
    "    return Cart()\n",
    "\n",
    "@pytest.fixture\n",
    "def products():\n",
    "    return [\n",
    "        Product(\"Product 1\", 100),\n",
    "        Product(\"Product 2\", 200),\n",
    "        Product(\"Product 3\", 300)\n",
    "    ]\n",
    "\n",
    "def test_add_product(cart, products):\n",
    "    cart.add_product(products[0])\n",
    "    assert len(cart.products) == 1\n",
    "    cart.add_product(products[1])\n",
    "    assert len(cart.products) == 2\n",
    "\n",
    "@pytest.mark.parametrize(\n",
    "    \"products, expected_total\",\n",
    "    [\n",
    "        ([Product(\"Product 1\", 100), Product(\"Product 2\", 200)], 300),\n",
    "        ([Product(\"Product 3\", 300)], 300),\n",
    "        ([Product(\"Product 1\", 100), Product(\"Product 2\", 200), Product(\"Product 3\", 300)], 600),\n",
    "    ]\n",
    ")\n",
    "def test_cart_total(cart, products, expected_total):\n",
    "    for product in products:\n",
    "        cart.add_product(product)\n",
    "    assert cart.total() == expected_total\n",
    "\n",
    "@pytest.mark.skip(reason=\"Skipping discount test, discount feature not yet finalized\")\n",
    "def test_apply_discount(cart, products):\n",
    "    for product in products:\n",
    "        cart.add_product(product)\n",
    "    total_with_discount = cart.apply_discount(10)\n",
    "    assert total_with_discount == cart.total() * 0.9\n",
    "\n",
    "def test_payment_processor_success(mocker):\n",
    "    processor = PaymentProcessor()\n",
    "    mocker.patch.object(processor, 'process_payment', return_value=True)\n",
    "    assert processor.process_payment(100) == True\n",
    "\n",
    "def test_payment_processor_failure(mocker):\n",
    "    processor = PaymentProcessor()\n",
    "    mocker.patch.object(processor, 'process_payment', side_effect=ValueError(\"Amount must be greater than zero\"))\n",
    "    with pytest.raises(ValueError, match=\"Amount must be greater than zero\"):\n",
    "        processor.process_payment(0)"
   ]
  },
  {
   "cell_type": "markdown",
   "metadata": {},
   "source": [
    "In this example:\n",
    "\n",
    "- **Fixtures** (`cart` and `products`) are used to set up common objects used in multiple tests.\n",
    "- **Parameterization** is used in the `test_cart_total` test to run the test with different sets of products and expected totals.\n",
    "- **Skipping tests** is demonstrated with the `test_apply_discount` test, which is skipped with a reason provided.\n",
    "- **Mocking** is used in the `test_payment_processor_success` and `test_payment_processor_failure` tests to simulate the behavior of the `process_payment` method.\n",
    "- **Plugin support** To add plugin support, we can use pytest plugins. For example, `pytest-xdist` for parallel test execution. To run tests with parallel execution: `pytest -n 4` (where 4 is the number of CPU cores to use)"
   ]
  },
  {
   "cell_type": "markdown",
   "metadata": {},
   "source": [
    "## Part 4: Comparison of `unittest` and `pytest`"
   ]
  },
  {
   "cell_type": "markdown",
   "metadata": {},
   "source": [
    "Here's a detailed comparison of the core differences between PyTest and Unittest, highlighting their features and capabilities."
   ]
  },
  {
   "cell_type": "markdown",
   "metadata": {},
   "source": [
    "<table>\n",
    "  <tr>\n",
    "    <th>Features</th>\n",
    "    <th>PyTest</th>\n",
    "    <th>Unittest</th>\n",
    "  </tr>\n",
    "  <tr>\n",
    "    <td>Test Discovery</td>\n",
    "    <td>Automatic test discovery, finds and runs tests without boilerplate</td>\n",
    "    <td>Requires manual test discovery by explicitly defining test cases</td>\n",
    "  </tr>\n",
    "  <tr>\n",
    "    <td>Fixture Support</td>\n",
    "    <td>Powerful and flexible fixture support</td>\n",
    "    <td>Limited fixture support, mainly through the setup and teardown methods</td>\n",
    "  </tr>\n",
    "  <tr>\n",
    "    <td>Test Execution</td>\n",
    "    <td>Supports parallel test execution, faster runtime</td>\n",
    "    <td>Sequential test execution, one test at a time</td>\n",
    "  </tr>\n",
    "  <tr>\n",
    "    <td>Test Execution Options</td>\n",
    "    <td>Provides various options for test execution customization</td>\n",
    "    <td>Offers fewer options for customizing the test execution process</td>\n",
    "  </tr>\n",
    "  <tr>\n",
    "    <td>Assertion Methods</td>\n",
    "    <td>Rich set of built-in assertion methods</td>\n",
    "    <td>Standard assertion methods provided by the unittest module</td>\n",
    "  </tr>\n",
    "  <tr>\n",
    "    <td>Test Organization</td>\n",
    "    <td>Test functions can be organized in a flexible manner</td>\n",
    "    <td>Test cases are organized as classes, providing a more structured approach</td>\n",
    "  </tr>\n",
    "  <tr>\n",
    "    <td>Skipping Tests</td>\n",
    "    <td>Built-in mechanism for skipping tests</td>\n",
    "    <td>Ability to skip tests using decorators or conditional statements</td>\n",
    "  </tr>\n",
    "  <tr>\n",
    "    <td>Test Parameterization</td>\n",
    "    <td>Built-in support for parameterized tests</td>\n",
    "    <td>Parameterization can be achieved using decorators or conditional logic</td>\n",
    "  </tr>\n",
    "  <tr>\n",
    "    <td>Plugin Ecosystem</td>\n",
    "    <td>Large and active plugin ecosystem with many useful plugins</td>\n",
    "    <td>Limited plugin support, fewer third-party extensions available</td>\n",
    "  </tr>\n",
    "  <tr>\n",
    "    <td>Output Readability</td>\n",
    "    <td>Detailed and readable output for failed tests</td>\n",
    "    <td>Basic output with less detailed information</td>\n",
    "  </tr>\n",
    "</table>\n"
   ]
  }
 ],
 "metadata": {
  "kernelspec": {
   "display_name": "pytorch",
   "language": "python",
   "name": "python3"
  },
  "language_info": {
   "codemirror_mode": {
    "name": "ipython",
    "version": 3
   },
   "file_extension": ".py",
   "mimetype": "text/x-python",
   "name": "python",
   "nbconvert_exporter": "python",
   "pygments_lexer": "ipython3",
   "version": "3.11.5"
  }
 },
 "nbformat": 4,
 "nbformat_minor": 2
}
