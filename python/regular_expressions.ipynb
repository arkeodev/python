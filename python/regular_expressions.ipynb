{
 "cells": [
  {
   "cell_type": "markdown",
   "metadata": {},
   "source": [
    "# Regular Expressions"
   ]
  },
  {
   "cell_type": "markdown",
   "metadata": {},
   "source": [
    "Regular Expressions (regex) are powerful tools used for pattern matching in strings. Python provides a built-in module, `re`, for working with regular expressions."
   ]
  },
  {
   "cell_type": "markdown",
   "metadata": {},
   "source": [
    "## 1. Introduction"
   ]
  },
  {
   "cell_type": "markdown",
   "metadata": {},
   "source": [
    "Regular expressions are sequences of characters that define a search pattern. They are commonly used for string matching and manipulation. "
   ]
  },
  {
   "cell_type": "markdown",
   "metadata": {},
   "source": [
    "## 2. Basic Syntax"
   ]
  },
  {
   "cell_type": "markdown",
   "metadata": {},
   "source": [
    "- `.`: Matches any character except a newline.\n",
    "- `^`: Matches the start of the string.\n",
    "- `$`: Matches the end of the string.\n",
    "- `*`: Matches 0 or more repetitions of the preceding element.\n",
    "- `+`: Matches 1 or more repetitions of the preceding element.\n",
    "- `?`: Matches 0 or 1 repetition of the preceding element.\n",
    "- `{n}`: Matches exactly n repetitions of the preceding element.\n",
    "- `{n,}`: Matches n or more repetitions of the preceding element.\n",
    "- `{n,m}`: Matches between n and m repetitions of the preceding element.\n",
    "- `[]`: Matches any one of the characters inside the brackets.\n",
    "- `|`: Matches either the expression before or the expression after the `|`."
   ]
  },
  {
   "cell_type": "markdown",
   "metadata": {},
   "source": [
    "## 3. Using the `re` Module"
   ]
  },
  {
   "cell_type": "code",
   "execution_count": 8,
   "metadata": {},
   "outputs": [
    {
     "name": "stdout",
     "output_type": "stream",
     "text": [
      "123\n"
     ]
    }
   ],
   "source": [
    "import re\n",
    "\n",
    "# Example: Matching a pattern in a string\n",
    "pattern = r'\\d+'  # Matches one or more digits\n",
    "string = 'There are 123 apples'\n",
    "\n",
    "match = re.search(pattern, string)\n",
    "if match:\n",
    "    print(match.group())"
   ]
  },
  {
   "cell_type": "markdown",
   "metadata": {},
   "source": [
    "## 4. Special Characters"
   ]
  },
  {
   "cell_type": "markdown",
   "metadata": {},
   "source": [
    "- `\\d`: Matches any digit (equivalent to `[0-9]`).\n",
    "- `\\D`: Matches any non-digit.\n",
    "- `\\w`: Matches any alphanumeric character (equivalent to `[a-zA-Z0-9_]`).\n",
    "- `\\W`: Matches any non-alphanumeric character.\n",
    "- `\\s`: Matches any whitespace character.\n",
    "- `\\S`: Matches any non-whitespace character."
   ]
  },
  {
   "cell_type": "markdown",
   "metadata": {},
   "source": [
    "## 5. Character Classes"
   ]
  },
  {
   "cell_type": "markdown",
   "metadata": {},
   "source": [
    "Character classes allow you to define a set of characters to match."
   ]
  },
  {
   "cell_type": "code",
   "execution_count": 9,
   "metadata": {},
   "outputs": [
    {
     "name": "stdout",
     "output_type": "stream",
     "text": [
      "['e', 'o', 'o']\n"
     ]
    }
   ],
   "source": [
    "pattern = r'[aeiou]'  # Matches any vowel\n",
    "string = 'Hello World'\n",
    "matches = re.findall(pattern, string)\n",
    "print(matches)"
   ]
  },
  {
   "cell_type": "markdown",
   "metadata": {},
   "source": [
    "## 6. Quantifiers"
   ]
  },
  {
   "cell_type": "markdown",
   "metadata": {},
   "source": [
    "Quantifiers specify how many instances of a character, group, or character class must be present in the input for a match to be found."
   ]
  },
  {
   "cell_type": "code",
   "execution_count": 10,
   "metadata": {},
   "outputs": [
    {
     "name": "stdout",
     "output_type": "stream",
     "text": [
      "['123', '4567', '89', '3432']\n"
     ]
    }
   ],
   "source": [
    "pattern = r'\\d{2,4}'  # Matches between 2 and 4 digits\n",
    "string = '123 4567 89 34323 8'\n",
    "matches = re.findall(pattern, string)\n",
    "print(matches)"
   ]
  },
  {
   "cell_type": "markdown",
   "metadata": {},
   "source": [
    "## 7. Groups and Capturing"
   ]
  },
  {
   "cell_type": "markdown",
   "metadata": {},
   "source": [
    "Groups allow you to capture parts of the match."
   ]
  },
  {
   "cell_type": "code",
   "execution_count": 11,
   "metadata": {},
   "outputs": [
    {
     "name": "stdout",
     "output_type": "stream",
     "text": [
      "123\n",
      "45\n",
      "6789\n"
     ]
    }
   ],
   "source": [
    "pattern = r'(\\d{3})-(\\d{2})-(\\d{4})'\n",
    "string = 'My number is 123-45-6789'\n",
    "match = re.search(pattern, string)\n",
    "if match:\n",
    "    print(match.group(1))\n",
    "    print(match.group(2))\n",
    "    print(match.group(3))"
   ]
  },
  {
   "cell_type": "markdown",
   "metadata": {},
   "source": [
    "## 8. Lookahead and Lookbehind Assertions"
   ]
  },
  {
   "cell_type": "markdown",
   "metadata": {},
   "source": [
    "Lookahead and lookbehind assertions allow you to match a pattern only if it's followed or preceded by another pattern."
   ]
  },
  {
   "cell_type": "code",
   "execution_count": 12,
   "metadata": {},
   "outputs": [
    {
     "name": "stdout",
     "output_type": "stream",
     "text": [
      "['123']\n",
      "['100']\n"
     ]
    }
   ],
   "source": [
    "# Lookahead\n",
    "pattern = r'\\d+(?= apples)'\n",
    "string = 'There are 123 apples and 45 oranges'\n",
    "matches = re.findall(pattern, string)\n",
    "print(matches)\n",
    "\n",
    "# Lookbehind\n",
    "pattern = r'(?<=\\$)\\d+'\n",
    "string = 'The price is $100'\n",
    "matches = re.findall(pattern, string)\n",
    "print(matches)"
   ]
  },
  {
   "cell_type": "markdown",
   "metadata": {},
   "source": [
    "## 9. Flags"
   ]
  },
  {
   "cell_type": "markdown",
   "metadata": {},
   "source": [
    "Flags modify the behavior of the pattern matching.\n",
    "\n",
    "- `re.IGNORECASE` or `re.I`: Ignore case.\n",
    "- `re.MULTILINE` or `re.M`: Multi-line matching.\n",
    "- `re.DOTALL` or `re.S`: Allows `.` to match newline characters.\n",
    "- `re.VERBOSE` or `re.X`: Allow verbose regex, which can be split into multiple lines with comments."
   ]
  },
  {
   "cell_type": "code",
   "execution_count": 13,
   "metadata": {},
   "outputs": [
    {
     "name": "stdout",
     "output_type": "stream",
     "text": [
      "Hello\n"
     ]
    }
   ],
   "source": [
    "pattern = r'hello'\n",
    "string = 'Hello world'\n",
    "match = re.search(pattern, string, re.IGNORECASE)\n",
    "if match:\n",
    "    print(match.group())"
   ]
  },
  {
   "cell_type": "markdown",
   "metadata": {},
   "source": [
    "## 10. Useful Functions"
   ]
  },
  {
   "cell_type": "markdown",
   "metadata": {},
   "source": [
    "- `re.match()`: Determine if the regex matches at the start of the string.\n",
    "- `re.search()`: Scan through a string, looking for any location where the regex matches.\n",
    "- `re.findall()`: Find all substrings where the regex matches.\n",
    "- `re.finditer()`: Return an iterator yielding match objects.\n",
    "- `re.sub()`: Substitute occurrences of the pattern with a replacement string.\n",
    "- `re.split()`: Split the string by occurrences of the pattern."
   ]
  },
  {
   "cell_type": "code",
   "execution_count": 14,
   "metadata": {},
   "outputs": [
    {
     "name": "stdout",
     "output_type": "stream",
     "text": [
      "I like oranges\n"
     ]
    }
   ],
   "source": [
    "# Example: Using re.sub to replace text\n",
    "pattern = r'apples'\n",
    "replacement = 'oranges'\n",
    "string = 'I like apples'\n",
    "new_string = re.sub(pattern, replacement, string)\n",
    "print(new_string)"
   ]
  },
  {
   "cell_type": "markdown",
   "metadata": {},
   "source": [
    "## 11. Examples"
   ]
  },
  {
   "cell_type": "code",
   "execution_count": 15,
   "metadata": {},
   "outputs": [
    {
     "name": "stdout",
     "output_type": "stream",
     "text": [
      "Valid email\n"
     ]
    }
   ],
   "source": [
    "### Validating Email Addresses\n",
    "pattern = r'^[a-zA-Z0-9_.+-]+@[a-zA-Z0-9-]+\\.[a-zA-Z0-9-.]+$'\n",
    "email = 'test.email+regex@gmail.com'\n",
    "if re.match(pattern, email):\n",
    "    print('Valid email')\n",
    "else:\n",
    "    print('Invalid email')"
   ]
  },
  {
   "cell_type": "code",
   "execution_count": 16,
   "metadata": {},
   "outputs": [
    {
     "name": "stdout",
     "output_type": "stream",
     "text": [
      "['12/05/2023', '13-06-2023']\n"
     ]
    }
   ],
   "source": [
    "### Extracting Dates from Text\n",
    "pattern = r'\\b\\d{2}[/-]\\d{2}[/-]\\d{4}\\b'\n",
    "text = 'The event is on 12/05/2023 or 13-06-2023.'\n",
    "dates = re.findall(pattern, text)\n",
    "print(dates)"
   ]
  },
  {
   "cell_type": "code",
   "execution_count": 17,
   "metadata": {},
   "outputs": [
    {
     "name": "stdout",
     "output_type": "stream",
     "text": [
      "Strong password\n"
     ]
    }
   ],
   "source": [
    "### Password Strength Validation\n",
    "pattern = r'^(?=.*[A-Z])(?=.*[a-z])(?=.*\\d)(?=.*[\\W_]).{8,}$'\n",
    "password = 'StrongPassw0rd!'\n",
    "if re.match(pattern, password):\n",
    "    print('Strong password')\n",
    "else:\n",
    "    print('Weak password')"
   ]
  },
  {
   "cell_type": "code",
   "execution_count": 18,
   "metadata": {},
   "outputs": [
    {
     "name": "stdout",
     "output_type": "stream",
     "text": [
      "Timestamp: 2023-05-21 10:15:00, Level: INFO, Event: UserLogin, Message: User admin logged in\n"
     ]
    }
   ],
   "source": [
    "### Parsing Log Files\n",
    "pattern = r'(\\d{4}-\\d{2}-\\d{2} \\d{2}:\\d{2}:\\d{2}),(\\w+),(\\w+),(.+)'\n",
    "log = '2023-05-21 10:15:00,INFO,UserLogin,User admin logged in'\n",
    "match = re.search(pattern, log)\n",
    "if match:\n",
    "    timestamp, level, event, message = match.groups()\n",
    "    print(f'Timestamp: {timestamp}, Level: {level}, Event: {event}, Message: {message}')"
   ]
  },
  {
   "cell_type": "markdown",
   "metadata": {},
   "source": [
    "## Conclusion"
   ]
  },
  {
   "cell_type": "markdown",
   "metadata": {},
   "source": [
    "Regular expressions are a robust tool for text processing in Python. Mastering regex can significantly enhance your ability to manipulate and analyze strings efficiently. Practice with realistic examples to understand the full potential of regex in production environments."
   ]
  }
 ],
 "metadata": {
  "kernelspec": {
   "display_name": "pytorch",
   "language": "python",
   "name": "python3"
  },
  "language_info": {
   "codemirror_mode": {
    "name": "ipython",
    "version": 3
   },
   "file_extension": ".py",
   "mimetype": "text/x-python",
   "name": "python",
   "nbconvert_exporter": "python",
   "pygments_lexer": "ipython3",
   "version": "3.11.5"
  }
 },
 "nbformat": 4,
 "nbformat_minor": 2
}
