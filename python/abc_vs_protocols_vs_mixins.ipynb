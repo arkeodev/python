{
 "cells": [
  {
   "cell_type": "markdown",
   "metadata": {},
   "source": [
    "# Abstract Base Classes (ABCs), Protocols and Mixins"
   ]
  },
  {
   "cell_type": "markdown",
   "metadata": {},
   "source": [
    "## 1. Introduction"
   ]
  },
  {
   "cell_type": "markdown",
   "metadata": {},
   "source": [
    "Abstract Base Classes (ABCs) and Protocols are both ways to define and enforce interfaces in Python. They help ensure that a class implements particular methods, promoting a form of \"design by contract\". However, they serve different purposes and are suited to different scenarios."
   ]
  },
  {
   "cell_type": "markdown",
   "metadata": {},
   "source": [
    "## 2. Understanding Abstract Base Classes"
   ]
  },
  {
   "cell_type": "markdown",
   "metadata": {},
   "source": [
    "An Abstract Base Class in Python is a class that cannot be instantiated on its own and usually contains one or more abstract methods. An abstract method is a method that is declared, but contains no implementation. ABCs are part of the `abc` module. To create an ABC, you need to import `ABC` and `abstractmethod` from the `abc` module. "
   ]
  },
  {
   "cell_type": "code",
   "execution_count": 4,
   "metadata": {},
   "outputs": [],
   "source": [
    "from abc import ABC, abstractmethod\n",
    "\n",
    "class Vehicle(ABC):\n",
    "    @abstractmethod\n",
    "    def start_engine(self):\n",
    "        pass\n",
    "\n",
    "    @abstractmethod\n",
    "    def stop_engine(self):\n",
    "        pass"
   ]
  },
  {
   "cell_type": "markdown",
   "metadata": {},
   "source": [
    "Abstract methods are declared in the abstract base class but do not contain any implementation. Subclasses must provide an implementation for these methods."
   ]
  },
  {
   "cell_type": "code",
   "execution_count": 5,
   "metadata": {},
   "outputs": [
    {
     "ename": "TypeError",
     "evalue": "Can't instantiate abstract class Motorcycle with abstract methods start_engine, stop_engine",
     "output_type": "error",
     "traceback": [
      "\u001b[0;31m---------------------------------------------------------------------------\u001b[0m",
      "\u001b[0;31mTypeError\u001b[0m                                 Traceback (most recent call last)",
      "Cell \u001b[0;32mIn[5], line 12\u001b[0m\n\u001b[1;32m      9\u001b[0m     \u001b[38;5;28;01mpass\u001b[39;00m\n\u001b[1;32m     11\u001b[0m car \u001b[38;5;241m=\u001b[39m Car()\n\u001b[0;32m---> 12\u001b[0m motorcycle \u001b[38;5;241m=\u001b[39m \u001b[43mMotorcycle\u001b[49m\u001b[43m(\u001b[49m\u001b[43m)\u001b[49m\n\u001b[1;32m     13\u001b[0m \u001b[38;5;66;03m# This raises an error because the Motorcycle class does not implement the start_engine method\u001b[39;00m\n\u001b[1;32m     14\u001b[0m motorcycle\u001b[38;5;241m.\u001b[39mstart_engine()\n",
      "\u001b[0;31mTypeError\u001b[0m: Can't instantiate abstract class Motorcycle with abstract methods start_engine, stop_engine"
     ]
    }
   ],
   "source": [
    "class Car(Vehicle):\n",
    "    def start_engine(self):\n",
    "        print(\"Car engine started\")\n",
    "    \n",
    "    def stop_engine(self):\n",
    "        print(\"Car engine stopped\")\n",
    "        \n",
    "class Motorcycle(Vehicle):\n",
    "    pass\n",
    "\n",
    "car = Car()\n",
    "motorcycle = Motorcycle()\n",
    "# This raises an error because the Motorcycle class does not implement the start_engine method\n",
    "motorcycle.start_engine()"
   ]
  },
  {
   "cell_type": "markdown",
   "metadata": {},
   "source": [
    "**Plugin Example**\n",
    "\n",
    "Consider a scenario where you are developing a plugin system. You want to ensure that all plugins follow a specific interface."
   ]
  },
  {
   "cell_type": "code",
   "execution_count": null,
   "metadata": {},
   "outputs": [
    {
     "name": "stdout",
     "output_type": "stream",
     "text": [
      "Loading audio plugin\n",
      "Executing audio plugin\n",
      "Unloading audio plugin\n",
      "Loading video plugin\n",
      "Executing video plugin\n",
      "Unloading video plugin\n"
     ]
    }
   ],
   "source": [
    "from abc import ABC, abstractmethod\n",
    "\n",
    "class Plugin(ABC):\n",
    "    @abstractmethod\n",
    "    def load(self):\n",
    "        pass\n",
    "    \n",
    "    @abstractmethod\n",
    "    def execute(self):\n",
    "        pass\n",
    "    \n",
    "    @abstractmethod\n",
    "    def unload(self):\n",
    "        pass\n",
    "\n",
    "class AudioPlugin(Plugin):\n",
    "    def load(self):\n",
    "        print(\"Loading audio plugin\")\n",
    "    \n",
    "    def execute(self):\n",
    "        print(\"Executing audio plugin\")\n",
    "    \n",
    "    def unload(self):\n",
    "        print(\"Unloading audio plugin\")\n",
    "\n",
    "class VideoPlugin(Plugin):\n",
    "    def load(self):\n",
    "        print(\"Loading video plugin\")\n",
    "    \n",
    "    def execute(self):\n",
    "        print(\"Executing video plugin\")\n",
    "    \n",
    "    def unload(self):\n",
    "        print(\"Unloading video plugin\")\n",
    "\n",
    "# Usage\n",
    "plugins = [AudioPlugin(), VideoPlugin()]\n",
    "for plugin in plugins:\n",
    "    plugin.load()\n",
    "    plugin.execute()\n",
    "    plugin.unload()"
   ]
  },
  {
   "cell_type": "markdown",
   "metadata": {},
   "source": [
    "**ABCs: Class Decorators**"
   ]
  },
  {
   "cell_type": "markdown",
   "metadata": {},
   "source": [
    "Class decorators can also be used to register classes as implementing an ABC."
   ]
  },
  {
   "cell_type": "code",
   "execution_count": null,
   "metadata": {},
   "outputs": [
    {
     "name": "stdout",
     "output_type": "stream",
     "text": [
      "[<class '__main__.Plugin'>, <class '__main__.MyPlugin'>]\n"
     ]
    }
   ],
   "source": [
    "from abc import ABC, ABCMeta\n",
    "\n",
    "class PluginBase(ABC):\n",
    "    pass\n",
    "\n",
    "class PluginRegistry(ABCMeta):\n",
    "    def __init__(cls, name, bases, namespace):\n",
    "        super().__init__(name, bases, namespace)\n",
    "        if not hasattr(cls, 'registry'):\n",
    "            cls.registry = []\n",
    "        cls.registry.append(cls)\n",
    "\n",
    "class Plugin(PluginBase, metaclass=PluginRegistry):\n",
    "    pass\n",
    "\n",
    "class MyPlugin(Plugin):\n",
    "    pass\n",
    "\n",
    "print(Plugin.registry)"
   ]
  },
  {
   "cell_type": "markdown",
   "metadata": {},
   "source": [
    "## 3. Introduction to Protocols"
   ]
  },
  {
   "cell_type": "markdown",
   "metadata": {},
   "source": [
    "Protocols, introduced in PEP 544 and available from Python 3.8 onwards, allow you to define interfaces using structural subtyping (also known as duck typing). This means a class can conform to a protocol if it has the required methods and attributes, without explicitly inheriting from it."
   ]
  },
  {
   "cell_type": "markdown",
   "metadata": {},
   "source": [
    "Protocols are defined using the `Protocol` class from the `typing` module."
   ]
  },
  {
   "cell_type": "code",
   "execution_count": null,
   "metadata": {},
   "outputs": [],
   "source": [
    "from typing import Protocol\n",
    "\n",
    "class Drivable(Protocol):\n",
    "    def start_engine(self) -> None:\n",
    "        pass\n",
    "    \n",
    "    def stop_engine(self) -> None:\n",
    "        pass"
   ]
  },
  {
   "cell_type": "markdown",
   "metadata": {},
   "source": [
    "Unlike ABCs, a class can conform to a protocol simply by implementing the required methods, without needing to inherit from the protocol."
   ]
  },
  {
   "cell_type": "code",
   "execution_count": null,
   "metadata": {},
   "outputs": [],
   "source": [
    "class Car(Drivable):\n",
    "    def start_engine(self) -> None:\n",
    "        print(\"Car engine started\")\n",
    "    \n",
    "    def stop_engine(self) -> None:\n",
    "        print(\"Car engine stopped\")"
   ]
  },
  {
   "cell_type": "code",
   "execution_count": null,
   "metadata": {},
   "outputs": [],
   "source": [
    "class Boat:\n",
    "    def start_engine(self):\n",
    "        print(\"Boat engine started\")\n",
    "    \n",
    "    def stop_engine(self):\n",
    "        print(\"Boat engine stopped\")"
   ]
  },
  {
   "cell_type": "code",
   "execution_count": null,
   "metadata": {},
   "outputs": [
    {
     "name": "stdout",
     "output_type": "stream",
     "text": [
      "Boat engine started\n",
      "Boat engine stopped\n",
      "Car engine started\n",
      "Car engine stopped\n"
     ]
    }
   ],
   "source": [
    "def start_and_stop(vehicle: Drivable):\n",
    "    vehicle.start_engine()\n",
    "    vehicle.stop_engine()\n",
    "\n",
    "# These will work even though Boat and Car do not inherit from Drivable\n",
    "boat = Boat()\n",
    "start_and_stop(boat)\n",
    "\n",
    "car = Car()\n",
    "start_and_stop(car)"
   ]
  },
  {
   "cell_type": "markdown",
   "metadata": {},
   "source": [
    "Protocols are particularly useful for type checking in large codebases. They allow you to specify the required interface without imposing inheritance constraints."
   ]
  },
  {
   "cell_type": "code",
   "execution_count": null,
   "metadata": {},
   "outputs": [
    {
     "name": "stdout",
     "output_type": "stream",
     "text": [
      "Saving record to the database\n",
      "Saving record to the file\n"
     ]
    }
   ],
   "source": [
    "from typing import Protocol, List\n",
    "\n",
    "class Savable(Protocol):\n",
    "    def save(self) -> None:\n",
    "        pass\n",
    "\n",
    "class DatabaseRecord:\n",
    "    def save(self):\n",
    "        print(\"Saving record to the database\")\n",
    "\n",
    "class FileRecord:\n",
    "    def save(self):\n",
    "        print(\"Saving record to the file\")\n",
    "\n",
    "def batch_save(records: List[Savable]):\n",
    "    for record in records:\n",
    "        record.save()\n",
    "\n",
    "# This will work with both DatabaseRecord and FileRecord\n",
    "records = [DatabaseRecord(), FileRecord()]\n",
    "batch_save(records)"
   ]
  },
  {
   "cell_type": "markdown",
   "metadata": {},
   "source": [
    "**Protocols: Runtime Checkable Protocols**\n",
    "\n",
    "Protocols can be made runtime checkable using the `@runtime_checkable` decorator from the `typing` module."
   ]
  },
  {
   "cell_type": "code",
   "execution_count": null,
   "metadata": {},
   "outputs": [
    {
     "name": "stdout",
     "output_type": "stream",
     "text": [
      "True\n"
     ]
    }
   ],
   "source": [
    "from typing import Protocol, runtime_checkable\n",
    "\n",
    "@runtime_checkable\n",
    "class Drivable(Protocol):\n",
    "    def start_engine(self) -> None:\n",
    "        pass\n",
    "    \n",
    "    def stop_engine(self) -> None:\n",
    "        pass\n",
    "\n",
    "class Truck:\n",
    "    def start_engine(self):\n",
    "        print(\"Truck engine started\")\n",
    "    \n",
    "    def stop_engine(self):\n",
    "        print(\"Truck engine stopped\")\n",
    "\n",
    "truck = Truck()\n",
    "print(isinstance(truck, Drivable))"
   ]
  },
  {
   "cell_type": "markdown",
   "metadata": {},
   "source": [
    "## 4. Mixins"
   ]
  },
  {
   "cell_type": "markdown",
   "metadata": {},
   "source": [
    "A Mixin is a class that provides methods to other classes through inheritance, but it is not intended to stand alone. Mixins allow you to add specific, reusable functionalities to classes in a way that promotes code reuse and separation of concerns. "
   ]
  },
  {
   "cell_type": "markdown",
   "metadata": {},
   "source": [
    "**Key Characteristics of Mixins**\n",
    "\n",
    "1. **Purpose-specific**: Mixins should focus on providing a specific piece of functionality.\n",
    "2. **Not intended for standalone use**: A Mixin should not be instantiated on its own.\n",
    "3. **Can be combined with other classes**: Mixins are typically used with other base classes to extend their functionality."
   ]
  },
  {
   "cell_type": "markdown",
   "metadata": {},
   "source": [
    "Let's consider a practical example to illustrate how Mixins work. Suppose you have a system where different types of objects need to be serialized to JSON and XML formats."
   ]
  },
  {
   "cell_type": "code",
   "execution_count": null,
   "metadata": {},
   "outputs": [
    {
     "name": "stdout",
     "output_type": "stream",
     "text": [
      "{\"name\": \"John Doe\", \"age\": 30}\n",
      "<Person><name>John Doe</name><age>30</age></Person>\n"
     ]
    }
   ],
   "source": [
    "import json\n",
    "import xml.etree.ElementTree as ET\n",
    "\n",
    "class JsonSerializerMixin:\n",
    "    def to_json(self):\n",
    "        return json.dumps(self.__dict__)\n",
    "\n",
    "class XmlSerializerMixin:\n",
    "    def to_xml(self):\n",
    "        root = ET.Element(self.__class__.__name__)\n",
    "        for key, value in self.__dict__.items():\n",
    "            child = ET.SubElement(root, key)\n",
    "            child.text = str(value)\n",
    "        return ET.tostring(root, encoding='unicode')\n",
    "\n",
    "class Person(JsonSerializerMixin, XmlSerializerMixin):\n",
    "    def __init__(self, name, age):\n",
    "        self.name = name\n",
    "        self.age = age\n",
    "\n",
    "# Usage\n",
    "person = Person(name=\"John Doe\", age=30)\n",
    "print(person.to_json())\n",
    "print(person.to_xml()) "
   ]
  },
  {
   "cell_type": "markdown",
   "metadata": {},
   "source": [
    "In this example:\n",
    "- `JsonSerializerMixin` provides a `to_json` method.\n",
    "- `XmlSerializerMixin` provides a `to_xml` method.\n",
    "- `Person` class inherits from both mixins, gaining the ability to serialize to both JSON and XML."
   ]
  },
  {
   "cell_type": "markdown",
   "metadata": {},
   "source": [
    "Mixins can be combined with ABCs to enforce a certain interface while providing concrete methods. Here’s how you can do that:"
   ]
  },
  {
   "cell_type": "code",
   "execution_count": null,
   "metadata": {},
   "outputs": [
    {
     "name": "stdout",
     "output_type": "stream",
     "text": [
      "{\"name\": \"John Doe\", \"age\": 30}\n",
      "<Animal><species>Cat</species><age>5</age></Animal>\n"
     ]
    }
   ],
   "source": [
    "from abc import ABC, abstractmethod\n",
    "import json\n",
    "\n",
    "class Serializer(ABC):\n",
    "    @abstractmethod\n",
    "    def serialize(self):\n",
    "        pass\n",
    "\n",
    "class JsonSerializerMixin:\n",
    "    def serialize(self):\n",
    "        return json.dumps(self.__dict__)\n",
    "\n",
    "class XmlSerializerMixin:\n",
    "    def serialize(self):\n",
    "        root = ET.Element(self.__class__.__name__)\n",
    "        for key, value in self.__dict__.items():\n",
    "            child = ET.SubElement(root, key)\n",
    "            child.text = str(value)\n",
    "        return ET.tostring(root, encoding='unicode')\n",
    "\n",
    "class Person(JsonSerializerMixin, Serializer):\n",
    "    def __init__(self, name, age):\n",
    "        self.name = name\n",
    "        self.age = age\n",
    "\n",
    "class Animal(XmlSerializerMixin, Serializer):\n",
    "    def __init__(self, species, age):\n",
    "        self.species = species\n",
    "        self.age = age\n",
    "\n",
    "# Usage\n",
    "person = Person(name=\"John Doe\", age=30)\n",
    "print(person.serialize()) \n",
    "\n",
    "animal = Animal(species=\"Cat\", age=5)\n",
    "print(animal.serialize()) "
   ]
  },
  {
   "cell_type": "markdown",
   "metadata": {},
   "source": [
    "In this example:\n",
    "- `Serializer` is an ABC with an abstract `serialize` method.\n",
    "- `JsonSerializerMixin` and `XmlSerializerMixin` provide concrete implementations of `serialize`.\n",
    "- `Person` and `Animal` classes inherit from both a mixin and the `Serializer` ABC, ensuring they have a `serialize` method.\n"
   ]
  },
  {
   "cell_type": "markdown",
   "metadata": {},
   "source": [
    "Mixins are a powerful tool in Python's inheritance model that promote code reuse and separation of concerns. They complement Abstract Base Classes and Protocols by providing reusable methods and behaviors, making your classes more flexible and modular."
   ]
  },
  {
   "cell_type": "markdown",
   "metadata": {},
   "source": [
    "## 5. Comparing Abstract Base Classes and Protocols"
   ]
  },
  {
   "cell_type": "markdown",
   "metadata": {},
   "source": [
    "**When to Use ABCs**:\n",
    "- **Strict Interface Enforcement**: Use ABCs when you need strict control over the interface and want to ensure that subclasses explicitly declare their intent to conform to the interface.\n",
    "- **Complex Inheritance Structures**: Use ABCs when dealing with complex inheritance structures where you need multiple inheritance or mixins.\n",
    "\n",
    "**When to Use Protocols**:\n",
    "- **Duck Typing**: Use Protocols when you prefer structural subtyping (duck typing) and want classes to conform to an interface without explicit inheritance.\n",
    "- **Type Checking**: Use Protocols to take advantage of type hints and static type checking in tools like `mypy`.\n",
    "\n",
    "**When to Use Mixins**:\n",
    "- **Mixins**: Use Mixins to add reusable functionality to classes. Mixins can be used alongside ABCs and Protocols to provide concrete methods or additional behavior."
   ]
  }
 ],
 "metadata": {
  "kernelspec": {
   "display_name": "pytorch",
   "language": "python",
   "name": "python3"
  },
  "language_info": {
   "codemirror_mode": {
    "name": "ipython",
    "version": 3
   },
   "file_extension": ".py",
   "mimetype": "text/x-python",
   "name": "python",
   "nbconvert_exporter": "python",
   "pygments_lexer": "ipython3",
   "version": "3.11.5"
  }
 },
 "nbformat": 4,
 "nbformat_minor": 2
}
