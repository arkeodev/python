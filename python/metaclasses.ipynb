{
 "cells": [
  {
   "cell_type": "markdown",
   "metadata": {},
   "source": [
    "# Metaclasses"
   ]
  },
  {
   "cell_type": "markdown",
   "metadata": {},
   "source": [
    "Metaclasses are an advanced and powerful feature in Python. They allow you to define the behavior of classes, just like classes define the behavior of instances. Understanding metaclasses requires a solid grasp of classes and object-oriented programming in Python. "
   ]
  },
  {
   "cell_type": "markdown",
   "metadata": {},
   "source": [
    "## 1. What are Metaclasses?"
   ]
  },
  {
   "cell_type": "markdown",
   "metadata": {},
   "source": [
    "A metaclass in Python is a class of a class that defines how a class behaves. A class is an instance of a metaclass. Just as objects are instances of classes, classes are instances of metaclasses.\n",
    "\n",
    "In Python, everything is an object, including classes. When you define a class, Python creates an object. This creation process is controlled by a metaclass."
   ]
  },
  {
   "cell_type": "markdown",
   "metadata": {},
   "source": [
    "## 2. The Basics of Metaclasses"
   ]
  },
  {
   "cell_type": "markdown",
   "metadata": {},
   "source": [
    "### Defining a Metaclass"
   ]
  },
  {
   "cell_type": "markdown",
   "metadata": {},
   "source": [
    "To define a metaclass, you create a class that inherits from `type`. The `type` class is a built-in class that represents the type of an object. It is used to create new classes and instances:"
   ]
  },
  {
   "cell_type": "code",
   "execution_count": 17,
   "metadata": {},
   "outputs": [],
   "source": [
    "class MyMeta(type):\n",
    "    def __new__(cls, name, bases, dct):\n",
    "        print(f\"Creating class {name}\")\n",
    "        return super().__new__(cls, name, bases, dct)"
   ]
  },
  {
   "cell_type": "markdown",
   "metadata": {},
   "source": [
    "### Using a Metaclass"
   ]
  },
  {
   "cell_type": "markdown",
   "metadata": {},
   "source": [
    "You can specify a metaclass for a class by using the `metaclass` keyword in the class definition:"
   ]
  },
  {
   "cell_type": "code",
   "execution_count": 18,
   "metadata": {},
   "outputs": [
    {
     "name": "stdout",
     "output_type": "stream",
     "text": [
      "Creating class MyClass\n"
     ]
    }
   ],
   "source": [
    "class MyClass(metaclass=MyMeta):\n",
    "    pass"
   ]
  },
  {
   "cell_type": "markdown",
   "metadata": {},
   "source": [
    "## 3. Common Uses of Metaclasses"
   ]
  },
  {
   "cell_type": "markdown",
   "metadata": {},
   "source": [
    "### 1. Logging Class Creation"
   ]
  },
  {
   "cell_type": "markdown",
   "metadata": {},
   "source": [
    "Metaclasses can be used to log when classes are created:"
   ]
  },
  {
   "cell_type": "code",
   "execution_count": 19,
   "metadata": {},
   "outputs": [
    {
     "name": "stdout",
     "output_type": "stream",
     "text": [
      "Creating class LoggedClass with bases () and attributes {'__module__': '__main__', '__qualname__': 'LoggedClass'}\n"
     ]
    }
   ],
   "source": [
    "class LoggingMeta(type):\n",
    "    def __new__(cls, name, bases, dct):\n",
    "        print(f\"Creating class {name} with bases {bases} and attributes {dct}\")\n",
    "        return super().__new__(cls, name, bases, dct)\n",
    "\n",
    "class LoggedClass(metaclass=LoggingMeta):\n",
    "    pass\n"
   ]
  },
  {
   "cell_type": "markdown",
   "metadata": {},
   "source": [
    "### 2. Enforcing Coding Standards"
   ]
  },
  {
   "cell_type": "markdown",
   "metadata": {},
   "source": [
    "You can use metaclasses to enforce certain coding standards, such as method naming conventions:"
   ]
  },
  {
   "cell_type": "code",
   "execution_count": 20,
   "metadata": {},
   "outputs": [],
   "source": [
    "class EnforceNameMeta(type):\n",
    "    def __new__(cls, name, bases, dct):\n",
    "        for attr, value in dct.items():\n",
    "            if callable(value) and not attr.startswith('do_'):\n",
    "                raise TypeError(f\"Method {attr} must start with 'do_'\")\n",
    "        return super().__new__(cls, name, bases, dct)\n",
    "\n",
    "class StandardClass(metaclass=EnforceNameMeta):\n",
    "    def do_something(self):\n",
    "        pass\n",
    "    \n",
    "    # Uncommenting the following method will raise an error\n",
    "    # def something(self):\n",
    "    #     pass"
   ]
  },
  {
   "cell_type": "markdown",
   "metadata": {},
   "source": [
    "### 3. Custom Class Attributes"
   ]
  },
  {
   "cell_type": "markdown",
   "metadata": {},
   "source": [
    "Metaclasses can add or modify class attributes dynamically:"
   ]
  },
  {
   "cell_type": "code",
   "execution_count": 27,
   "metadata": {},
   "outputs": [
    {
     "name": "stdout",
     "output_type": "stream",
     "text": [
      "This is a custom attribute\n"
     ]
    }
   ],
   "source": [
    "class CustomAttrMeta(type):\n",
    "    def __new__(cls, name, bases, dct):\n",
    "        dct['custom_attr'] = \"This is a custom attribute\"\n",
    "        return super().__new__(cls, name, bases, dct)\n",
    "\n",
    "class CustomClass(metaclass=CustomAttrMeta):\n",
    "    normal_attr = \"normal attribute\"\n",
    "    custom_attr = \"this will be changed by MetaClass\"\n",
    "\n",
    "print(CustomClass.custom_attr)"
   ]
  },
  {
   "cell_type": "markdown",
   "metadata": {},
   "source": [
    "### 4. Singleton Pattern"
   ]
  },
  {
   "cell_type": "markdown",
   "metadata": {},
   "source": [
    "You can implement the Singleton pattern using metaclasses to ensure a class only has one instance:"
   ]
  },
  {
   "cell_type": "code",
   "execution_count": 22,
   "metadata": {},
   "outputs": [
    {
     "name": "stdout",
     "output_type": "stream",
     "text": [
      "True\n"
     ]
    }
   ],
   "source": [
    "class SingletonMeta(type):\n",
    "    _instances = {}\n",
    "    def __call__(cls, *args, **kwargs):\n",
    "        if cls not in cls._instances:\n",
    "            cls._instances[cls] = super().__call__(*args, **kwargs)\n",
    "        return cls._instances[cls]\n",
    "\n",
    "class SingletonClass(metaclass=SingletonMeta):\n",
    "    pass\n",
    "\n",
    "s1 = SingletonClass()\n",
    "s2 = SingletonClass()\n",
    "print(s1 is s2)"
   ]
  },
  {
   "cell_type": "markdown",
   "metadata": {},
   "source": [
    "## 4. Examples"
   ]
  },
  {
   "cell_type": "markdown",
   "metadata": {},
   "source": [
    "### 1. Django ORM Example"
   ]
  },
  {
   "cell_type": "markdown",
   "metadata": {},
   "source": [
    "Django, a popular web framework, uses metaclasses to define models. Here’s a simplified version of how you might use metaclasses to create an ORM (Object-Relational Mapping) system:"
   ]
  },
  {
   "cell_type": "code",
   "execution_count": 23,
   "metadata": {},
   "outputs": [],
   "source": [
    "class ModelMeta(type):\n",
    "    def __new__(cls, name, bases, dct):\n",
    "        if name != 'BaseModel':\n",
    "            if 'Meta' not in dct:\n",
    "                raise TypeError(f\"Class {name} must have a Meta class\")\n",
    "        return super().__new__(cls, name, bases, dct)\n",
    "\n",
    "class BaseModel(metaclass=ModelMeta):\n",
    "    pass\n",
    "\n",
    "class User(BaseModel):\n",
    "    class Meta:\n",
    "        db_table = 'users'\n",
    "\n",
    "# Uncommenting the following class definition will raise an error\n",
    "# class Product(BaseModel):\n",
    "#     pass\n"
   ]
  },
  {
   "cell_type": "markdown",
   "metadata": {},
   "source": [
    "This is the Django version definition:\n",
    "\n",
    "```python\n",
    "from django.db import models\n",
    "\n",
    "\n",
    "class Ox(models.Model):\n",
    "    horn_length = models.IntegerField()\n",
    "\n",
    "    class Meta:\n",
    "        ordering = [\"horn_length\"]\n",
    "        verbose_name_plural = \"oxen\"\n",
    "```\n"
   ]
  },
  {
   "cell_type": "markdown",
   "metadata": {},
   "source": [
    "### 2. Plugin System"
   ]
  },
  {
   "cell_type": "markdown",
   "metadata": {},
   "source": [
    "In Python, metaclasses can be used to automatically register classes as plugins, simplifying the process of managing and utilizing these plugins.\n",
    "\n",
    "- **Automatic Registration:** When a new class (plugin) is created, the metaclass automatically registers it in a central dictionary. This makes it easy to keep track of all available plugins without manually adding them to the registry.\n",
    "- **Simplified Management:** By centralizing the registration process, it becomes easier to manage, list, and utilize plugins within the application. This pattern is particularly useful in large systems where plugins can be dynamically added or removed."
   ]
  },
  {
   "cell_type": "markdown",
   "metadata": {},
   "source": [
    "**A Simplified Demo of PluginMeta Metaclass:**"
   ]
  },
  {
   "cell_type": "code",
   "execution_count": 33,
   "metadata": {},
   "outputs": [],
   "source": [
    "class PluginMeta(type):\n",
    "    plugins = {}\n",
    "\n",
    "    def __new__(cls, name, bases, dct):\n",
    "        plugin_class = super().__new__(cls, name, bases, dct)\n",
    "        if name != 'BasePlugin':\n",
    "            PluginMeta.plugins[name] = plugin_class\n",
    "        return plugin_class"
   ]
  },
  {
   "cell_type": "markdown",
   "metadata": {},
   "source": [
    "- `PluginMeta` is a metaclass that contains a class attribute `plugins`, which is a dictionary meant to store references to plugin classes.\n",
    "- The `__new__` method is overridden to customize the creation of new classes that use `PluginMeta` as their metaclass. During class creation, if the class name is not `BasePlugin`, it registers the new class in the `plugins` dictionary."
   ]
  },
  {
   "cell_type": "markdown",
   "metadata": {},
   "source": [
    "**BasePlugin Class:**"
   ]
  },
  {
   "cell_type": "code",
   "execution_count": 34,
   "metadata": {},
   "outputs": [],
   "source": [
    "class BasePlugin(metaclass=PluginMeta):\n",
    "    pass"
   ]
  },
  {
   "cell_type": "markdown",
   "metadata": {},
   "source": [
    "- `BasePlugin` is the base class for all plugins. It uses `PluginMeta` as its metaclass, which means any subclass of `BasePlugin` will be processed by `PluginMeta`."
   ]
  },
  {
   "cell_type": "markdown",
   "metadata": {},
   "source": [
    "**PluginA and PluginB Classes:**"
   ]
  },
  {
   "cell_type": "code",
   "execution_count": 35,
   "metadata": {},
   "outputs": [],
   "source": [
    "class PluginA(BasePlugin):\n",
    "    pass\n",
    "\n",
    "class PluginB(BasePlugin):\n",
    "    pass"
   ]
  },
  {
   "cell_type": "markdown",
   "metadata": {},
   "source": [
    "- `PluginA` and `PluginB` are subclasses of `BasePlugin`. When they are defined, `PluginMeta`'s `__new__` method registers them in the `plugins` dictionary."
   ]
  },
  {
   "cell_type": "markdown",
   "metadata": {},
   "source": [
    "**Output the Registered Plugins:**"
   ]
  },
  {
   "cell_type": "code",
   "execution_count": 36,
   "metadata": {},
   "outputs": [
    {
     "name": "stdout",
     "output_type": "stream",
     "text": [
      "{'PluginA': <class '__main__.PluginA'>, 'PluginB': <class '__main__.PluginB'>}\n"
     ]
    }
   ],
   "source": [
    "print(PluginMeta.plugins)"
   ]
  },
  {
   "cell_type": "markdown",
   "metadata": {},
   "source": [
    "**Benefits of Using Metaclasses for Plugin Systems:**\n",
    "- **Encapsulation:** The registration logic is encapsulated within the metaclass, keeping the plugin classes clean and focused on their functionality.\n",
    "- **Automatic Discovery:** New plugins are automatically discovered and registered without additional boilerplate code, making the system more extensible.\n",
    "- **Centralized Control:** The central registry allows for easy access to all available plugins, facilitating operations like iteration, filtering, and instantiation."
   ]
  },
  {
   "cell_type": "markdown",
   "metadata": {},
   "source": [
    "## 5. Best Practices"
   ]
  },
  {
   "cell_type": "markdown",
   "metadata": {},
   "source": [
    "- **Use Sparingly:** Metaclasses can make the code harder to read and maintain. Use them only when necessary.\n",
    "- **Documentation:** Always document the purpose and behavior of your metaclasses.\n",
    "- **Testing:** Thoroughly test classes that use metaclasses to ensure they behave as expected."
   ]
  },
  {
   "cell_type": "markdown",
   "metadata": {},
   "source": [
    "## Additional Resources"
   ]
  },
  {
   "cell_type": "markdown",
   "metadata": {},
   "source": [
    "- [Python Metaclasses Documentation](https://docs.python.org/3/reference/datamodel.html#metaclasses): Official Python documentation on metaclasses.\n",
    "- [Django Metaclasses](https://docs.djangoproject.com/en/dev/topics/db/models/#meta-options): How Django uses metaclasses in its ORM system.\n",
    "- [Blog Post on Python Plugin Systems](https://realpython.com/python-metaclasses/#plugins-and-hooks): A detailed blog post on how to create plugin systems using metaclasses.\n",
    "- [How does Django's nested Meta class work?](https://stackoverflow.com/questions/10344197/how-does-djangos-nested-meta-class-work)\n",
    "- [Python Metaclass Tutorial with Examples](https://www.techrepublic.com/article/python-metaclass/)"
   ]
  },
  {
   "cell_type": "markdown",
   "metadata": {},
   "source": [
    "## Conclusion"
   ]
  },
  {
   "cell_type": "markdown",
   "metadata": {},
   "source": [
    "Metaclasses are a powerful feature in Python that can be used to control the creation and behavior of classes. They are useful for logging, enforcing coding standards, creating singletons, and more. However, they should be used judiciously due to their complexity and potential impact on code readability and maintainability. "
   ]
  }
 ],
 "metadata": {
  "kernelspec": {
   "display_name": "pytorch",
   "language": "python",
   "name": "python3"
  },
  "language_info": {
   "codemirror_mode": {
    "name": "ipython",
    "version": 3
   },
   "file_extension": ".py",
   "mimetype": "text/x-python",
   "name": "python",
   "nbconvert_exporter": "python",
   "pygments_lexer": "ipython3",
   "version": "3.11.5"
  }
 },
 "nbformat": 4,
 "nbformat_minor": 2
}
