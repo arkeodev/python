{
 "cells": [
  {
   "cell_type": "markdown",
   "metadata": {},
   "source": [
    "# Functools"
   ]
  },
  {
   "cell_type": "markdown",
   "metadata": {},
   "source": [
    "The `functools` module in Python provides higher-order functions that act on or return other functions. It is part of Python's standard library. It includes functions for functional programming, such as function composition, memoization, and more. These functions can help write more concise and readable code."
   ]
  },
  {
   "cell_type": "markdown",
   "metadata": {},
   "source": [
    "### 1. `functools.reduce`"
   ]
  },
  {
   "cell_type": "markdown",
   "metadata": {},
   "source": [
    "The `reduce` function is used to apply a function cumulatively to the items of an iterable, reducing the iterable to a single value."
   ]
  },
  {
   "cell_type": "markdown",
   "metadata": {},
   "source": [
    "**Example**: \n",
    "\n",
    "Calculate the product of a list of numbers:"
   ]
  },
  {
   "cell_type": "code",
   "execution_count": 19,
   "metadata": {},
   "outputs": [
    {
     "name": "stdout",
     "output_type": "stream",
     "text": [
      "120\n"
     ]
    }
   ],
   "source": [
    "from functools import reduce\n",
    "\n",
    "numbers = [1, 2, 3, 4, 5]\n",
    "\n",
    "# Using lambda function\n",
    "product = reduce(lambda x, y: x * y, numbers)\n",
    "print(product)"
   ]
  },
  {
   "cell_type": "markdown",
   "metadata": {},
   "source": [
    "### 2. `functools.partial`"
   ]
  },
  {
   "cell_type": "markdown",
   "metadata": {},
   "source": [
    "The `partial` function allows you to preset some of the arguments of a given function. It effectively allows you to create a new function that behaves like the original one but with some arguments already fixed. This can be especially useful for callbacks, event handlers, or simply to reduce the complexity of repeatedly calling a function with the same parameters."
   ]
  },
  {
   "cell_type": "markdown",
   "metadata": {},
   "source": [
    "The `partial` function takes the following parameters:\n",
    "\n",
    "1. **func**:\n",
    "   - **Definition**: The function to which you want to apply partial application.\n",
    "   - **Usage**: `partial(func, *args, **kwargs)`\n",
    "\n",
    "2. **args**:\n",
    "   - **Definition**: Positional arguments to be fixed in the new function.\n",
    "   - **Usage**: `partial(func, arg1, arg2, ...)`\n",
    "\n",
    "3. **keywords (kwargs)**:\n",
    "   - **Definition**: Keyword arguments to be fixed in the new function.\n",
    "   - **Usage**: `partial(func, kwarg1=value1, kwarg2=value2, ...)"
   ]
  },
  {
   "cell_type": "markdown",
   "metadata": {},
   "source": [
    "**Example**: \n",
    "\n",
    "In a production system, you might have different logging levels and specific metadata that needs to be attached to certain logs. Using partial allows you to create specialized log functions that simplify logging calls and ensure consistency."
   ]
  },
  {
   "cell_type": "code",
   "execution_count": 20,
   "metadata": {},
   "outputs": [
    {
     "name": "stdout",
     "output_type": "stream",
     "text": [
      "[INFO] System started (Timestamp: 2024-05-24 10:00:00)\n",
      "[INFO] User login successful (Timestamp: 2024-05-24 10:05:00) (User: Alice)\n",
      "[ERROR] An error occurred (Timestamp: 2024-05-24 10:10:00) (User: system)\n"
     ]
    }
   ],
   "source": [
    "# A logging function that takes a log level, a message, and additional keyword arguments for metadata\n",
    "from functools import partial\n",
    "\n",
    "# Define a general logging function\n",
    "def log_message(level, message, *, timestamp=None, user=None):\n",
    "    log_entry = f\"[{level}] {message}\"\n",
    "    if timestamp:\n",
    "        log_entry += f\" (Timestamp: {timestamp})\"\n",
    "    if user:\n",
    "        log_entry += f\" (User: {user})\"\n",
    "    return log_entry\n",
    "\n",
    "# Create specialized log functions\n",
    "info_log = partial(log_message, \"INFO\")\n",
    "error_log = partial(log_message, \"ERROR\", user=\"system\")\n",
    "\n",
    "# Usage of the new functions\n",
    "print(info_log(\"System started\", timestamp=\"2024-05-24 10:00:00\"))\n",
    "print(info_log(\"User login successful\", timestamp=\"2024-05-24 10:05:00\", user=\"Alice\"))\n",
    "print(error_log(\"An error occurred\", timestamp=\"2024-05-24 10:10:00\"))"
   ]
  },
  {
   "cell_type": "markdown",
   "metadata": {},
   "source": [
    "- **log_message**: This is a general logging function that takes a `level`, a `message`, and optional keyword arguments `timestamp` and `user`.\n",
    "- **info_log**: A specialized version of `log_message` that always logs messages at the \"INFO\" level. The `level` argument is fixed to `\"INFO\"`, but `message`, `timestamp`, and `user` can be provided when calling `info_log`.\n",
    "- **error_log**: A specialized version of `log_message` that always logs messages at the \"ERROR\" level and sets the `user` to `\"system\"`. The `level` and `user` arguments are fixed, but `message` and `timestamp` can be provided when calling `error_log`."
   ]
  },
  {
   "cell_type": "markdown",
   "metadata": {},
   "source": [
    "### 3. `functools.lru_cache`"
   ]
  },
  {
   "cell_type": "markdown",
   "metadata": {},
   "source": [
    "The `lru_cache` decorator in Python, provided by the `functools` module, is a powerful tool for memoization. Here are five important parameters and definitions associated with `lru_cache`:\n",
    "\n",
    "1. **maxsize**:\n",
    "   - **Definition**: This parameter specifies the maximum number of entries that the cache can store. When the cache reaches this size, the least recently used (LRU) entries are discarded to make room for new ones.\n",
    "   - **Default**: The default value is `128`.\n",
    "\n",
    "2. **typed**:\n",
    "   - **Definition**: When set to `True`, the cache will store separate results for function arguments of different types. This means that `f(3)` and `f(3.0)` will be cached separately even if they result in the same output.\n",
    "   - **Default**: The default value is `False`.\n",
    "   - **Usage**: `@lru_cache(typed=True)`"
   ]
  },
  {
   "cell_type": "code",
   "execution_count": 21,
   "metadata": {},
   "outputs": [
    {
     "name": "stdout",
     "output_type": "stream",
     "text": [
      "55\n",
      "CacheInfo(hits=8, misses=11, maxsize=100, currsize=11)\n",
      "CacheInfo(hits=0, misses=0, maxsize=100, currsize=0)\n"
     ]
    }
   ],
   "source": [
    "from functools import lru_cache\n",
    "\n",
    "@lru_cache(maxsize=100)\n",
    "def fibonacci(n):\n",
    "    if n < 2:\n",
    "        return n\n",
    "    return fibonacci(n-1) + fibonacci(n-2)\n",
    "\n",
    "# Call the function and print the result\n",
    "print(fibonacci(10))\n",
    "\n",
    "# Print cache info after the computation\n",
    "print(fibonacci.cache_info())\n",
    "\n",
    "# Clear the cache\n",
    "fibonacci.cache_clear()\n",
    "print(fibonacci.cache_info())"
   ]
  },
  {
   "cell_type": "markdown",
   "metadata": {},
   "source": [
    "### 4. `functools.wraps`"
   ]
  },
  {
   "cell_type": "markdown",
   "metadata": {},
   "source": [
    "The `wraps` decorator is used to preserve the metadata of the original function when a function is wrapped by another function (e.g., decorators)."
   ]
  },
  {
   "cell_type": "code",
   "execution_count": 22,
   "metadata": {},
   "outputs": [
    {
     "name": "stdout",
     "output_type": "stream",
     "text": [
      "Something is happening before the function is called.\n",
      "Hello!\n",
      "Something is happening after the function is called.\n",
      "say_hello\n",
      "Says hello to everybody\n"
     ]
    }
   ],
   "source": [
    "# Example: Preserve metadata when creating a decorator:\n",
    "from functools import wraps\n",
    "\n",
    "def my_decorator(f):\n",
    "    @wraps(f)\n",
    "    def wrapper(*args, **kwargs):\n",
    "        print(\"Something is happening before the function is called.\")\n",
    "        result = f(*args, **kwargs)\n",
    "        print(\"Something is happening after the function is called.\")\n",
    "        return result\n",
    "    return wrapper\n",
    "\n",
    "@my_decorator\n",
    "def say_hello():\n",
    "    '''Says hello to everybody'''\n",
    "    print(\"Hello!\")\n",
    "\n",
    "say_hello()\n",
    "print(say_hello.__name__)\n",
    "print(say_hello.__doc__)                                                "
   ]
  },
  {
   "cell_type": "markdown",
   "metadata": {},
   "source": [
    "### 5. `functools.total_ordering`"
   ]
  },
  {
   "cell_type": "markdown",
   "metadata": {},
   "source": [
    "The `total_ordering` class decorator is used to fill in missing ordering methods. If you provide at least one ordering method (`__lt__`, `__le__`, `__gt__`, or `__ge__`), this decorator will supply the rest."
   ]
  },
  {
   "cell_type": "code",
   "execution_count": 23,
   "metadata": {},
   "outputs": [
    {
     "name": "stdout",
     "output_type": "stream",
     "text": [
      "True\n",
      "False\n"
     ]
    }
   ],
   "source": [
    "# Example: Create a class that only defines `__eq__` and `__lt__`:\n",
    "from functools import total_ordering\n",
    "\n",
    "@total_ordering\n",
    "class Person:\n",
    "    def __init__(self, name, age):\n",
    "        self.name = name\n",
    "        self.age = age\n",
    "\n",
    "    def __eq__(self, other):\n",
    "        return self.age == other.age\n",
    "\n",
    "    def __lt__(self, other):\n",
    "        return self.age < other.age\n",
    "\n",
    "person1 = Person('Alice', 30)\n",
    "person2 = Person('Bob', 25)\n",
    "\n",
    "print(person1 > person2)\n",
    "print(person1 <= person2)"
   ]
  },
  {
   "cell_type": "markdown",
   "metadata": {},
   "source": [
    "### 6. `functools.singledispatch`"
   ]
  },
  {
   "cell_type": "markdown",
   "metadata": {},
   "source": [
    "The `singledispatch` decorator transforms a function into a single-dispatch generic function, allowing you to define multiple versions of a function based on the type of the first argument."
   ]
  },
  {
   "cell_type": "code",
   "execution_count": 24,
   "metadata": {},
   "outputs": [
    {
     "name": "stdout",
     "output_type": "stream",
     "text": [
      "Processing integer: 10\n",
      "Processing string: hello\n",
      "Processing list: [1, 2, 3]\n"
     ]
    }
   ],
   "source": [
    "# Example: Create a function that behaves differently based on the type of its argument:\n",
    "from functools import singledispatch\n",
    "\n",
    "@singledispatch\n",
    "def process(data):\n",
    "    raise NotImplementedError('Unsupported type')\n",
    "\n",
    "@process.register\n",
    "def _(data: int):\n",
    "    return f\"Processing integer: {data}\"\n",
    "\n",
    "@process.register\n",
    "def _(data: str):\n",
    "    return f\"Processing string: {data}\"\n",
    "\n",
    "@process.register\n",
    "def _(data: list):\n",
    "    return f\"Processing list: {data}\"\n",
    "\n",
    "print(process(10))         \n",
    "print(process(\"hello\"))    \n",
    "print(process([1, 2, 3])) "
   ]
  }
 ],
 "metadata": {
  "kernelspec": {
   "display_name": "pytorch",
   "language": "python",
   "name": "python3"
  },
  "language_info": {
   "codemirror_mode": {
    "name": "ipython",
    "version": 3
   },
   "file_extension": ".py",
   "mimetype": "text/x-python",
   "name": "python",
   "nbconvert_exporter": "python",
   "pygments_lexer": "ipython3",
   "version": "3.11.5"
  }
 },
 "nbformat": 4,
 "nbformat_minor": 2
}
