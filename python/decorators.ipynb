{
 "cells": [
  {
   "cell_type": "markdown",
   "metadata": {},
   "source": [
    "# Python Decorators"
   ]
  },
  {
   "cell_type": "markdown",
   "metadata": {},
   "source": [
    "Decorators are a powerful and useful tool in Python that allows you to modify the behavior of a function or class method. "
   ]
  },
  {
   "cell_type": "markdown",
   "metadata": {},
   "source": [
    "## 1. Introduction"
   ]
  },
  {
   "cell_type": "markdown",
   "metadata": {},
   "source": [
    "A decorator is a function that takes another function and extends its behavior without explicitly modifying it. "
   ]
  },
  {
   "cell_type": "code",
   "execution_count": 11,
   "metadata": {},
   "outputs": [
    {
     "name": "stdout",
     "output_type": "stream",
     "text": [
      "Display function ran\n"
     ]
    }
   ],
   "source": [
    "def decorator_function(original_function):\n",
    "    def wrapper_function(*args, **kwargs):\n",
    "        # Code to execute before the original function\n",
    "        result = original_function(*args, **kwargs)\n",
    "        # Code to execute after the original function\n",
    "        return result\n",
    "    return wrapper_function\n",
    "\n",
    "# Usage\n",
    "@decorator_function\n",
    "def display():\n",
    "    print(\"Display function ran\")\n",
    "\n",
    "display()"
   ]
  },
  {
   "cell_type": "markdown",
   "metadata": {},
   "source": [
    "## 2. Basic Function Decorators"
   ]
  },
  {
   "cell_type": "markdown",
   "metadata": {},
   "source": [
    "Let's start with a simple example:"
   ]
  },
  {
   "cell_type": "code",
   "execution_count": 12,
   "metadata": {},
   "outputs": [
    {
     "name": "stdout",
     "output_type": "stream",
     "text": [
      "Something is happening before the function is called.\n",
      "Hello!\n",
      "Something is happening after the function is called.\n"
     ]
    }
   ],
   "source": [
    "def simple_decorator(func):\n",
    "    def wrapper():\n",
    "        print(\"Something is happening before the function is called.\")\n",
    "        func()\n",
    "        print(\"Something is happening after the function is called.\")\n",
    "    return wrapper\n",
    "\n",
    "@simple_decorator\n",
    "def say_hello():\n",
    "    print(\"Hello!\")\n",
    "\n",
    "say_hello()"
   ]
  },
  {
   "cell_type": "markdown",
   "metadata": {},
   "source": [
    "## 3. Decorators with Arguments\n"
   ]
  },
  {
   "cell_type": "markdown",
   "metadata": {},
   "source": [
    "Decorators can also accept arguments:"
   ]
  },
  {
   "cell_type": "code",
   "execution_count": 13,
   "metadata": {},
   "outputs": [
    {
     "name": "stdout",
     "output_type": "stream",
     "text": [
      "Hello World\n",
      "Hello World\n",
      "Hello World\n"
     ]
    }
   ],
   "source": [
    "def repeat(num_times):\n",
    "    def decorator_repeat(func):\n",
    "        def wrapper(*args, **kwargs):\n",
    "            for _ in range(num_times):\n",
    "                result = func(*args, **kwargs)\n",
    "            return result\n",
    "        return wrapper\n",
    "    return decorator_repeat\n",
    "\n",
    "@repeat(num_times=3)\n",
    "def greet(name):\n",
    "    print(f\"Hello {name}\")\n",
    "\n",
    "greet(\"World\")"
   ]
  },
  {
   "cell_type": "markdown",
   "metadata": {},
   "source": [
    "## 4. Class Decorators"
   ]
  },
  {
   "cell_type": "markdown",
   "metadata": {},
   "source": [
    "Decorators can also be applied to classes:"
   ]
  },
  {
   "cell_type": "code",
   "execution_count": 14,
   "metadata": {},
   "outputs": [
    {
     "name": "stdout",
     "output_type": "stream",
     "text": [
      "Call 1 of say_hello\n",
      "Hello!\n",
      "Call 2 of say_hello\n",
      "Hello!\n"
     ]
    }
   ],
   "source": [
    "class CountCalls:\n",
    "    def __init__(self, func):\n",
    "        self.func = func\n",
    "        self.num_calls = 0\n",
    "\n",
    "    def __call__(self, *args, **kwargs):\n",
    "        self.num_calls += 1\n",
    "        print(f\"Call {self.num_calls} of {self.func.__name__}\")\n",
    "        return self.func(*args, **kwargs)\n",
    "\n",
    "@CountCalls\n",
    "def say_hello():\n",
    "    print(\"Hello!\")\n",
    "\n",
    "say_hello()\n",
    "say_hello()\n"
   ]
  },
  {
   "cell_type": "markdown",
   "metadata": {},
   "source": [
    "## 5. Decorators for Method Functions"
   ]
  },
  {
   "cell_type": "markdown",
   "metadata": {},
   "source": [
    "Decorators can be used to modify methods in a class:"
   ]
  },
  {
   "cell_type": "code",
   "execution_count": 15,
   "metadata": {},
   "outputs": [
    {
     "name": "stdout",
     "output_type": "stream",
     "text": [
      "Before display\n",
      "Display method called\n",
      "After display\n"
     ]
    }
   ],
   "source": [
    "def method_decorator(func):\n",
    "    def wrapper(self, *args, **kwargs):\n",
    "        print(f\"Before {func.__name__}\")\n",
    "        result = func(self, *args, **kwargs)\n",
    "        print(f\"After {func.__name__}\")\n",
    "        return result\n",
    "    return wrapper\n",
    "\n",
    "class MyClass:\n",
    "    @method_decorator\n",
    "    def display(self):\n",
    "        print(\"Display method called\")\n",
    "\n",
    "obj = MyClass()\n",
    "obj.display()"
   ]
  },
  {
   "cell_type": "markdown",
   "metadata": {},
   "source": [
    "## 6. Chaining Decorators"
   ]
  },
  {
   "cell_type": "markdown",
   "metadata": {},
   "source": [
    "Multiple decorators can be chained together:"
   ]
  },
  {
   "cell_type": "code",
   "execution_count": 16,
   "metadata": {},
   "outputs": [
    {
     "name": "stdout",
     "output_type": "stream",
     "text": [
      "Decorator One\n",
      "Decorator Two\n",
      "Hello!\n"
     ]
    }
   ],
   "source": [
    "def decorator_one(func):\n",
    "    def wrapper(*args, **kwargs):\n",
    "        print(\"Decorator One\")\n",
    "        return func(*args, **kwargs)\n",
    "    return wrapper\n",
    "\n",
    "def decorator_two(func):\n",
    "    def wrapper(*args, **kwargs):\n",
    "        print(\"Decorator Two\")\n",
    "        return func(*args, **kwargs)\n",
    "    return wrapper\n",
    "\n",
    "@decorator_one\n",
    "@decorator_two\n",
    "def say_hello():\n",
    "    print(\"Hello!\")\n",
    "\n",
    "say_hello()"
   ]
  },
  {
   "cell_type": "markdown",
   "metadata": {},
   "source": [
    "## 7. Using Decorators for Logging\n"
   ]
  },
  {
   "cell_type": "markdown",
   "metadata": {},
   "source": [
    "A common use of decorators is to log function calls:"
   ]
  },
  {
   "cell_type": "code",
   "execution_count": 17,
   "metadata": {},
   "outputs": [
    {
     "name": "stderr",
     "output_type": "stream",
     "text": [
      "INFO:root:Running function: process_data\n"
     ]
    },
    {
     "name": "stdout",
     "output_type": "stream",
     "text": [
      "Processing Sample Data\n"
     ]
    }
   ],
   "source": [
    "import logging\n",
    "\n",
    "logging.basicConfig(level=logging.INFO)\n",
    "\n",
    "def log_function_call(func):\n",
    "    def wrapper(*args, **kwargs):\n",
    "        logging.info(f\"Running function: {func.__name__}\")\n",
    "        return func(*args, **kwargs)\n",
    "    return wrapper\n",
    "\n",
    "@log_function_call\n",
    "def process_data(data):\n",
    "    print(f\"Processing {data}\")\n",
    "\n",
    "process_data(\"Sample Data\")"
   ]
  },
  {
   "cell_type": "markdown",
   "metadata": {},
   "source": [
    "## 8. Memoization with Decorators"
   ]
  },
  {
   "cell_type": "markdown",
   "metadata": {},
   "source": [
    "Memoization is an optimization technique that can be implemented using decorators:"
   ]
  },
  {
   "cell_type": "code",
   "execution_count": 20,
   "metadata": {},
   "outputs": [
    {
     "name": "stdout",
     "output_type": "stream",
     "text": [
      "Cache set for args (1,): 1\n",
      "Cache set for args (0,): 0\n",
      "Cache set for args (2,): 1\n",
      "Cache hit for args (1,): 1\n",
      "Cache set for args (3,): 2\n",
      "Cache hit for args (2,): 1\n",
      "Cache set for args (4,): 3\n",
      "Cache hit for args (3,): 2\n",
      "Cache set for args (5,): 5\n",
      "Cache hit for args (4,): 3\n",
      "Cache set for args (6,): 8\n",
      "Cache hit for args (5,): 5\n",
      "Cache set for args (7,): 13\n",
      "Cache hit for args (6,): 8\n",
      "Cache set for args (8,): 21\n",
      "Cache hit for args (7,): 13\n",
      "Cache set for args (9,): 34\n",
      "Cache hit for args (8,): 21\n",
      "Cache set for args (10,): 55\n",
      "Cache hit for args (9,): 34\n",
      "Cache set for args (11,): 89\n",
      "Cache hit for args (10,): 55\n",
      "Cache set for args (12,): 144\n",
      "Cache hit for args (11,): 89\n",
      "Cache set for args (13,): 233\n",
      "Cache hit for args (12,): 144\n",
      "Cache set for args (14,): 377\n",
      "Cache hit for args (13,): 233\n",
      "Cache set for args (15,): 610\n",
      "Cache hit for args (14,): 377\n",
      "Cache set for args (16,): 987\n",
      "Cache hit for args (15,): 610\n",
      "Cache set for args (17,): 1597\n",
      "Cache hit for args (16,): 987\n",
      "Cache set for args (18,): 2584\n",
      "Cache hit for args (17,): 1597\n",
      "Cache set for args (19,): 4181\n",
      "Cache hit for args (18,): 2584\n",
      "Cache set for args (20,): 6765\n",
      "Cache hit for args (19,): 4181\n",
      "Cache set for args (21,): 10946\n",
      "Cache hit for args (20,): 6765\n",
      "Cache set for args (22,): 17711\n",
      "Cache hit for args (21,): 10946\n",
      "Cache set for args (23,): 28657\n",
      "Cache hit for args (22,): 17711\n",
      "Cache set for args (24,): 46368\n",
      "Cache hit for args (23,): 28657\n",
      "Cache set for args (25,): 75025\n",
      "Cache hit for args (24,): 46368\n",
      "Cache set for args (26,): 121393\n",
      "Cache hit for args (25,): 75025\n",
      "Cache set for args (27,): 196418\n",
      "Cache hit for args (26,): 121393\n",
      "Cache set for args (28,): 317811\n",
      "Cache hit for args (27,): 196418\n",
      "Cache set for args (29,): 514229\n",
      "Cache hit for args (28,): 317811\n",
      "Cache set for args (30,): 832040\n",
      "Cache hit for args (29,): 514229\n",
      "Cache set for args (31,): 1346269\n",
      "Cache hit for args (30,): 832040\n",
      "Cache set for args (32,): 2178309\n",
      "Cache hit for args (31,): 1346269\n",
      "Cache set for args (33,): 3524578\n",
      "Cache hit for args (32,): 2178309\n",
      "Cache set for args (34,): 5702887\n",
      "Cache hit for args (33,): 3524578\n",
      "Cache set for args (35,): 9227465\n",
      "9227465\n"
     ]
    }
   ],
   "source": [
    "def memoize(func):\n",
    "    # This dictionary stores the results of previous \n",
    "    # function calls with their respective arguments as keys.\n",
    "    cache = {}\n",
    "    def wrapper(*args):\n",
    "        # If the result for the given arguments (args) is already in the cache\n",
    "        if args in cache:\n",
    "            print(f\"Cache hit for args {args}: {cache[args]}\")\n",
    "            return cache[args]\n",
    "        # If the result is not in the cache, it calls the original function (func),\n",
    "        result = func(*args)\n",
    "        # Stores the result in the cache,\n",
    "        cache[args] = result\n",
    "        print(f\"Cache set for args {args}: {cache[args]}\")\n",
    "        return result\n",
    "    return wrapper\n",
    "\n",
    "@memoize\n",
    "def fibonacci(n):\n",
    "    if n in (0, 1):\n",
    "        return n\n",
    "    return fibonacci(n - 1) + fibonacci(n - 2)\n",
    "\n",
    "print(fibonacci(35))\n"
   ]
  },
  {
   "cell_type": "markdown",
   "metadata": {},
   "source": [
    "## 9. Access Control with Decorators"
   ]
  },
  {
   "cell_type": "markdown",
   "metadata": {},
   "source": [
    "Decorators can be used to control access to certain functions:"
   ]
  },
  {
   "cell_type": "code",
   "execution_count": 19,
   "metadata": {},
   "outputs": [
    {
     "name": "stdout",
     "output_type": "stream",
     "text": [
      "Admin dashboard\n"
     ]
    },
    {
     "ename": "PermissionError",
     "evalue": "Permission denied",
     "output_type": "error",
     "traceback": [
      "\u001b[0;31m---------------------------------------------------------------------------\u001b[0m",
      "\u001b[0;31mPermissionError\u001b[0m                           Traceback (most recent call last)",
      "Cell \u001b[0;32mIn[19], line 23\u001b[0m\n\u001b[1;32m     20\u001b[0m view_admin_dashboard(user)\n\u001b[1;32m     22\u001b[0m user \u001b[38;5;241m=\u001b[39m User(\u001b[38;5;124m'\u001b[39m\u001b[38;5;124mguest\u001b[39m\u001b[38;5;124m'\u001b[39m)\n\u001b[0;32m---> 23\u001b[0m \u001b[43mview_admin_dashboard\u001b[49m\u001b[43m(\u001b[49m\u001b[43muser\u001b[49m\u001b[43m)\u001b[49m \n",
      "Cell \u001b[0;32mIn[19], line 7\u001b[0m, in \u001b[0;36mrequires_permission.<locals>.decorator.<locals>.wrapper\u001b[0;34m(user, *args, **kwargs)\u001b[0m\n\u001b[1;32m      5\u001b[0m     \u001b[38;5;28;01mreturn\u001b[39;00m func(user, \u001b[38;5;241m*\u001b[39margs, \u001b[38;5;241m*\u001b[39m\u001b[38;5;241m*\u001b[39mkwargs)\n\u001b[1;32m      6\u001b[0m \u001b[38;5;28;01melse\u001b[39;00m:\n\u001b[0;32m----> 7\u001b[0m     \u001b[38;5;28;01mraise\u001b[39;00m \u001b[38;5;167;01mPermissionError\u001b[39;00m(\u001b[38;5;124m\"\u001b[39m\u001b[38;5;124mPermission denied\u001b[39m\u001b[38;5;124m\"\u001b[39m)\n",
      "\u001b[0;31mPermissionError\u001b[0m: Permission denied"
     ]
    }
   ],
   "source": [
    "def requires_permission(permission):\n",
    "    def decorator(func):\n",
    "        def wrapper(user, *args, **kwargs):\n",
    "            if user.permission == permission:\n",
    "                return func(user, *args, **kwargs)\n",
    "            else:\n",
    "                raise PermissionError(\"Permission denied\")\n",
    "        return wrapper\n",
    "    return decorator\n",
    "\n",
    "class User:\n",
    "    def __init__(self, permission):\n",
    "        self.permission = permission\n",
    "\n",
    "@requires_permission('admin')\n",
    "def view_admin_dashboard(user):\n",
    "    print(\"Admin dashboard\")\n",
    "\n",
    "user = User('admin')\n",
    "view_admin_dashboard(user)\n",
    "\n",
    "user = User('guest')\n",
    "view_admin_dashboard(user) "
   ]
  },
  {
   "cell_type": "markdown",
   "metadata": {},
   "source": [
    "## 10. Example: Rate Limiting Decorator"
   ]
  },
  {
   "cell_type": "markdown",
   "metadata": {},
   "source": [
    "A practical example of a rate-limiting decorator:"
   ]
  },
  {
   "cell_type": "code",
   "execution_count": null,
   "metadata": {},
   "outputs": [
    {
     "name": "stdout",
     "output_type": "stream",
     "text": [
      "Message 0\n",
      "Message 1\n",
      "Message 2\n",
      "Message 3\n",
      "Message 4\n"
     ]
    }
   ],
   "source": [
    "import time\n",
    "from functools import wraps\n",
    "\n",
    "def rate_limit(max_calls, period=1.0):\n",
    "    min_interval = period / float(max_calls)\n",
    "    def decorator(func):\n",
    "        last_called = [0.0]\n",
    "        @wraps(func)\n",
    "        def wrapper(*args, **kwargs):\n",
    "            elapsed = time.time() - last_called[0]\n",
    "            left_to_wait = min_interval - elapsed\n",
    "            if left_to_wait > 0:\n",
    "                time.sleep(left_to_wait)\n",
    "            last_called[0] = time.time()\n",
    "            return func(*args, **kwargs)\n",
    "        return wrapper\n",
    "    return decorator\n",
    "\n",
    "@rate_limit(2, 5)  # Limit to 2 calls every 5 seconds\n",
    "def print_message(message):\n",
    "    print(message)\n",
    "\n",
    "for i in range(5):\n",
    "    print_message(f\"Message {i}\")"
   ]
  }
 ],
 "metadata": {
  "kernelspec": {
   "display_name": "pytorch",
   "language": "python",
   "name": "python3"
  },
  "language_info": {
   "codemirror_mode": {
    "name": "ipython",
    "version": 3
   },
   "file_extension": ".py",
   "mimetype": "text/x-python",
   "name": "python",
   "nbconvert_exporter": "python",
   "pygments_lexer": "ipython3",
   "version": "3.11.5"
  }
 },
 "nbformat": 4,
 "nbformat_minor": 2
}
