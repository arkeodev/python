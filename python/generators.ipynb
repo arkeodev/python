{
 "cells": [
  {
   "cell_type": "markdown",
   "metadata": {},
   "source": [
    "# Generators"
   ]
  },
  {
   "cell_type": "markdown",
   "metadata": {},
   "source": [
    "Generators are a simple and powerful tool for creating iterators. They are written like regular functions but use the `yield` statement whenever they want to return data."
   ]
  },
  {
   "cell_type": "markdown",
   "metadata": {},
   "source": [
    "### 1. Creating a Generator"
   ]
  },
  {
   "cell_type": "code",
   "execution_count": 28,
   "metadata": {},
   "outputs": [
    {
     "name": "stdout",
     "output_type": "stream",
     "text": [
      "1\n",
      "2\n",
      "3\n",
      "4\n"
     ]
    }
   ],
   "source": [
    "def my_generator(start, end):\n",
    "    current = start\n",
    "    while current < end:\n",
    "        yield current\n",
    "        current += 1\n",
    "\n",
    "for number in my_generator(1, 5):\n",
    "    print(number)"
   ]
  },
  {
   "cell_type": "markdown",
   "metadata": {},
   "source": [
    "### 2. Generator Expression"
   ]
  },
  {
   "cell_type": "markdown",
   "metadata": {},
   "source": [
    "A generator expression is a compact generator notation that looks similar to a list comprehension, but instead of creating a list, it returns a generator object. This generator object can be iterated over to produce items on-the-fly, which is more memory-efficient than creating a list when dealing with large datasets.\n",
    "\n",
    "The syntax of a generator expression is similar to that of a list comprehension, but it uses parentheses `()` instead of square brackets `[]`."
   ]
  },
  {
   "cell_type": "markdown",
   "metadata": {},
   "source": [
    "Consider a scenario where we have a large list of numbers, and we want to create a generator that yields only the even numbers. Here I'll use only `range(10)`. "
   ]
  },
  {
   "cell_type": "code",
   "execution_count": 29,
   "metadata": {},
   "outputs": [
    {
     "name": "stdout",
     "output_type": "stream",
     "text": [
      "0\n",
      "2\n",
      "4\n",
      "6\n",
      "8\n"
     ]
    }
   ],
   "source": [
    "# Large list of numbers\n",
    "numbers = range(10)\n",
    "\n",
    "# Generator expression to filter even numbers\n",
    "even_numbers = (num for num in numbers if num % 2 == 0)\n",
    "\n",
    "# Iterating over the generator\n",
    "for even in even_numbers:\n",
    "    print(even)"
   ]
  },
  {
   "cell_type": "markdown",
   "metadata": {},
   "source": [
    "This generator expression filters out the even numbers from the `numbers` list. Since it generates items one-by-one, it doesn't require storing all the even numbers in memory at once.\n",
    "\n",
    "You can combine generator expressions to create more complex pipelines."
   ]
  },
  {
   "cell_type": "code",
   "execution_count": 30,
   "metadata": {},
   "outputs": [
    {
     "name": "stdout",
     "output_type": "stream",
     "text": [
      "0\n",
      "4\n",
      "16\n",
      "36\n",
      "64\n"
     ]
    }
   ],
   "source": [
    "# Generator for squares of even numbers\n",
    "squares_of_even = (x * x for x in (num for num in range(10) if num % 2 == 0))\n",
    "\n",
    "# Iterating over the combined generator\n",
    "for square in squares_of_even:\n",
    "    print(square)"
   ]
  },
  {
   "cell_type": "markdown",
   "metadata": {},
   "source": [
    "### 3. Delegating Generators (yield from)"
   ]
  },
  {
   "cell_type": "markdown",
   "metadata": {},
   "source": [
    "The `yield from` expression is used to delegate part of a generator’s operations to another generator. It creates a sub-iterator from the iterable expression following the `yield from` statement and delegates operations to it. This can simplify code that yields values from multiple iterables.\n",
    "\n",
    "#### Benefits of Using `yield from`\n",
    "\n",
    "1. **Code Simplification:**\n",
    "   - It removes the need for explicit loops to yield values from sub-generators.\n",
    "   - Makes the code more readable and maintainable.\n",
    "\n",
    "2. **Enhanced Generator Functionality:**\n",
    "   - It allows sub-generators to receive values sent to the delegating generator.\n",
    "   - Can pass back exceptions thrown into the delegating generator.\n",
    "   - Supports `return` values from sub-generators.\n",
    "\n",
    "Consider a scenario where we have multiple nested generators:"
   ]
  },
  {
   "cell_type": "code",
   "execution_count": 31,
   "metadata": {},
   "outputs": [
    {
     "name": "stdout",
     "output_type": "stream",
     "text": [
      "1\n",
      "2\n",
      "3\n",
      "4\n",
      "5\n",
      "6\n"
     ]
    }
   ],
   "source": [
    "def sub_generator1():\n",
    "    yield from range(1, 4)\n",
    "\n",
    "def sub_generator2():\n",
    "    yield from range(4, 7)\n",
    "\n",
    "def main_generator():\n",
    "    yield from sub_generator1()\n",
    "    yield from sub_generator2()\n",
    "\n",
    "for num in main_generator():\n",
    "    print(num)"
   ]
  },
  {
   "cell_type": "markdown",
   "metadata": {},
   "source": [
    "Here:\n",
    "- `main_generator` delegates to `sub_generator1` first, yielding values `1, 2, 3`.\n",
    "- Then it delegates to `sub_generator2`, yielding values `4, 5, 6`.\n",
    "\n"
   ]
  },
  {
   "cell_type": "markdown",
   "metadata": {},
   "source": [
    "#### Example: Traversing a Tree Structure"
   ]
  },
  {
   "cell_type": "markdown",
   "metadata": {},
   "source": [
    "Imagine we have a hierarchical tree structure representing a company's organizational chart. We want to traverse this tree and perform some operations, like listing all employees in a depth-first manner."
   ]
  },
  {
   "cell_type": "markdown",
   "metadata": {},
   "source": [
    "**Step 1: Define the Tree Structure**\n",
    "\n",
    "First, let's define a simple tree structure using classes."
   ]
  },
  {
   "cell_type": "code",
   "execution_count": 32,
   "metadata": {},
   "outputs": [],
   "source": [
    "class Employee:\n",
    "    '''\n",
    "    Represents a node in the tree, with methods to add subordinates.\n",
    "    '''\n",
    "    def __init__(self, name, position):\n",
    "        self.name = name\n",
    "        self.position = position\n",
    "        self.subordinates = []\n",
    "\n",
    "    def add_subordinate(self, subordinate):\n",
    "        self.subordinates.append(subordinate)"
   ]
  },
  {
   "cell_type": "markdown",
   "metadata": {},
   "source": [
    "**Step 2: Create the Organization Tree**\n",
    "\n",
    "Next, we'll create an example organizational chart."
   ]
  },
  {
   "cell_type": "code",
   "execution_count": 33,
   "metadata": {},
   "outputs": [],
   "source": [
    "# We build a sample organizational chart with a CEO, CTO, CFO, and their respective subordinates.\n",
    "\n",
    "# CEO\n",
    "ceo = Employee(\"Alice\", \"CEO\")\n",
    "\n",
    "# CTO and direct reports\n",
    "cto = Employee(\"Bob\", \"CTO\")\n",
    "cto.add_subordinate(Employee(\"Charlie\", \"Dev Manager\"))\n",
    "cto.add_subordinate(Employee(\"Diana\", \"QA Manager\"))\n",
    "\n",
    "# CFO and direct reports\n",
    "cfo = Employee(\"Eve\", \"CFO\")\n",
    "cfo.add_subordinate(Employee(\"Frank\", \"Accountant\"))\n",
    "\n",
    "# Add CTO and CFO as direct reports to CEO\n",
    "ceo.add_subordinate(cto)\n",
    "ceo.add_subordinate(cfo)"
   ]
  },
  {
   "cell_type": "markdown",
   "metadata": {},
   "source": [
    "**Step 3: Traversing the Tree with `yield from`**\n",
    "\n",
    "Now, we create a generator function to traverse the tree using `yield from` to handle subordinates."
   ]
  },
  {
   "cell_type": "code",
   "execution_count": 34,
   "metadata": {},
   "outputs": [],
   "source": [
    "def traverse_employee_tree(employee):\n",
    "    '''\n",
    "    Recursively traverses the tree, yielding each employee's information. \n",
    "    The `yield from` statement delegates the iteration to the subordinates, \n",
    "    making the recursion straightforward.\n",
    "    '''\n",
    "    yield f\"{employee.name} - {employee.position}\"\n",
    "    for subordinate in employee.subordinates:\n",
    "        yield from traverse_employee_tree(subordinate)"
   ]
  },
  {
   "cell_type": "markdown",
   "metadata": {},
   "source": [
    "**Using the Traversal Function**\n",
    "\n",
    "Here is how we can use the traversal function in a Jupyter Notebook to list all employees in the organization."
   ]
  },
  {
   "cell_type": "code",
   "execution_count": 35,
   "metadata": {},
   "outputs": [
    {
     "name": "stdout",
     "output_type": "stream",
     "text": [
      "Alice - CEO\n",
      "Bob - CTO\n",
      "Charlie - Dev Manager\n",
      "Diana - QA Manager\n",
      "Eve - CFO\n",
      "Frank - Accountant\n"
     ]
    }
   ],
   "source": [
    "# Traverse the organizational chart and print each employee\n",
    "for employee_info in traverse_employee_tree(ceo):\n",
    "    print(employee_info)"
   ]
  },
  {
   "cell_type": "markdown",
   "metadata": {},
   "source": [
    "### 4. Sending Values to Generators"
   ]
  },
  {
   "cell_type": "markdown",
   "metadata": {},
   "source": [
    "Generators can receive values via `send()` and handle exceptions via `throw()`. "
   ]
  },
  {
   "cell_type": "code",
   "execution_count": 36,
   "metadata": {},
   "outputs": [
    {
     "name": "stdout",
     "output_type": "stream",
     "text": [
      "0\n",
      "10\n",
      "30\n",
      "Accumulator Result: None\n"
     ]
    },
    {
     "ename": "StopIteration",
     "evalue": "",
     "output_type": "error",
     "traceback": [
      "\u001b[0;31m---------------------------------------------------------------------------\u001b[0m",
      "\u001b[0;31mStopIteration\u001b[0m                             Traceback (most recent call last)",
      "Cell \u001b[0;32mIn[36], line 18\u001b[0m\n\u001b[1;32m     16\u001b[0m \u001b[38;5;28mprint\u001b[39m(gen\u001b[38;5;241m.\u001b[39msend(\u001b[38;5;241m10\u001b[39m))   \u001b[38;5;66;03m# Send 10\u001b[39;00m\n\u001b[1;32m     17\u001b[0m \u001b[38;5;28mprint\u001b[39m(gen\u001b[38;5;241m.\u001b[39msend(\u001b[38;5;241m20\u001b[39m))   \u001b[38;5;66;03m# Send 20\u001b[39;00m\n\u001b[0;32m---> 18\u001b[0m \u001b[38;5;28mprint\u001b[39m(\u001b[43mgen\u001b[49m\u001b[38;5;241;43m.\u001b[39;49m\u001b[43msend\u001b[49m\u001b[43m(\u001b[49m\u001b[38;5;28;43;01mNone\u001b[39;49;00m\u001b[43m)\u001b[49m) \u001b[38;5;66;03m# End the accumulator\u001b[39;00m\n",
      "\u001b[0;31mStopIteration\u001b[0m: "
     ]
    }
   ],
   "source": [
    "# Receiving Values\n",
    "def accumulator():\n",
    "    total = 0\n",
    "    while True:\n",
    "        x = yield total\n",
    "        if x is None:\n",
    "            break\n",
    "        total += x\n",
    "\n",
    "def delegator():\n",
    "    result = yield from accumulator()\n",
    "    print('Accumulator Result:', result)\n",
    "\n",
    "gen = delegator()\n",
    "print(next(gen))      # Start the generator\n",
    "print(gen.send(10))   # Send 10\n",
    "print(gen.send(20))   # Send 20\n",
    "print(gen.send(None)) # End the accumulator"
   ]
  },
  {
   "cell_type": "markdown",
   "metadata": {},
   "source": [
    "Here:\n",
    "- `accumulator` is a sub-generator that sums values sent to it.\n",
    "- `delegator` delegates to `accumulator` using `yield from`.\n",
    "- The total is accumulated in `accumulator` and returned when `None` is sent."
   ]
  },
  {
   "cell_type": "markdown",
   "metadata": {},
   "source": [
    "### 5. Incorporating both value handling and exception handling"
   ]
  },
  {
   "cell_type": "markdown",
   "metadata": {},
   "source": [
    "Imagine we have a task processing system where tasks are processed in multiple steps. Each step might raise specific exceptions that need to be handled gracefully. We'll use a generator to process each task and another generator to manage the delegation and error handling."
   ]
  },
  {
   "cell_type": "markdown",
   "metadata": {},
   "source": [
    "**Task Processing System**"
   ]
  },
  {
   "cell_type": "markdown",
   "metadata": {},
   "source": [
    "**Step 1: Define Task Processing Generators**\n",
    "\n",
    "We'll define two generators: one for processing individual tasks (`task_processor`) and another for managing the overall task processing flow (`task_manager`)."
   ]
  },
  {
   "cell_type": "code",
   "execution_count": null,
   "metadata": {},
   "outputs": [],
   "source": [
    "def task_processor(task):\n",
    "    try:\n",
    "        # Simulating task steps\n",
    "        yield f\"Processing {task} - Step 1\"\n",
    "        if task == \"task_with_error\":\n",
    "            raise ValueError(\"Simulated error in task\")\n",
    "        yield f\"Processing {task} - Step 2\"\n",
    "    except ValueError as e:\n",
    "        yield f\"Handled error: {str(e)}\"\n",
    "    yield f\"Processing {task} - Final Step\"\n",
    "\n",
    "def task_manager(tasks):\n",
    "    for task in tasks:\n",
    "        yield from task_processor(task)"
   ]
  },
  {
   "cell_type": "markdown",
   "metadata": {},
   "source": [
    "**Step 2: Define the Task List**\n",
    "\n",
    "We'll define a list of tasks, including one that will raise an exception.\n"
   ]
  },
  {
   "cell_type": "code",
   "execution_count": null,
   "metadata": {},
   "outputs": [],
   "source": [
    "tasks = [\"task1\", \"task2\", \"task_with_error\", \"task3\"]"
   ]
  },
  {
   "cell_type": "markdown",
   "metadata": {},
   "source": [
    "**Step 3: Running the Task Processing System**\n",
    "\n",
    "We'll create an instance of the `task_manager` generator and process the tasks, handling the exceptions as they occur.\n"
   ]
  },
  {
   "cell_type": "code",
   "execution_count": null,
   "metadata": {},
   "outputs": [
    {
     "name": "stdout",
     "output_type": "stream",
     "text": [
      "Processing task1 - Step 1\n",
      "Processing task1 - Step 2\n",
      "Processing task1 - Final Step\n",
      "Processing task2 - Step 1\n",
      "Processing task2 - Step 2\n",
      "Processing task2 - Final Step\n",
      "Processing task_with_error - Step 1\n",
      "Handled error: Simulated error in task\n",
      "Processing task_with_error - Final Step\n",
      "Processing task3 - Step 1\n",
      "Processing task3 - Step 2\n",
      "Processing task3 - Final Step\n"
     ]
    }
   ],
   "source": [
    "def run_task_processing(tasks):\n",
    "    task_gen = task_manager(tasks)\n",
    "    for output in task_gen:\n",
    "        print(output)\n",
    "\n",
    "run_task_processing(tasks)"
   ]
  },
  {
   "cell_type": "markdown",
   "metadata": {},
   "source": [
    "### 6. Using Generators with the Parallel Processing"
   ]
  },
  {
   "cell_type": "code",
   "execution_count": null,
   "metadata": {},
   "outputs": [
    {
     "name": "stdout",
     "output_type": "stream",
     "text": [
      "21-05-2024 12:01:00 - ERROR - This is an error message.\n",
      "21-05-2024 12:03:00 - ERROR - Another error occurred.\n",
      "21-05-2024 12:05:00 - ERROR - Yet another error message.\n",
      "21-05-2024 12:07:00 - ERROR - Error with additional details.\n",
      "21-05-2024 12:09:00 - ERROR - Final error message.\n",
      "\n"
     ]
    }
   ],
   "source": [
    "# Importing the script\n",
    "from modules.log_processor import process_log_file\n",
    "\n",
    "# Define the file paths\n",
    "input_file_path = './data/large_log_file.txt'\n",
    "output_file_path = './data/processed_errors.txt'\n",
    "\n",
    "# Process the log file\n",
    "process_log_file(input_file_path, output_file_path)\n",
    "\n",
    "# Verify the output\n",
    "with open(output_file_path, 'r') as file:\n",
    "    print(file.read())"
   ]
  },
  {
   "cell_type": "markdown",
   "metadata": {},
   "source": [
    "### 7. Benefits of Using Generators"
   ]
  },
  {
   "cell_type": "markdown",
   "metadata": {},
   "source": [
    "- **Memory Efficiency:** Generators allow processing of large files without loading the entire file into memory.\n",
    "- **Modularity:** Each step of the pipeline is modular, making it easy to modify or extend.\n",
    "- **Lazy Evaluation:** Generators compute values on-the-fly, which can improve performance."
   ]
  }
 ],
 "metadata": {
  "kernelspec": {
   "display_name": "pytorch",
   "language": "python",
   "name": "python3"
  },
  "language_info": {
   "codemirror_mode": {
    "name": "ipython",
    "version": 3
   },
   "file_extension": ".py",
   "mimetype": "text/x-python",
   "name": "python",
   "nbconvert_exporter": "python",
   "pygments_lexer": "ipython3",
   "version": "3.11.5"
  }
 },
 "nbformat": 4,
 "nbformat_minor": 2
}
