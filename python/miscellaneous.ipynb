{
 "cells": [
  {
   "cell_type": "markdown",
   "metadata": {},
   "source": [
    "# Python Concepts Selected"
   ]
  },
  {
   "cell_type": "markdown",
   "metadata": {},
   "source": [
    "This notebook covers some miscalleneous Python concepts and questions that I thought they can be interesting."
   ]
  },
  {
   "cell_type": "markdown",
   "metadata": {},
   "source": [
    "# Table of Contents\n",
    "\n",
    "- [\\_\\_init\\_\\_.py](#__init__py)\n",
    "- [Python Packages](#python-packages)\n",
    "- [Serialization](#serialization)\n",
    "- [\\_\\_str\\_\\_ vs \\_\\_repr\\_\\_](#__str__-vs-__repr__)\n",
    "- [Hashable Objects](#hashable-objects)\n",
    "- [Context Managers and the with Statement](#context-managers-and-the-with-statement)\n",
    "- [Abstraction vs. Encapsulation](#abstraction-vs-encapsulation)\n",
    "- [Multiple Inheritance and the Diamond Problem](#multiple-inheritance-and-the-diamond-problem)\n",
    "- [Compiled Bytecode in Python](#compiled-bytecode-in-python)\n",
    "- [Arrays in Python](#arrays-in-python)\n",
    "- [Accessing Private Variables in Subclasses (Mangling)](#accessing-private-variables-in-subclasses-mangling)\n",
    "- [Shallow Copy vs. Deep Copy](#shallow-copy-vs-deep-copy)\n",
    "- [The id() Function](#the-id-function)\n",
    "- [Container Methods](#container-methods)\n",
    "- [Differences Between Regular and Lambda Functions](#differences-between-regular-and-lambda-functions)\n",
    "- [Global Interpreter Lock (GIL)](#global-interpreter-lock-gil)\n",
    "- [dundr Methods](#dundr-methods)\n",
    "- [new Method](#new-method)\n",
    "- [Monkey patching](#monkey-patching)\n",
    "- [Duck Typing in Python?](#duck-typing-in-python)\n",
    "- [What Python supports, call by reference or call by value?](#what-python-supports-call-by-reference-or-call-by-value)\n",
    "- [MRO](#mro)\n",
    "- [References in Python](#references-in-python)\n",
    "- [Enumerations](#enumerations)\n",
    "\n"
   ]
  },
  {
   "cell_type": "markdown",
   "metadata": {},
   "source": [
    "## \\_\\_init\\_\\_.py"
   ]
  },
  {
   "cell_type": "markdown",
   "metadata": {},
   "source": [
    "The `__init__.py` file is an essential component of Python packages. Its primary purpose is to initialize a Python package and can serve several important functions:\n",
    "\n",
    "1. **Package Initialization**: Indicates that the directory should be treated as a package.\n",
    "2. **Namespace Management**: Manages the namespace of the package.\n",
    "3. **Package-level Variables and Functions**: Can define package-level variables and functions.\n",
    "4. **Simplifying Imports**: Makes it easier for users to import modules or functions."
   ]
  },
  {
   "cell_type": "markdown",
   "metadata": {},
   "source": [
    "## Python Packages"
   ]
  },
  {
   "cell_type": "markdown",
   "metadata": {},
   "source": [
    "A Python package is a way of organizing and structuring Python code in a hierarchical manner. A package is a directory that contains Python modules and a special `__init__.py` file."
   ]
  },
  {
   "cell_type": "markdown",
   "metadata": {},
   "source": [
    "### Key Features\n",
    "\n",
    "- **Hierarchy**: Allows for hierarchical structuring of the namespace.\n",
    "- **Namespacing**: Avoids naming conflicts between modules.\n",
    "- **Reusability**: Makes it easy to share and distribute Python code.\n",
    "- **Modularity**: Promotes modularity by segregating code into distinct modules.\n"
   ]
  },
  {
   "cell_type": "markdown",
   "metadata": {},
   "source": [
    "### Structure\n",
    "\n",
    "```plaintext\n",
    "mypackage/\n",
    "    __init__.py\n",
    "    module1.py\n",
    "    module2.py\n",
    "    subpackage1/\n",
    "        __init__.py\n",
    "        submodule1.py\n",
    "```\n"
   ]
  },
  {
   "cell_type": "markdown",
   "metadata": {},
   "source": [
    "### Using Packages\n",
    "\n",
    "```python\n",
    "# Importing a module from a package\n",
    "from mypackage import module1\n",
    "\n",
    "# Importing specific functions or classes from a module\n",
    "from mypackage.module1 import my_function\n",
    "```"
   ]
  },
  {
   "cell_type": "markdown",
   "metadata": {},
   "source": [
    "## Serialization"
   ]
  },
  {
   "cell_type": "markdown",
   "metadata": {},
   "source": [
    "Serialization is the process of converting a Python object into a format that can be stored on disk or transmitted over a network. This format can be a byte stream, a binary file, or a text file (like JSON or XML), depending on the serialization method used. The main goal of serialization is to save the state of an object so that it can be reconstructed later, either in the same or a different environment."
   ]
  },
  {
   "cell_type": "markdown",
   "metadata": {},
   "source": [
    "1. **Binary Format**: When objects are serialized into binary format (using modules like `pickle` in Python), they are converted into a byte stream that can represent complex Python objects, including instances of custom classes, with their internal state and data structure preserved.\n",
    "\n",
    "2. **Textual Format**: Serialization can also produce a text-based format like JSON or XML. These formats are more human-readable and can be easily shared across different programming environments. However, they might not support all Python-specific data types directly and often require conversion into types that are more universally recognized (e.g., lists, dictionaries, strings, numbers)."
   ]
  },
  {
   "cell_type": "markdown",
   "metadata": {},
   "source": [
    "### Binary Serialization with `pickle`"
   ]
  },
  {
   "cell_type": "markdown",
   "metadata": {},
   "source": [
    "The `pickle` module in Python is used for serializing and deserializing objects."
   ]
  },
  {
   "cell_type": "code",
   "execution_count": 119,
   "metadata": {},
   "outputs": [
    {
     "name": "stdout",
     "output_type": "stream",
     "text": [
      "{'key': 'value'}\n"
     ]
    }
   ],
   "source": [
    "import pickle\n",
    "\n",
    "# Example object\n",
    "obj = {'key': 'value'}\n",
    "\n",
    "# Serializing the object\n",
    "with open('data/obj.pickle', 'wb') as file:\n",
    "    pickle.dump(obj, file)\n",
    "\n",
    "# Deserializing the object\n",
    "with open('data/obj.pickle', 'rb') as file:\n",
    "    loaded_obj = pickle.load(file)\n",
    "    print(loaded_obj) "
   ]
  },
  {
   "cell_type": "markdown",
   "metadata": {},
   "source": [
    "### Textual Serialization with `json`"
   ]
  },
  {
   "cell_type": "markdown",
   "metadata": {},
   "source": [
    "The `json` module is part of the Python Standard Library and provides functions to serialize and deserialize objects to and from JSON (JavaScript Object Notation) format."
   ]
  },
  {
   "cell_type": "markdown",
   "metadata": {},
   "source": [
    "**Serializing Objects**\n",
    "\n",
    "To serialize an object, you can use the `json.dumps()` function, which takes an object as an argument and returns a JSON-encoded string:"
   ]
  },
  {
   "cell_type": "code",
   "execution_count": 120,
   "metadata": {},
   "outputs": [
    {
     "name": "stdout",
     "output_type": "stream",
     "text": [
      "{\"name\": \"John\", \"age\": 30}\n"
     ]
    }
   ],
   "source": [
    "import json\n",
    "\n",
    "data = {'name': 'John', 'age': 30}\n",
    "\n",
    "json_string = json.dumps(data)\n",
    "print(json_string) "
   ]
  },
  {
   "cell_type": "markdown",
   "metadata": {},
   "source": [
    "**Deserializing Objects**\n",
    "\n",
    "To deserialize a JSON-encoded string, you can use the `json.loads()` function, which takes a JSON-encoded string as an argument and returns a Python object:"
   ]
  },
  {
   "cell_type": "code",
   "execution_count": 121,
   "metadata": {},
   "outputs": [
    {
     "name": "stdout",
     "output_type": "stream",
     "text": [
      "{'name': 'Jane', 'age': 25}\n"
     ]
    }
   ],
   "source": [
    "json_string = '{\"name\": \"Jane\", \"age\": 25}'\n",
    "data = json.loads(json_string)\n",
    "print(data)"
   ]
  },
  {
   "cell_type": "markdown",
   "metadata": {},
   "source": [
    "**Custom Serialization**\n",
    "\n",
    "If you need to serialize custom objects, you can create a custom `JSONEncoder` class to handle the serialization:"
   ]
  },
  {
   "cell_type": "code",
   "execution_count": 122,
   "metadata": {},
   "outputs": [
    {
     "name": "stdout",
     "output_type": "stream",
     "text": [
      "{\"name\": \"Alice\", \"age\": 30}\n"
     ]
    }
   ],
   "source": [
    "class Person:\n",
    "    def __init__(self, name, age):\n",
    "        self.name = name\n",
    "        self.age = age\n",
    "\n",
    "class PersonEncoder(json.JSONEncoder):\n",
    "    def default(self, obj):\n",
    "        if isinstance(obj, Person):\n",
    "            return {'name': obj.name, 'age': obj.age}\n",
    "        return super().default(obj)\n",
    "\n",
    "person = Person('Alice', 30)\n",
    "json_string = json.dumps(person, cls=PersonEncoder)\n",
    "print(json_string)"
   ]
  },
  {
   "cell_type": "markdown",
   "metadata": {},
   "source": [
    "## \\_\\_str\\_\\_ vs \\_\\_repr\\_\\_"
   ]
  },
  {
   "cell_type": "markdown",
   "metadata": {},
   "source": [
    "The `__str__` and `__repr__` methods are used for object representation, serving different purposes and contexts."
   ]
  },
  {
   "cell_type": "markdown",
   "metadata": {},
   "source": [
    "### `__repr__`"
   ]
  },
  {
   "cell_type": "markdown",
   "metadata": {},
   "source": [
    "- **Purpose**: To be unambiguous and, ideally, return a string that could recreate the object.\n",
    "- **Context**: Used mainly for debugging and development."
   ]
  },
  {
   "cell_type": "markdown",
   "metadata": {},
   "source": [
    "**Example**"
   ]
  },
  {
   "cell_type": "code",
   "execution_count": 123,
   "metadata": {},
   "outputs": [
    {
     "name": "stdout",
     "output_type": "stream",
     "text": [
      "MyClass(5)\n"
     ]
    }
   ],
   "source": [
    "class MyClass:\n",
    "    def __init__(self, value):\n",
    "        self.value = value\n",
    "\n",
    "    def __repr__(self):\n",
    "        return f'MyClass({self.value!r})'\n",
    "\n",
    "obj = MyClass(5)\n",
    "print(repr(obj))"
   ]
  },
  {
   "cell_type": "markdown",
   "metadata": {},
   "source": [
    "### `__str__`"
   ]
  },
  {
   "cell_type": "markdown",
   "metadata": {},
   "source": [
    "- **Purpose**: To be readable and return a nicely printable string representation.\n",
    "- **Context**: Invoked by the `str()` function and `print` statement."
   ]
  },
  {
   "cell_type": "markdown",
   "metadata": {},
   "source": [
    "**Example**"
   ]
  },
  {
   "cell_type": "code",
   "execution_count": 124,
   "metadata": {},
   "outputs": [
    {
     "name": "stdout",
     "output_type": "stream",
     "text": [
      "Value is 5\n"
     ]
    }
   ],
   "source": [
    "class MyClass:\n",
    "    def __init__(self, value):\n",
    "        self.value = value\n",
    "\n",
    "    def __str__(self):\n",
    "        return f'Value is {self.value}'\n",
    "\n",
    "obj = MyClass(5)\n",
    "print(str(obj)) "
   ]
  },
  {
   "cell_type": "markdown",
   "metadata": {},
   "source": [
    "### Key Differences"
   ]
  },
  {
   "cell_type": "markdown",
   "metadata": {},
   "source": [
    "- `__repr__` is for developers, providing a detailed representation.\n",
    "- `__str__` is for end users, offering a friendly representation.\n",
    "- If `__str__` is not defined, Python will use `__repr__`."
   ]
  },
  {
   "cell_type": "markdown",
   "metadata": {},
   "source": [
    "## Hashable Objects"
   ]
  },
  {
   "cell_type": "markdown",
   "metadata": {},
   "source": [
    "In Python, if an object is hashable, it means that it has a hash value that does not change during its entire lifetime (it needs a `__hash__()` method), and it can be compared to other objects (it needs an `__eq__()` or `__cmp__()` method). Hashability makes an object usable as a dictionary key and a set member because these data structures use the hash value internally.\n",
    "\n",
    "Most of Python's immutable built-in objects are hashable; mutable containers (such as lists or dictionaries) are not hashable, while immutable containers (like tuples and frozensets) are hashable if all their elements are hashable.\n",
    "\n",
    "Here are some points about hashability in Python:\n",
    "\n",
    "1. **Immutable Types**: Simple immutable types (like `int`, `float`, `str`, and `frozenset`) are hashable. For example, once you create an integer in Python, its hash value will never change, making it possible to reliably use it as a key in a dictionary or as a member of a set.\n",
    "\n",
    "2. **Custom Objects**: By default, instances of user-defined classes are hashable because their hash value is their `id()` and they all compare not equal (except with themselves).\n",
    "\n",
    "3. **Mutability**: If an object is mutable, like a list, it cannot be hashable. This is because if the object could be changed after it was added to a set or used as a key in a dictionary, it would be in the wrong hash bucket and could not be reliably found.\n",
    "\n",
    "4. **Consistency**: For an object to be hashable, it must have a hash value that remains the same during its lifetime. This hash value is obtained using the `__hash__()` method. The object also needs to compare equal to other objects that have the same hash value using the `__eq__()` method.\n",
    "\n",
    "5. **Custom `__hash__` Implementation**: If you define a custom `__eq__` method in a class, you must also define a custom `__hash__` method. It should return an integer and ideally take into account the same object attributes that are used for equality (`__eq__`). If `__eq__` is defined but `__hash__` is not, the instances of the class will not be hashable.\n",
    "\n",
    "To summarize, hashability in Python is a property of objects that are intended to be constant and used as the lookup key for sets and dictionaries."
   ]
  },
  {
   "cell_type": "markdown",
   "metadata": {},
   "source": [
    "### Custom Hashable Class Example"
   ]
  },
  {
   "cell_type": "code",
   "execution_count": 125,
   "metadata": {},
   "outputs": [
    {
     "name": "stdout",
     "output_type": "stream",
     "text": [
      "True\n",
      "A\n"
     ]
    }
   ],
   "source": [
    "class Point:\n",
    "    def __init__(self, x, y):\n",
    "        self.x = x\n",
    "        self.y = y\n",
    "\n",
    "    def __eq__(self, other):\n",
    "        return isinstance(other, Point) and self.x == other.x and self.y == other.y\n",
    "\n",
    "    def __hash__(self):\n",
    "        return hash((self.x, self.y))\n",
    "\n",
    "point1 = Point(2, 3)\n",
    "point2 = Point(2, 3)\n",
    "\n",
    "points_set = {point1}\n",
    "print(point2 in points_set)\n",
    "\n",
    "points_dict = {point1: 'A'}\n",
    "print(points_dict[point2])"
   ]
  },
  {
   "cell_type": "markdown",
   "metadata": {},
   "source": [
    "In this class:\n",
    "- `__init__` initializes the point with x and y coordinates.\n",
    "- `__eq__` ensures that two points are considered equal if their coordinates are the same.\n",
    "- `__hash__` returns a hash that is a tuple of the point's coordinates.\n",
    "\n",
    "The `Point` class instances can be used as dictionary keys and stored in sets because they are hashable."
   ]
  },
  {
   "cell_type": "markdown",
   "metadata": {},
   "source": [
    "## Context Managers and the `with` Statement"
   ]
  },
  {
   "cell_type": "markdown",
   "metadata": {},
   "source": [
    "Context managers allow you to allocate and release resources precisely when you want to. The most common example is file handling."
   ]
  },
  {
   "cell_type": "markdown",
   "metadata": {},
   "source": [
    "### Basic Example of `with` for File Handling:"
   ]
  },
  {
   "cell_type": "code",
   "execution_count": 126,
   "metadata": {},
   "outputs": [],
   "source": [
    "with open('data/large_log_file.txt', 'r') as file:\n",
    "    contents = file.read()"
   ]
  },
  {
   "cell_type": "markdown",
   "metadata": {},
   "source": [
    "### Custom Context Manager using a Class:"
   ]
  },
  {
   "cell_type": "code",
   "execution_count": 127,
   "metadata": {},
   "outputs": [],
   "source": [
    "class Open_File:\n",
    "    def __init__(self, filename, mode):\n",
    "        self.filename = filename\n",
    "        self.mode = mode\n",
    "\n",
    "    def __enter__(self):\n",
    "        self.file = open(self.filename, self.mode)\n",
    "        return self.file\n",
    "\n",
    "    def __exit__(self, exc_type, exc_val, exc_tb):\n",
    "        self.file.close()\n",
    "\n",
    "with Open_File('data/large_log_file.txt', 'r') as file:\n",
    "    contents = file.read()"
   ]
  },
  {
   "cell_type": "markdown",
   "metadata": {},
   "source": [
    "### Custom Context Manager using `contextlib`:"
   ]
  },
  {
   "cell_type": "code",
   "execution_count": 128,
   "metadata": {},
   "outputs": [],
   "source": [
    "from contextlib import contextmanager\n",
    "\n",
    "@contextmanager\n",
    "def open_file(name, mode):\n",
    "    f = open(name, mode)\n",
    "    try:\n",
    "        yield f\n",
    "    finally:\n",
    "        f.close()\n",
    "\n",
    "with open_file('data/large_log_file.txt', 'r') as file:\n",
    "    contents = file.read()"
   ]
  },
  {
   "cell_type": "markdown",
   "metadata": {},
   "source": [
    "## Abstraction vs. Encapsulation"
   ]
  },
  {
   "cell_type": "markdown",
   "metadata": {},
   "source": [
    "### Abstraction"
   ]
  },
  {
   "cell_type": "markdown",
   "metadata": {},
   "source": [
    "Abstraction is the concept of hiding the complex reality while exposing only the necessary parts. It focuses on the interface rather than the implementation."
   ]
  },
  {
   "cell_type": "markdown",
   "metadata": {},
   "source": [
    "**Example:**"
   ]
  },
  {
   "cell_type": "code",
   "execution_count": 129,
   "metadata": {},
   "outputs": [],
   "source": [
    "from abc import ABC, abstractmethod\n",
    "\n",
    "class Vehicle(ABC):\n",
    "    @abstractmethod\n",
    "    def start(self):\n",
    "        pass\n",
    "\n",
    "    @abstractmethod\n",
    "    def stop(self):\n",
    "        pass\n",
    "\n",
    "class Car(Vehicle):\n",
    "    def start(self):\n",
    "        print(\"Car engine starts.\")\n",
    "\n",
    "    def stop(self):\n",
    "        print(\"Car brakes activate.\")"
   ]
  },
  {
   "cell_type": "markdown",
   "metadata": {},
   "source": [
    "### Encapsulation"
   ]
  },
  {
   "cell_type": "markdown",
   "metadata": {},
   "source": [
    "Encapsulation is the concept of wrapping data and methods that operate on the data within a single unit, usually a class, and restricting access to some of the object's components."
   ]
  },
  {
   "cell_type": "markdown",
   "metadata": {},
   "source": [
    "**Example:**"
   ]
  },
  {
   "cell_type": "code",
   "execution_count": 130,
   "metadata": {},
   "outputs": [
    {
     "name": "stdout",
     "output_type": "stream",
     "text": [
      "130\n"
     ]
    }
   ],
   "source": [
    "class BankAccount:\n",
    "    def __init__(self, initial_balance=0):\n",
    "        self.__balance = initial_balance  # Private variable\n",
    "\n",
    "    def deposit(self, amount):\n",
    "        if amount > 0:\n",
    "            self.__balance += amount\n",
    "\n",
    "    def withdraw(self, amount):\n",
    "        if 0 < amount <= self.__balance:\n",
    "            self.__balance -= amount\n",
    "\n",
    "    def get_balance(self):\n",
    "        return self.__balance\n",
    "\n",
    "account = BankAccount(100)\n",
    "account.deposit(50)\n",
    "account.withdraw(20)\n",
    "print(account.get_balance())"
   ]
  },
  {
   "cell_type": "markdown",
   "metadata": {},
   "source": [
    "## Multiple Inheritance and the Diamond Problem"
   ]
  },
  {
   "cell_type": "markdown",
   "metadata": {},
   "source": [
    "Python supports multiple inheritance, which can lead to the diamond problem. The diamond problem occurs when a class inherits from two classes that both inherit from a common ancestor."
   ]
  },
  {
   "cell_type": "markdown",
   "metadata": {},
   "source": [
    "### Example of Multiple Inheritance:"
   ]
  },
  {
   "cell_type": "code",
   "execution_count": 131,
   "metadata": {},
   "outputs": [
    {
     "name": "stdout",
     "output_type": "stream",
     "text": [
      "Method defined in B\n"
     ]
    }
   ],
   "source": [
    "class A:\n",
    "    def do_something(self):\n",
    "        print(\"Method defined in A\")\n",
    "\n",
    "class B(A):\n",
    "    def do_something(self):\n",
    "        print(\"Method defined in B\")\n",
    "\n",
    "class C(A):\n",
    "    def do_something(self):\n",
    "        print(\"Method defined in C\")\n",
    "\n",
    "class D(B, C):\n",
    "    pass\n",
    "\n",
    "d = D()\n",
    "d.do_something()"
   ]
  },
  {
   "cell_type": "markdown",
   "metadata": {},
   "source": [
    "### Method Resolution Order (MRO)"
   ]
  },
  {
   "cell_type": "markdown",
   "metadata": {},
   "source": [
    "Python resolves the diamond problem using the C3 linearization algorithm. The MRO can be inspected using the `__mro__` attribute or the `mro()` method."
   ]
  },
  {
   "cell_type": "code",
   "execution_count": 132,
   "metadata": {},
   "outputs": [
    {
     "name": "stdout",
     "output_type": "stream",
     "text": [
      "(<class '__main__.D'>, <class '__main__.B'>, <class '__main__.C'>, <class '__main__.A'>, <class 'object'>)\n",
      "[<class '__main__.D'>, <class '__main__.B'>, <class '__main__.C'>, <class '__main__.A'>, <class 'object'>]\n"
     ]
    }
   ],
   "source": [
    "print(D.__mro__)\n",
    "# or\n",
    "print(D.mro())"
   ]
  },
  {
   "cell_type": "markdown",
   "metadata": {},
   "source": [
    "\n",
    "When `d.do_something()` is called, the output will be:\n",
    "\n",
    "```\n",
    "Method defined in B\n",
    "```\n",
    "\n",
    "Because `B` comes before `C` in the MRO of class `D`."
   ]
  },
  {
   "cell_type": "markdown",
   "metadata": {},
   "source": [
    "## Compiled Bytecode in Python"
   ]
  },
  {
   "cell_type": "markdown",
   "metadata": {},
   "source": [
    "\n",
    "Python is often referred to as an interpreted language, but it actually goes through a compilation step before execution. This involves compiling Python source code (`.py` files) into bytecode (`.pyc` files)."
   ]
  },
  {
   "cell_type": "markdown",
   "metadata": {},
   "source": [
    "### What is Bytecode?"
   ]
  },
  {
   "cell_type": "markdown",
   "metadata": {},
   "source": [
    "- **Bytecode** is a low-level, platform-independent representation of your source code.\n",
    "- **.pyc Files**: These files contain the compiled bytecode and are stored in the `__pycache__` directory. This step speeds up the program startup time because the bytecode doesn't need to be recompiled each time the script is run."
   ]
  },
  {
   "cell_type": "markdown",
   "metadata": {},
   "source": [
    "### How Bytecode Works:"
   ]
  },
  {
   "cell_type": "markdown",
   "metadata": {},
   "source": [
    "1. **Compilation**: When you run a Python program, the Python interpreter compiles the source code into bytecode.\n",
    "2. **Execution**: The bytecode is then executed by the Python virtual machine (PVM)."
   ]
  },
  {
   "cell_type": "markdown",
   "metadata": {},
   "source": [
    "```python\n",
    "# Example: Running a Python script\n",
    "# Compiles the script into bytecode and saves it in __pycache__\n",
    "python example.py\n",
    "```"
   ]
  },
  {
   "cell_type": "markdown",
   "metadata": {},
   "source": [
    "## Arrays in Python"
   ]
  },
  {
   "cell_type": "markdown",
   "metadata": {},
   "source": [
    "While Python lists are flexible and can hold different data types, sometimes a more efficient, typed array is needed. This is where the `array` module and libraries like NumPy come in."
   ]
  },
  {
   "cell_type": "markdown",
   "metadata": {},
   "source": [
    "### Python's Built-in `array` Module"
   ]
  },
  {
   "cell_type": "markdown",
   "metadata": {},
   "source": [
    "The `array` module provides a way to create arrays with fixed types."
   ]
  },
  {
   "cell_type": "code",
   "execution_count": 133,
   "metadata": {},
   "outputs": [
    {
     "name": "stdout",
     "output_type": "stream",
     "text": [
      "array('i', [1, 2, 3, 4])\n",
      "array('i', [1, 2, 3, 4, 5])\n",
      "1 2 3 4 5 "
     ]
    }
   ],
   "source": [
    "import array\n",
    "\n",
    "# Create an array of integers\n",
    "int_array = array.array('i', [1, 2, 3, 4])\n",
    "print(int_array)\n",
    "\n",
    "# Add an element\n",
    "int_array.append(5)\n",
    "print(int_array)\n",
    "\n",
    "# Iterate over the array\n",
    "for item in int_array:\n",
    "    print(item, end=' ')"
   ]
  },
  {
   "cell_type": "markdown",
   "metadata": {},
   "source": [
    "### NumPy Arrays"
   ]
  },
  {
   "cell_type": "markdown",
   "metadata": {},
   "source": [
    "NumPy provides a powerful array object, `ndarray`, which supports multi-dimensional arrays and a variety of mathematical operations."
   ]
  },
  {
   "cell_type": "code",
   "execution_count": 134,
   "metadata": {},
   "outputs": [
    {
     "name": "stdout",
     "output_type": "stream",
     "text": [
      "[1 2 3 4 5]\n",
      "[ 2  4  6  8 10]\n",
      "[[1 2]\n",
      " [3 4]]\n"
     ]
    }
   ],
   "source": [
    "import numpy as np\n",
    "\n",
    "# Create a NumPy array\n",
    "np_array = np.array([1, 2, 3, 4, 5])\n",
    "print(np_array)\n",
    "\n",
    "# Perform operations\n",
    "np_array = np_array * 2\n",
    "print(np_array)\n",
    "\n",
    "# Multi-dimensional array\n",
    "np_matrix = np.array([[1, 2], [3, 4]])\n",
    "print(np_matrix)"
   ]
  },
  {
   "cell_type": "markdown",
   "metadata": {},
   "source": [
    "## Accessing Private Variables in Subclasses (Mangling)"
   ]
  },
  {
   "cell_type": "markdown",
   "metadata": {},
   "source": [
    "In Python, private variables are indicated by prefixing the name with double underscores (`__`). These are subject to name mangling, which makes them less accessible from outside the class."
   ]
  },
  {
   "cell_type": "code",
   "execution_count": 135,
   "metadata": {},
   "outputs": [
    {
     "name": "stdout",
     "output_type": "stream",
     "text": [
      "I'm protected\n",
      "I'm protected\n",
      "I'm private\n"
     ]
    }
   ],
   "source": [
    "class Parent:\n",
    "    def __init__(self):\n",
    "        self._protectedVar = \"I'm protected\"\n",
    "        self.__privateVar = \"I'm private\"\n",
    "\n",
    "    def _protectedMethod(self):\n",
    "        return \"Protected method\"\n",
    "\n",
    "    def __privateMethod(self):\n",
    "        return \"Private method\"\n",
    "\n",
    "class Child(Parent):\n",
    "    def accessProtected(self):\n",
    "        return self._protectedVar\n",
    "\n",
    "    def accessPrivate(self):\n",
    "        # Accessing private variable using name mangling\n",
    "        return self._Parent__privateVar\n",
    "\n",
    "p = Parent()\n",
    "print(p._protectedVar)  # Directly accessible\n",
    "\n",
    "c = Child()\n",
    "print(c.accessProtected()) \n",
    "print(c.accessPrivate())"
   ]
  },
  {
   "cell_type": "markdown",
   "metadata": {},
   "source": [
    "## Shallow Copy vs. Deep Copy"
   ]
  },
  {
   "cell_type": "markdown",
   "metadata": {},
   "source": [
    "### Shallow Copy"
   ]
  },
  {
   "cell_type": "markdown",
   "metadata": {},
   "source": [
    "A shallow copy creates a new object but does not create copies of nested objects. Instead, it copies the references to the nested objects."
   ]
  },
  {
   "cell_type": "code",
   "execution_count": 136,
   "metadata": {},
   "outputs": [
    {
     "name": "stdout",
     "output_type": "stream",
     "text": [
      "[['X', 2, 3], [4, 5, 6]]\n"
     ]
    }
   ],
   "source": [
    "import copy\n",
    "\n",
    "original_list = [[1, 2, 3], [4, 5, 6]]\n",
    "shallow_copied_list = copy.copy(original_list)\n",
    "\n",
    "original_list[0][0] = 'X'\n",
    "print(shallow_copied_list) "
   ]
  },
  {
   "cell_type": "markdown",
   "metadata": {},
   "source": [
    "### Deep Copy"
   ]
  },
  {
   "cell_type": "markdown",
   "metadata": {},
   "source": [
    "A deep copy creates a new object and recursively copies all objects found in the original object, creating independent copies of all nested objects."
   ]
  },
  {
   "cell_type": "code",
   "execution_count": 137,
   "metadata": {},
   "outputs": [
    {
     "name": "stdout",
     "output_type": "stream",
     "text": [
      "[[1, 2, 3], [4, 5, 6]]\n"
     ]
    }
   ],
   "source": [
    "import copy\n",
    "\n",
    "original_list = [[1, 2, 3], [4, 5, 6]]\n",
    "deep_copied_list = copy.deepcopy(original_list)\n",
    "\n",
    "original_list[0][0] = 'X'\n",
    "print(deep_copied_list)  # Output: [[1, 2, 3], [4, 5, 6]]"
   ]
  },
  {
   "cell_type": "markdown",
   "metadata": {},
   "source": [
    "## The `id()` Function"
   ]
  },
  {
   "cell_type": "markdown",
   "metadata": {},
   "source": [
    "The `id()` function returns the \"identity\" of an object, which is a unique integer for the object during its lifetime. It typically represents the object's memory address in CPython."
   ]
  },
  {
   "cell_type": "code",
   "execution_count": 138,
   "metadata": {},
   "outputs": [
    {
     "name": "stdout",
     "output_type": "stream",
     "text": [
      "4721297136\n",
      "4757822832\n"
     ]
    }
   ],
   "source": [
    "a = 'example'\n",
    "print(id(a))  # Outputs a unique integer\n",
    "\n",
    "b = 'example!'\n",
    "print(id(b))  # Outputs a different unique integer"
   ]
  },
  {
   "cell_type": "markdown",
   "metadata": {},
   "source": [
    "### Difference Between `id()` and `hash()`\n",
    "\n",
    "- **id()**: Provides a unique identifier for the object during its lifetime.\n",
    "- **hash()**: Returns a hash value used for quick comparisons in hash-based collections like dictionaries and sets."
   ]
  },
  {
   "cell_type": "code",
   "execution_count": 139,
   "metadata": {},
   "outputs": [
    {
     "name": "stdout",
     "output_type": "stream",
     "text": [
      "4721297136\n",
      "6394412552866170590\n",
      "4757905840\n",
      "1890314095180015450\n"
     ]
    }
   ],
   "source": [
    "a = 'example'\n",
    "print(id(a))   # Unique identity\n",
    "print(hash(a)) # Hash value\n",
    "\n",
    "b = 'example!'\n",
    "print(id(b))   # Different identity\n",
    "print(hash(b)) # Different hash value, but not guaranteed"
   ]
  },
  {
   "cell_type": "markdown",
   "metadata": {},
   "source": [
    "## Container Methods\n"
   ]
  },
  {
   "cell_type": "markdown",
   "metadata": {},
   "source": [
    "Container methods allow custom objects to support common container operations such as indexing, length retrieval, item setting, and item deletion. Let's implement these methods in a class called `MyContainer`.\n"
   ]
  },
  {
   "cell_type": "markdown",
   "metadata": {},
   "source": [
    "### Implementing Container Methods in `MyContainer`\n"
   ]
  },
  {
   "cell_type": "markdown",
   "metadata": {},
   "source": [
    "1. **`__len__(self)`**: Returns the length of the container. Called by the `len()` function.\n",
    "2. **`__getitem__(self, key)`**: Defines behavior for accessing an item `x[key]`.\n",
    "3. **`__setitem__(self, key, value)`**: Defines behavior for setting an item `x[key] = value`.\n",
    "4. **`__delitem__(self, key)`**: Defines behavior for deleting an item `del x[key]`."
   ]
  },
  {
   "cell_type": "markdown",
   "metadata": {},
   "source": [
    "Here's a complete example:"
   ]
  },
  {
   "cell_type": "code",
   "execution_count": 140,
   "metadata": {},
   "outputs": [
    {
     "name": "stdout",
     "output_type": "stream",
     "text": [
      "3\n",
      "is\n",
      "is really\n",
      "None\n",
      "5\n"
     ]
    }
   ],
   "source": [
    "class MyContainer:\n",
    "    def __init__(self):\n",
    "        self.items = []\n",
    "\n",
    "    def __len__(self):\n",
    "        return len(self.items)\n",
    "\n",
    "    def __getitem__(self, key):\n",
    "        return self.items[key]\n",
    "\n",
    "    def __setitem__(self, key, value):\n",
    "        if key >= len(self.items):\n",
    "            # Extend the list with None until we reach the desired index\n",
    "            self.items.extend([None] * (key + 1 - len(self.items)))\n",
    "        self.items[key] = value\n",
    "\n",
    "    def __delitem__(self, key):\n",
    "        # Set the item at key to None to indicate deletion\n",
    "        # This is a simple approach; there are other ways to handle deletion\n",
    "        self.items[key] = None\n",
    "\n",
    "# Example usage\n",
    "container = MyContainer()\n",
    "\n",
    "# Adding items\n",
    "container[0] = 'Python'\n",
    "container[1] = 'is'\n",
    "container[2] = 'awesome'\n",
    "\n",
    "print(len(container))  \n",
    "print(container[1])  \n",
    "\n",
    "# Updating an item\n",
    "container[1] = 'is really'\n",
    "print(container[1])  \n",
    "\n",
    "# Deleting an item\n",
    "del container[1]\n",
    "print(container[1])  \n",
    "\n",
    "# Adding a new item at a higher index\n",
    "container[4] = 'fun'\n",
    "print(len(container))  "
   ]
  },
  {
   "cell_type": "markdown",
   "metadata": {},
   "source": [
    "### Explanation\n",
    "\n",
    "1. **Initialization (`__init__`)**:\n",
    "   - `self.items` is initialized as an empty list to hold the container's items.\n",
    "\n",
    "2. **Length (`__len__`)**:\n",
    "   - `__len__` returns the length of `self.items`, allowing `len(container)` to work.\n",
    "\n",
    "3. **Get Item (`__getitem__`)**:\n",
    "   - `__getitem__` returns the item at the given index `key`, enabling syntax like `container[key]`.\n",
    "\n",
    "4. **Set Item (`__setitem__`)**:\n",
    "   - `__setitem__` sets the value at the specified index `key`. If the index is out of bounds, it extends the list with `None` values up to the required length.\n",
    "\n",
    "5. **Delete Item (`__delitem__`)**:\n",
    "   - `__delitem__` sets the item at the specified index `key` to `None`, simulating deletion.\n"
   ]
  },
  {
   "cell_type": "markdown",
   "metadata": {},
   "source": [
    "## Differences Between Regular and Lambda Functions "
   ]
  },
  {
   "cell_type": "markdown",
   "metadata": {},
   "source": [
    "In Python, anonymous functions are functions that are defined without a name. While regular functions are defined using the `def` keyword, anonymous functions are defined using the `lambda` keyword.\n",
    "\n",
    "Here are the key differences between a normal (named) function and an anonymous (lambda) function:\n",
    "\n",
    "1. **Definition Syntax:**\n",
    "   - Normal functions are defined using the `def` keyword, have a name, and can consist of multiple statements.\n",
    "   - Lambda functions are defined using the `lambda` keyword, do not have a name, and consist of a single expression.\n",
    "\n",
    "2. **Number of Expressions:**\n",
    "   - Normal functions can contain any number of expressions and statements.\n",
    "   - Lambda functions are limited to a single expression.\n",
    "\n",
    "3. **Return Statement:**\n",
    "   - Normal functions can use the `return` statement.\n",
    "   - Lambda functions implicitly return the result of their single expression.\n",
    "\n",
    "4. **Use Case:**\n",
    "   - Normal functions are used when you need to perform a sequence of operations and possibly reuse this functionality.\n",
    "   - Lambda functions are used for small, one-off operations that you can define inline, often where a function expects a callback parameter.\n",
    "\n",
    "Here are examples that demonstrate the differences:"
   ]
  },
  {
   "cell_type": "code",
   "execution_count": 141,
   "metadata": {},
   "outputs": [
    {
     "name": "stdout",
     "output_type": "stream",
     "text": [
      "5\n"
     ]
    }
   ],
   "source": [
    "def add(a, b):\n",
    "    result = a + b\n",
    "    return result\n",
    "\n",
    "print(add(2, 3))"
   ]
  },
  {
   "cell_type": "code",
   "execution_count": 142,
   "metadata": {},
   "outputs": [
    {
     "name": "stdout",
     "output_type": "stream",
     "text": [
      "5\n"
     ]
    }
   ],
   "source": [
    "add = lambda a, b: a + b\n",
    "\n",
    "print(add(2, 3))"
   ]
  },
  {
   "cell_type": "markdown",
   "metadata": {},
   "source": [
    "In the examples above, both functions achieve the same result, but the lambda function does it in a single line. Lambda functions are particularly useful when you need a small function for a short duration and you are interested in quickly passing a function as an argument to higher-order functions like `map()`, `filter()`, or `sorted()`.\n",
    "\n",
    "Keep in mind that lambda functions are syntactically restricted to a single expression. So, you can't have multi-line statements, loops, or complex logic inside a lambda function. For these more complex cases, you would define a normal function using `def`."
   ]
  },
  {
   "cell_type": "markdown",
   "metadata": {},
   "source": [
    "1. **Using `map()` with a lambda function:**\n",
    "\n",
    "The `map()` function applies a given function to each item of an iterable (like a list) and returns a list of the results.\n"
   ]
  },
  {
   "cell_type": "code",
   "execution_count": 143,
   "metadata": {},
   "outputs": [
    {
     "name": "stdout",
     "output_type": "stream",
     "text": [
      "[1, 4, 9, 16, 25]\n"
     ]
    }
   ],
   "source": [
    "# Example using map() to square each number in the list\n",
    "numbers = [1, 2, 3, 4, 5]\n",
    "squared_numbers = map(lambda x: x**2, numbers)\n",
    "\n",
    "print(list(squared_numbers))\n"
   ]
  },
  {
   "cell_type": "markdown",
   "metadata": {},
   "source": [
    "2. **Using `filter()` with a lambda function:**\n",
    "\n",
    "The `filter()` function creates a list of elements for which a function returns true.\n"
   ]
  },
  {
   "cell_type": "code",
   "execution_count": 144,
   "metadata": {},
   "outputs": [
    {
     "name": "stdout",
     "output_type": "stream",
     "text": [
      "[2, 4]\n"
     ]
    }
   ],
   "source": [
    "# Example using filter() to get only even numbers from the list\n",
    "numbers = [1, 2, 3, 4, 5]\n",
    "even_numbers = filter(lambda x: x % 2 == 0, numbers)\n",
    "\n",
    "print(list(even_numbers))"
   ]
  },
  {
   "cell_type": "markdown",
   "metadata": {},
   "source": [
    "3. **Using `sorted()` with a lambda function:**\n",
    "\n",
    "The `sorted()` function sorts the items of a given iterable in a specific order (default is ascending) and returns a sorted list."
   ]
  },
  {
   "cell_type": "code",
   "execution_count": 145,
   "metadata": {},
   "outputs": [
    {
     "name": "stdout",
     "output_type": "stream",
     "text": [
      "[(4, 'four'), (1, 'one'), (3, 'three'), (2, 'two')]\n"
     ]
    }
   ],
   "source": [
    "# Example using sorted() to sort a list of tuples based on the second item\n",
    "pairs = [(1, 'one'), (3, 'three'), (2, 'two'), (4, 'four')]\n",
    "sorted_pairs = sorted(pairs, key=lambda x: x[1])\n",
    "\n",
    "print(sorted_pairs)\n"
   ]
  },
  {
   "cell_type": "markdown",
   "metadata": {},
   "source": [
    "Lambda functions can use conditional expressions to incorporate `if-else` statements within a single line of code. The syntax for using `if-else` in a lambda function is:\n",
    "\n",
    "```python\n",
    "lambda arguments: expression1 if condition else expression2\n",
    "```\n",
    "\n",
    "Here's an example of a lambda function that uses an `if-else` statement to determine whether a number is odd or even:"
   ]
  },
  {
   "cell_type": "code",
   "execution_count": 146,
   "metadata": {},
   "outputs": [
    {
     "name": "stdout",
     "output_type": "stream",
     "text": [
      "Even\n",
      "Odd\n"
     ]
    }
   ],
   "source": [
    "is_even = lambda x: \"Even\" if x % 2 == 0 else \"Odd\"\n",
    "\n",
    "print(is_even(10)) \n",
    "print(is_even(3)) "
   ]
  },
  {
   "cell_type": "markdown",
   "metadata": {},
   "source": [
    "You can also chain multiple `if-else` statements together, although it can make the lambda function harder to read:"
   ]
  },
  {
   "cell_type": "code",
   "execution_count": 147,
   "metadata": {},
   "outputs": [
    {
     "name": "stdout",
     "output_type": "stream",
     "text": [
      "Positive\n",
      "Negative\n",
      "Zero\n"
     ]
    }
   ],
   "source": [
    "classify_number = lambda x: \"Positive\" if x > 0 else (\"Negative\" if x < 0 else \"Zero\")\n",
    "\n",
    "print(classify_number(10))\n",
    "print(classify_number(-5))\n",
    "print(classify_number(0))"
   ]
  },
  {
   "cell_type": "markdown",
   "metadata": {},
   "source": [
    "While lambda functions are useful for simple conditional logic, for more complex scenarios with multiple conditions, it is often better to use a standard function definition with `def` for the sake of clarity."
   ]
  },
  {
   "cell_type": "markdown",
   "metadata": {},
   "source": [
    "## Global Interpreter Lock (GIL)"
   ]
  },
  {
   "cell_type": "markdown",
   "metadata": {},
   "source": [
    "The Global Interpreter Lock (GIL) is a mutex that protects access to Python objects, preventing multiple threads from executing Python bytecode at once. This lock is necessary because CPython's memory management is not thread-safe. The GIL is part of Python's reference implementation, CPython, which is the most widely used implementation of Python."
   ]
  },
  {
   "cell_type": "markdown",
   "metadata": {},
   "source": [
    "### Why the GIL Exists"
   ]
  },
  {
   "cell_type": "markdown",
   "metadata": {},
   "source": [
    "\n",
    "The GIL simplifies the CPython implementation by making the object model (including critical built-in types such as lists and dictionaries) inherently safe against concurrent access. This means that developers don’t need to worry about locking Python objects (with some exceptions) to ensure thread safety in their Python code. However, the presence of the GIL has significant implications for multi-threaded Python programs:\n",
    "\n",
    "1. **CPU-Bound Tasks**: For CPU-bound tasks that require heavy computation and would benefit from parallel execution across multiple CPU cores, the GIL is a bottleneck. Even though these tasks can be executed in a multi-threaded manner, the GIL ensures that only one thread executes Python bytecode at a time. As a result, such tasks do not see a performance improvement from threading and might even perform worse due to the overhead of context switching between threads.\n",
    "\n",
    "2. **I/O-Bound Tasks**: For I/O-bound tasks that spend most of their time waiting for external events (such as network responses or disk I/O), the GIL is less of a problem. While one thread waits for an I/O operation to complete, other threads can continue executing Python bytecode. Thus, multi-threading can improve the performance of I/O-bound applications by allowing them to handle other tasks while waiting for I/O operations."
   ]
  },
  {
   "cell_type": "markdown",
   "metadata": {},
   "source": [
    "### Workarounds and Alternatives"
   ]
  },
  {
   "cell_type": "markdown",
   "metadata": {},
   "source": [
    "Despite the limitations imposed by the GIL, there are several approaches to achieve concurrency in Python:\n",
    "\n",
    "1. **Multiprocessing**: By using the `multiprocessing` module, Python can bypass the GIL by creating separate processes instead of threads. Each process has its own Python interpreter and memory space, thus allowing parallel execution on multiple CPU cores. This is particularly effective for CPU-bound tasks.\n",
    "\n",
    "2. **Alternative Python Implementations**: Some implementations of Python, such as Jython and IronPython, do not have a GIL. However, these implementations have their own limitations and may not be compatible with all Python code and libraries, especially those that rely on C extensions.\n",
    "\n",
    "3. **Concurrent I/O**: For I/O-bound tasks, the `asyncio` module provides a framework for writing single-threaded concurrent code using coroutines. This model can handle high levels of I/O-bound tasks efficiently without the need for multi-threading or multiprocessing."
   ]
  },
  {
   "cell_type": "markdown",
   "metadata": {},
   "source": [
    "In summary, the GIL ensures thread safety within the CPython interpreter at the cost of limiting parallel execution of CPU-bound tasks in multi-threaded programs. Understanding the nature of the tasks your program performs is key to choosing the right concurrency model in Python."
   ]
  },
  {
   "cell_type": "markdown",
   "metadata": {},
   "source": [
    "## dundr Methods"
   ]
  },
  {
   "cell_type": "markdown",
   "metadata": {},
   "source": [
    "In Python, \"dunder\" methods, short for \"double underscore\" methods, are special methods that start and end with double underscores (`__`). These methods are also known as \"magic methods.\" They enable operator overloading, provide special object behaviors, and allow classes to integrate seamlessly with Python's built-in features. Below are some of the most commonly used dunder methods in a typical Python class:"
   ]
  },
  {
   "cell_type": "markdown",
   "metadata": {},
   "source": [
    "### Object Initialization and Destruction"
   ]
  },
  {
   "cell_type": "markdown",
   "metadata": {},
   "source": [
    "- `__init__(self, [...])`: The constructor method called when a new instance of the class is created. It can take arguments to initialize the instance.\n",
    "- `__del__(self)`: The destructor method called when an instance is about to be destroyed. Though not frequently used, it can be helpful for cleaning up resources."
   ]
  },
  {
   "cell_type": "markdown",
   "metadata": {},
   "source": [
    "### Representation"
   ]
  },
  {
   "cell_type": "markdown",
   "metadata": {},
   "source": [
    "- `__repr__(self)`: Called by the `repr()` built-in function and in many other contexts where a developer-friendly string representation of the object is needed.\n",
    "- `__str__(self)`: Called by the `str()` function and by the `print()` function to compute the \"informal\" or nicely printable string representation of an object."
   ]
  },
  {
   "cell_type": "markdown",
   "metadata": {},
   "source": [
    "### Comparison Operators"
   ]
  },
  {
   "cell_type": "markdown",
   "metadata": {},
   "source": [
    "- `__eq__(self, other)`: Defines behavior for the equality operator, `==`.\n",
    "- `__ne__(self, other)`: Defines behavior for the inequality operator, `!=`.\n",
    "- `__lt__(self, other)`: Defines behavior for the less than operator, `<`.\n",
    "- `__le__(self, other)`: Defines behavior for the less than or equal to operator, `<=`.\n",
    "- `__gt__(self, other)`: Defines behavior for the greater than operator, `>`.\n",
    "- `__ge__(self, other)`: Defines behavior for the greater than or equal to operator, `>=`."
   ]
  },
  {
   "cell_type": "markdown",
   "metadata": {},
   "source": [
    "### Arithmetic Operators"
   ]
  },
  {
   "cell_type": "markdown",
   "metadata": {},
   "source": [
    "- `__add__(self, other)`: Implements addition `+`.\n",
    "- `__sub__(self, other)`: Implements subtraction `-`.\n",
    "- `__mul__(self, other)`: Implements multiplication `*`.\n",
    "- `__truediv__(self, other)`: Implements division `/`.\n",
    "- `__floordiv__(self, other)`: Implements floor division `//`.\n",
    "- `__mod__(self, other)`: Implements modulo `%`.\n",
    "- `__pow__(self, other[, modulo])`: Implements power `**`.\n",
    "- `__neg__(self)`: Implements unary negation `-`.\n",
    "- `__pos__(self)`: Implements unary positive `+`."
   ]
  },
  {
   "cell_type": "markdown",
   "metadata": {},
   "source": [
    "### Container Methods"
   ]
  },
  {
   "cell_type": "markdown",
   "metadata": {},
   "source": [
    "- `__len__(self)`: Returns the length of the container. Called by the `len()` function.\n",
    "- `__getitem__(self, key)`: Defines behavior for accessing an item `x[key]`.\n",
    "- `__setitem__(self, key, value)`: Defines behavior for setting an item `x[key] = value`.\n",
    "- `__delitem__(self, key)`: Defines behavior for deleting an item `del x[key]`.\n",
    "- `__iter__(self)`: Should return an iterator for the container's items, making the object iterable."
   ]
  },
  {
   "cell_type": "markdown",
   "metadata": {},
   "source": [
    "### Context Managers"
   ]
  },
  {
   "cell_type": "markdown",
   "metadata": {},
   "source": [
    "- `__enter__(self)`: Enters the runtime context related to the object. The value returned by this method is bound to the identifier in the `as` clause of the `with` statement.\n",
    "- `__exit__(self, exc_type, exc_value, traceback)`: Exits the runtime context and optionally handles exceptions."
   ]
  },
  {
   "cell_type": "markdown",
   "metadata": {},
   "source": [
    "## __new__ Method"
   ]
  },
  {
   "cell_type": "markdown",
   "metadata": {},
   "source": [
    "The `__new__` method in Python is a special static method that is responsible for creating a new instance of a class. It precedes the `__init__` method in the object creation process and is unique because it's the actual constructor of the class, whereas `__init__` is the initializer that configures the newly created object instance."
   ]
  },
  {
   "cell_type": "markdown",
   "metadata": {},
   "source": [
    "### Purpose and Behavior\n",
    "- **Object Creation**: `__new__` is responsible for returning a new instance of the class. It is called first when an object is created, before `__init__`.\n",
    "- **Static Method**: Unlike most other dunder methods, `__new__` is a static method, which means it doesn't require an instance of the class. The first argument to `__new__` is the class itself, typically referred to as `cls`."
   ]
  },
  {
   "cell_type": "markdown",
   "metadata": {},
   "source": [
    "### Signature\n",
    "```python\n",
    "def __new__(cls, *args, **kwargs):\n",
    "```\n",
    "- `cls`: The class of which an instance was requested.\n",
    "- `*args`, `**kwargs`: Additional arguments and keyword arguments that are passed through from the class instantiation call."
   ]
  },
  {
   "cell_type": "markdown",
   "metadata": {},
   "source": [
    "### Usage\n",
    "`__new__` is rarely overridden, but there are specific cases where it's useful:\n",
    "- **Immutable Object Customization**: When creating instances of immutable types like strings or tuples, where you cannot modify the instance after it's created, `__new__` can be used to customize the instance during creation.\n",
    "- **Singleton Pattern Implementation**: To ensure a class only has one instance, `__new__` can control the instantiation process to return the same instance every time.\n",
    "- **Returning Instances of Other Classes**: `__new__` can decide not to create a new instance of its own class, but rather to return an instance of a different class.\n"
   ]
  },
  {
   "cell_type": "code",
   "execution_count": 148,
   "metadata": {},
   "outputs": [
    {
     "name": "stdout",
     "output_type": "stream",
     "text": [
      "True\n",
      "Instance 2\n",
      "Instance 2\n"
     ]
    }
   ],
   "source": [
    "class Singleton:\n",
    "    _instance = None  # Keep instance reference\n",
    "    \n",
    "    def __new__(cls, *args, **kwargs):\n",
    "        if cls._instance is None:\n",
    "            cls._instance = super().__new__(cls)  # Create a new instance if one doesn't exist\n",
    "        return cls._instance  # Return the singleton instance\n",
    "    \n",
    "    def __init__(self, name):\n",
    "        self.name = name\n",
    "\n",
    "# Usage\n",
    "singleton1 = Singleton('Instance 1')\n",
    "singleton2 = Singleton('Instance 2')\n",
    "\n",
    "print(singleton1 is singleton2)\n",
    "print(singleton1.name)\n",
    "print(singleton2.name)"
   ]
  },
  {
   "cell_type": "markdown",
   "metadata": {},
   "source": [
    "In this example, `__new__` ensures that only one instance of `Singleton` is created, regardless of how many times the class is instantiated. The `__init__` method will still be called each time the class is instantiated, which is why the `name` attribute reflects the most recent instantiation argument.\n"
   ]
  },
  {
   "cell_type": "markdown",
   "metadata": {},
   "source": [
    "## Monkey patching"
   ]
  },
  {
   "cell_type": "markdown",
   "metadata": {},
   "source": [
    "Monkey patching in Python refers to the dynamic modification of a class or module at runtime. This technique allows the alteration of behavior of code without modifying the source code directly. It's often used in testing to change methods and attributes for mock testing or to fix bugs in a library without altering the external library's code.\n",
    "\n",
    "Monkey patching is a powerful tool but should be used with caution, as it can lead to code that is hard to understand and maintain. It can also cause compatibility issues if the library being patched changes its implementation."
   ]
  },
  {
   "cell_type": "markdown",
   "metadata": {},
   "source": [
    "**Example**\n",
    "Suppose you have a library module `mathlib` with a method `add` that you want to modify for your application's specific needs without changing the `mathlib` source code."
   ]
  },
  {
   "cell_type": "code",
   "execution_count": 149,
   "metadata": {},
   "outputs": [
    {
     "name": "stdout",
     "output_type": "stream",
     "text": [
      "Original add function's result is: 3\n",
      "Monkey patched add function's result is: 4\n"
     ]
    }
   ],
   "source": [
    "# Let's think it as the original `mathlib` module:\n",
    "def add(a, b):\n",
    "    return a + b\n",
    "\n",
    "# Your application code:\n",
    "# from mathlib import add\n",
    "\n",
    "# Original behavior\n",
    "print(f\"Original add function's result is: {add(1, 2)}\")\n",
    "\n",
    "# Now, let's monkey-patch the `add` function.\n",
    "def patched_add(a, b):\n",
    "    # New behavior: add an extra 1 to the result\n",
    "    return a + b + 1\n",
    "\n",
    "# Patching\n",
    "add = patched_add\n",
    "\n",
    "# New behavior\n",
    "print(f\"Monkey patched add function's result is: {add(1, 2)}\")\n"
   ]
  },
  {
   "cell_type": "markdown",
   "metadata": {},
   "source": [
    "In this example, the `patched_add` function replaces the original `add` function in the `mathlib` module, altering its behavior for any code that uses `mathlib.add` after the patching. "
   ]
  },
  {
   "cell_type": "markdown",
   "metadata": {},
   "source": [
    "## Duck Typing in Python?"
   ]
  },
  {
   "cell_type": "markdown",
   "metadata": {},
   "source": [
    "Duck typing is a concept related to dynamic typing in programming languages like Python, where an object's suitability for use is determined by the presence of certain methods and properties, rather than the actual type of the object itself. The name comes from the phrase \"If it looks like a duck, swims like a duck, and quacks like a duck, then it probably is a duck,\" which emphasizes actions that an object can perform over its type.\n",
    "\n",
    "In the context of Python, duck typing allows for more flexible and intuitive code. It means that you don't have to inherit from a specific class or implement a specific interface to fulfill an interface requirement, as long as your class has the necessary methods or attributes implemented."
   ]
  },
  {
   "cell_type": "markdown",
   "metadata": {},
   "source": [
    "**Example**"
   ]
  },
  {
   "cell_type": "markdown",
   "metadata": {},
   "source": [
    "Consider a function that takes an object and calls its `walk` and `talk` methods. In Python, any object passed to this function just needs to have `walk` and `talk` methods. It doesn't matter what class the object is an instance of."
   ]
  },
  {
   "cell_type": "code",
   "execution_count": 150,
   "metadata": {},
   "outputs": [
    {
     "name": "stdout",
     "output_type": "stream",
     "text": [
      "This duck is walking.\n",
      "This duck says quack.\n",
      "This person is walking.\n",
      "This person says hello.\n"
     ]
    }
   ],
   "source": [
    "def activate_duck(duck):\n",
    "    duck.walk()\n",
    "    duck.talk()\n",
    "\n",
    "class Duck:\n",
    "    def walk(self):\n",
    "        print(\"This duck is walking.\")\n",
    "\n",
    "    def talk(self):\n",
    "        print(\"This duck says quack.\")\n",
    "\n",
    "class Person:\n",
    "    def walk(self):\n",
    "        print(\"This person is walking.\")\n",
    "\n",
    "    def talk(self):\n",
    "        print(\"This person says hello.\")\n",
    "\n",
    "# Both objects can be used in the activate_duck function\n",
    "duck = Duck()\n",
    "person = Person()\n",
    "\n",
    "activate_duck(duck)\n",
    "\n",
    "activate_duck(person)"
   ]
  },
  {
   "cell_type": "markdown",
   "metadata": {},
   "source": [
    "In the above example, the `activate_duck` function can accept any object as long as it has the `walk` and `talk` methods, demonstrating the principle of duck typing. This leads to a more flexible and extensible code, where functions can operate on a variety of objects without being tightly coupled to specific class hierarchies."
   ]
  },
  {
   "cell_type": "markdown",
   "metadata": {},
   "source": [
    "### Advantages of Duck Typing"
   ]
  },
  {
   "cell_type": "markdown",
   "metadata": {},
   "source": [
    "- **Flexibility**: Allows for more generic and reusable code.\n",
    "- **Simplicity**: Reduces the need for complex class hierarchies or interfaces.\n",
    "- **Ease of Use**: Simplifies the design of functions and methods that can operate on a wide variety of objects."
   ]
  },
  {
   "cell_type": "markdown",
   "metadata": {},
   "source": [
    "### Considerations"
   ]
  },
  {
   "cell_type": "markdown",
   "metadata": {},
   "source": [
    "While duck typing enhances flexibility and reduces boilerplate, it requires careful documentation and testing, as the implicit contracts it creates are not enforced by the language's syntax. Errors related to missing methods or incorrect implementations may only be discovered at runtime, making thorough testing and clear documentation essential."
   ]
  },
  {
   "cell_type": "markdown",
   "metadata": {},
   "source": [
    "## What Python supports, call by reference or call by value?"
   ]
  },
  {
   "cell_type": "markdown",
   "metadata": {},
   "source": [
    "Python's argument passing model is neither strictly \"call by value\" nor \"call by reference,\" but rather a strategy often referred to as \"call by object reference\" or \"call by sharing.\" This means that when you pass an argument to a function in Python, what gets passed is a reference to the object, not the actual object itself. However, the way that changes to the object inside the function affect the original object outside the function depends on the object's type (mutable or immutable)."
   ]
  },
  {
   "cell_type": "markdown",
   "metadata": {},
   "source": [
    "### Immutable Objects"
   ]
  },
  {
   "cell_type": "markdown",
   "metadata": {},
   "source": [
    "Immutable objects (e.g., integers, floats, strings, tuples) cannot be changed after they are created. So, when you pass an immutable object to a function, and that function attempts to modify the \"value\" of the object, what actually happens is that a new object is created and assigned to the local variable in the function's scope. The original object outside the function remains unchanged."
   ]
  },
  {
   "cell_type": "code",
   "execution_count": 151,
   "metadata": {},
   "outputs": [
    {
     "name": "stdout",
     "output_type": "stream",
     "text": [
      "x inside function: 10\n",
      "x outside function: 5\n"
     ]
    }
   ],
   "source": [
    "def modify(x: int):\n",
    "    x = 10\n",
    "    print(\"x inside function:\", x)\n",
    "\n",
    "x = 5\n",
    "modify(x)\n",
    "print(\"x outside function:\", x)\n"
   ]
  },
  {
   "cell_type": "markdown",
   "metadata": {},
   "source": [
    "### Mutable Objects"
   ]
  },
  {
   "cell_type": "markdown",
   "metadata": {},
   "source": [
    "Mutable objects (e.g., lists, dictionaries, sets) can be changed after they are created. When you pass a mutable object to a function, and the function modifies the object (e.g., by adding an item to a list), the changes will be reflected in the original object outside the function, because both the outside and inside variables refer to the same object in memory.\n"
   ]
  },
  {
   "cell_type": "code",
   "execution_count": 152,
   "metadata": {},
   "outputs": [
    {
     "name": "stdout",
     "output_type": "stream",
     "text": [
      "lst inside function: [1, 2, 3, 4]\n",
      "lst outside function: [1, 2, 3, 4]\n"
     ]
    }
   ],
   "source": [
    "def modify(lst):\n",
    "    lst.append(4)\n",
    "    print(\"lst inside function:\", lst)\n",
    "\n",
    "lst = [1, 2, 3]\n",
    "modify(lst)\n",
    "print(\"lst outside function:\", lst)"
   ]
  },
  {
   "cell_type": "markdown",
   "metadata": {},
   "source": [
    "This behavior shows that Python's model is not purely call by value (since changes to mutable objects within a function are seen outside the function) nor purely call by reference (since reassigning an object within a function does not reassign the external reference). Instead, Python passes the references to the objects by value, a subtle distinction that underscores the importance of understanding mutable and immutable objects in Python."
   ]
  },
  {
   "cell_type": "markdown",
   "metadata": {},
   "source": [
    "## MRO"
   ]
  },
  {
   "cell_type": "markdown",
   "metadata": {},
   "source": [
    "MRO stands for Method Resolution Order in Python. It is the order in which Python looks for a method in a hierarchy of classes. Especially with multiple inheritance, where a class can inherit from multiple classes, Python needs to have a specific order in which it searches for methods to ensure that the correct method is called. Python uses the C3 linearization algorithm to determine this order, ensuring a consistent and predictable method resolution path."
   ]
  },
  {
   "cell_type": "markdown",
   "metadata": {},
   "source": [
    "The MRO defines the class search path used by Python to search for the right method to use in classes involved in multiple inheritance. The algorithm that Python uses to determine this order is aimed at preserving the following two properties:"
   ]
  },
  {
   "cell_type": "markdown",
   "metadata": {},
   "source": [
    "1. **Child precedes its parents**: In the MRO of a class, the class itself is always listed before its parents.\n",
    "2. **Base class order is preserved**: In the MRO of a class, the order of base classes as specified in the class definition is preserved."
   ]
  },
  {
   "cell_type": "markdown",
   "metadata": {},
   "source": [
    "You can determine the MRO of a class by using the `.__mro__` attribute or the `mro()` method on the class. Here's an example:"
   ]
  },
  {
   "cell_type": "code",
   "execution_count": 153,
   "metadata": {},
   "outputs": [
    {
     "name": "stdout",
     "output_type": "stream",
     "text": [
      "(<class '__main__.D'>, <class '__main__.B'>, <class '__main__.C'>, <class '__main__.A'>, <class 'object'>)\n",
      "[<class '__main__.D'>, <class '__main__.B'>, <class '__main__.C'>, <class '__main__.A'>, <class 'object'>]\n"
     ]
    }
   ],
   "source": [
    "class A:\n",
    "    pass\n",
    "\n",
    "class B(A):\n",
    "    pass\n",
    "\n",
    "class C(A):\n",
    "    pass\n",
    "\n",
    "class D(B, C):\n",
    "    pass\n",
    "\n",
    "print(D.__mro__)\n",
    "# Or equivalently\n",
    "print(D.mro())"
   ]
  },
  {
   "cell_type": "markdown",
   "metadata": {},
   "source": [
    "## References in Python"
   ]
  },
  {
   "cell_type": "markdown",
   "metadata": {},
   "source": [
    "In Python, references are used to access objects stored in memory. When you create a variable, you are creating a reference to an object. There are two primary types of references: strong references and weak references."
   ]
  },
  {
   "cell_type": "markdown",
   "metadata": {},
   "source": [
    "### Strong References"
   ]
  },
  {
   "cell_type": "markdown",
   "metadata": {},
   "source": [
    "By default, all references in Python are strong references. This means that as long as there is at least one strong reference to an object, the object will not be garbage collected."
   ]
  },
  {
   "cell_type": "markdown",
   "metadata": {},
   "source": [
    "**Step-by-Step Breakdown**\n",
    "\n",
    "**Object Creation:** When an object is created, it is allocated in memory.\n",
    "\n",
    "**Strong Reference:** Any variable that references this object creates a strong reference.\n",
    "\n",
    "**Reference Counting:** Python keeps track of the number of strong references to each object using a reference count.\n",
    "\n",
    "**Garbage Collection:** When the reference count drops to zero (i.e., no strong references), the object is eligible for garbage collection."
   ]
  },
  {
   "cell_type": "code",
   "execution_count": 166,
   "metadata": {},
   "outputs": [
    {
     "name": "stdout",
     "output_type": "stream",
     "text": [
      "Reference count after creation: 2\n",
      "Reference count after adding another reference: 3\n",
      "Value accessed via obj: 10\n",
      "Value accessed via another_obj: 10\n",
      "Reference count after deleting obj: 2\n"
     ]
    }
   ],
   "source": [
    "import sys\n",
    "\n",
    "class MyClass:\n",
    "    def __init__(self, value):\n",
    "        self.value = value\n",
    "\n",
    "# Creating a strong reference\n",
    "obj = MyClass(10)\n",
    "\n",
    "# Checking the number of strong references to obj\n",
    "# The output is 2 because:\n",
    "# 1. The reference from obj.\n",
    "# 2. The temporary reference from sys.getrefcount.\n",
    "print(f'Reference count after creation: {sys.getrefcount(obj)}')  \n",
    "\n",
    "# Creating another strong reference\n",
    "another_obj = obj\n",
    "\n",
    "# Checking the reference count again\n",
    "# The output is 3 because:\n",
    "# 1. The reference from obj.\n",
    "# 2. The reference from another_obj.\n",
    "# 3. The temporary reference from sys.getrefcount.\n",
    "print(f'Reference count after adding another reference: {sys.getrefcount(obj)}') \n",
    "\n",
    "# Accessing the value through both references\n",
    "print(f'Value accessed via obj: {obj.value}') \n",
    "print(f'Value accessed via another_obj: {another_obj.value}')  \n",
    "\n",
    "# Deleting one strong reference\n",
    "del obj\n",
    "\n",
    "# Checking the reference count after deletion\n",
    "# The output is 2 because:\n",
    "# 1. The reference from another_obj.\n",
    "# 2. The temporary reference from sys.getrefcount.\n",
    "print(f'Reference count after deleting obj: {sys.getrefcount(another_obj)}')  \n",
    "\n",
    "# Deleting the last strong reference\n",
    "del another_obj\n",
    "\n",
    "# Now the object is eligible for garbage collection\n",
    "# No way to check reference count as object is no longer accessible\n"
   ]
  },
  {
   "cell_type": "markdown",
   "metadata": {},
   "source": [
    "### Weak References"
   ]
  },
  {
   "cell_type": "markdown",
   "metadata": {},
   "source": [
    "Weak references allow the referenced object to be garbage collected even if the weak reference exists. They are useful for caching and other scenarios where you want to hold references to objects without preventing their garbage collection.\n",
    "\n",
    "To create weak references, you need the `weakref` module."
   ]
  },
  {
   "cell_type": "code",
   "execution_count": 167,
   "metadata": {},
   "outputs": [
    {
     "name": "stdout",
     "output_type": "stream",
     "text": [
      "Value accessed via weak reference: 10\n",
      "Weak reference value is: None\n"
     ]
    }
   ],
   "source": [
    "import weakref\n",
    "\n",
    "class MyClass:\n",
    "    def __init__(self, value):\n",
    "        self.value = value\n",
    "\n",
    "# Creating a strong reference\n",
    "obj = MyClass(10)\n",
    "\n",
    "# Creating a weak reference to the variable\n",
    "weak_obj = weakref.ref(obj)\n",
    "\n",
    "print(f'Value accessed via weak reference: {weak_obj().value}') \n",
    "\n",
    "# Deleting the strong reference\n",
    "del obj\n",
    "\n",
    "# Checking if the weak reference is still valid\n",
    "print(f\"Weak reference value is: {weak_obj()}\")"
   ]
  },
  {
   "cell_type": "markdown",
   "metadata": {},
   "source": [
    "In this example, `weak_obj` is a weak reference to the `MyClass` instance. After deleting `obj`, the object can be garbage collected, and `weak_obj()` returns `None`."
   ]
  },
  {
   "cell_type": "markdown",
   "metadata": {},
   "source": [
    "Weak references are particularly useful in situations where you want to avoid memory leaks by not holding on to objects longer than necessary. Here are some common use cases:"
   ]
  },
  {
   "cell_type": "markdown",
   "metadata": {},
   "source": [
    "#### Caching"
   ]
  },
  {
   "cell_type": "markdown",
   "metadata": {},
   "source": [
    "Weak references can be used to implement caches that do not prevent objects from being garbage collected."
   ]
  },
  {
   "cell_type": "code",
   "execution_count": 168,
   "metadata": {},
   "outputs": [
    {
     "name": "stdout",
     "output_type": "stream",
     "text": [
      "Value for 'key1' in cache before deletion: 1\n",
      "Value for 'key1' in cache after deletion: None\n",
      "Value for 'key2' in cache after deletion: None\n"
     ]
    }
   ],
   "source": [
    "import weakref\n",
    "\n",
    "class Data:\n",
    "    def __init__(self, value):\n",
    "        self.value = value\n",
    "\n",
    "# Cache dictionary with weak references\n",
    "cache = weakref.WeakValueDictionary()\n",
    "\n",
    "# Creating instances of Data\n",
    "data1 = Data(1)\n",
    "data2 = Data(2)\n",
    "\n",
    "# Adding objects to the cache with weak references\n",
    "cache['key1'] = data1\n",
    "cache['key2'] = data2\n",
    "\n",
    "# Accessing and printing the value from the cache using key1\n",
    "# This works because data1 is still a strong reference\n",
    "print(f\"Value for 'key1' in cache before deletion: {cache['key1'].value}\")\n",
    "\n",
    "# Deleting strong references to the Data instances\n",
    "del data1\n",
    "del data2\n",
    "\n",
    "# Attempting to access the cached objects\n",
    "# The objects should be garbage collected since there are no strong references left\n",
    "print(f\"Value for 'key1' in cache after deletion: {cache.get('key1')}\")  # Expecting None if garbage collected\n",
    "print(f\"Value for 'key2' in cache after deletion: {cache.get('key2')}\")  # Expecting None if garbage collected"
   ]
  },
  {
   "cell_type": "markdown",
   "metadata": {},
   "source": [
    "#### Tracking Object Lifecycle"
   ]
  },
  {
   "cell_type": "markdown",
   "metadata": {},
   "source": [
    "Weak references can be used to monitor when objects are about to be destroyed, which can be useful for debugging or managing resources."
   ]
  },
  {
   "cell_type": "code",
   "execution_count": 169,
   "metadata": {},
   "outputs": [
    {
     "name": "stdout",
     "output_type": "stream",
     "text": [
      "The object has already been destroyed.\n"
     ]
    }
   ],
   "source": [
    "import weakref\n",
    "\n",
    "class MyClass:\n",
    "    def __init__(self, value):\n",
    "        self.value = value\n",
    "\n",
    "def on_finalize(weak_ref):\n",
    "    # Check if the weak reference is still valid before accessing its value\n",
    "    obj = weak_ref()\n",
    "    if obj is not None:\n",
    "        print(f'Object with value {obj.value} is about to be destroyed.')\n",
    "    else:\n",
    "        print('The object has already been destroyed.')\n",
    "\n",
    "obj = MyClass(10)\n",
    "\n",
    "# Creating a weak reference to obj with a callback function on_finalize\n",
    "# The callback will be called when the object is about to be destroyed\n",
    "weak_obj = weakref.ref(obj, on_finalize)\n",
    "\n",
    "# Deleting the strong reference obj\n",
    "# Since there are no other strong references to the MyClass instance,\n",
    "# it will be garbage collected, and the on_finalize callback will be triggered\n",
    "del obj"
   ]
  },
  {
   "cell_type": "markdown",
   "metadata": {},
   "source": [
    "#### Weak References to Methods"
   ]
  },
  {
   "cell_type": "markdown",
   "metadata": {},
   "source": [
    "Weak references can also be used to reference instance methods, which can be particularly useful for event handling or callback systems."
   ]
  },
  {
   "cell_type": "code",
   "execution_count": 170,
   "metadata": {},
   "outputs": [
    {
     "name": "stdout",
     "output_type": "stream",
     "text": [
      "Method called\n",
      "The method is no longer available\n"
     ]
    }
   ],
   "source": [
    "import weakref\n",
    "\n",
    "class MyClass:\n",
    "    def method(self):\n",
    "        print('Method called')\n",
    "\n",
    "obj = MyClass()\n",
    "\n",
    "# Create a weak reference to obj's method using weakref.WeakMethod\n",
    "weak_method = weakref.WeakMethod(obj.method)\n",
    "\n",
    "# Calling the weakly referenced method if it's still valid\n",
    "if weak_method():\n",
    "    # The weak reference is still valid, so call the method\n",
    "    weak_method()()\n",
    "else:\n",
    "    print(\"The method is no longer available\")\n",
    "\n",
    "# Deleting the strong reference to the MyClass instance\n",
    "del obj\n",
    "\n",
    "# Check if the weakly referenced method is still callable\n",
    "if weak_method():\n",
    "    # The weak reference is still valid, so call the method\n",
    "    weak_method()()\n",
    "else:\n",
    "    print(\"The method is no longer available\")"
   ]
  },
  {
   "cell_type": "markdown",
   "metadata": {},
   "source": [
    "#### Weak Sets"
   ]
  },
  {
   "cell_type": "markdown",
   "metadata": {},
   "source": [
    "The `weakref` module also provides `WeakSet`, which is a set that holds weak references to its elements. This can be useful for keeping track of objects without preventing their garbage collection."
   ]
  },
  {
   "cell_type": "code",
   "execution_count": 165,
   "metadata": {},
   "outputs": [
    {
     "name": "stdout",
     "output_type": "stream",
     "text": [
      "Length of weak_set before deletion: 2\n",
      "Length of weak_set after deletion: 0\n"
     ]
    }
   ],
   "source": [
    "import weakref\n",
    "\n",
    "class MyClass:\n",
    "    def __init__(self, value):\n",
    "        self.value = value\n",
    "\n",
    "# Creating a WeakSet\n",
    "weak_set = weakref.WeakSet()\n",
    "\n",
    "obj1 = MyClass(1)\n",
    "obj2 = MyClass(2)\n",
    "\n",
    "# Adding objects to the WeakSet\n",
    "weak_set.add(obj1)\n",
    "weak_set.add(obj2)\n",
    "\n",
    "# Printing the length of the WeakSet\n",
    "# At this point, the set contains two objects\n",
    "print(f\"Length of weak_set before deletion: {len(weak_set)}\")\n",
    "\n",
    "# Deleting strong references to the objects\n",
    "del obj1\n",
    "del obj2\n",
    "\n",
    "# Printing the length of the WeakSet after deletion\n",
    "# If the objects have been garbage collected, the set should be empty\n",
    "print(f\"Length of weak_set after deletion: {len(weak_set)}\")\n"
   ]
  },
  {
   "cell_type": "markdown",
   "metadata": {},
   "source": [
    "## Enumerations"
   ]
  },
  {
   "cell_type": "markdown",
   "metadata": {},
   "source": [
    "Enumerations, or Enums, in Python are a powerful feature that can make your code more readable and maintainable. Enums allow you to define a set of named values, making your code more expressive and avoiding the use of magic numbers or strings."
   ]
  },
  {
   "cell_type": "markdown",
   "metadata": {},
   "source": [
    "### 1. Introduction\n",
    "\n",
    "Enums are a way to define symbolic names for a set of values. They are used to create a distinct type with a set of named values, which are known as members.\n",
    "\n",
    "You can create an Enum by subclassing the `Enum` class and adding class attributes to it. Each attribute becomes an Enum member."
   ]
  },
  {
   "cell_type": "code",
   "execution_count": 183,
   "metadata": {},
   "outputs": [],
   "source": [
    "from enum import Enum\n",
    "\n",
    "class Status(Enum):\n",
    "    NEW = 'new'\n",
    "    IN_PROGRESS = 'in_progress'\n",
    "    COMPLETED = 'completed'"
   ]
  },
  {
   "cell_type": "markdown",
   "metadata": {},
   "source": [
    "### 2. Accessing Enum Members\n",
    "\n",
    "You can access Enum members using the dot notation or by value."
   ]
  },
  {
   "cell_type": "code",
   "execution_count": 184,
   "metadata": {},
   "outputs": [
    {
     "name": "stdout",
     "output_type": "stream",
     "text": [
      "Status.NEW\n",
      "Status.IN_PROGRESS\n",
      "NEW\n",
      "new\n"
     ]
    }
   ],
   "source": [
    "# Access by name\n",
    "print(Status.NEW)\n",
    "\n",
    "# Access by value\n",
    "print(Status('in_progress')) \n",
    "\n",
    "# Access name and value\n",
    "print(Status.NEW.name)  \n",
    "print(Status.NEW.value)"
   ]
  },
  {
   "cell_type": "markdown",
   "metadata": {},
   "source": [
    "### 3. Iteration\n",
    "\n",
    "You can iterate over the members of an Enum."
   ]
  },
  {
   "cell_type": "code",
   "execution_count": 185,
   "metadata": {},
   "outputs": [
    {
     "name": "stdout",
     "output_type": "stream",
     "text": [
      "Status.NEW\n",
      "Status.IN_PROGRESS\n",
      "Status.COMPLETED\n"
     ]
    }
   ],
   "source": [
    "for status in Status:\n",
    "    print(status)"
   ]
  },
  {
   "cell_type": "markdown",
   "metadata": {},
   "source": [
    "### 4. Comparison\n",
    "\n",
    "Enum members are unique and can be compared using identity and equality operators."
   ]
  },
  {
   "cell_type": "code",
   "execution_count": 186,
   "metadata": {},
   "outputs": [
    {
     "name": "stdout",
     "output_type": "stream",
     "text": [
      "True\n",
      "True\n",
      "False\n"
     ]
    }
   ],
   "source": [
    "print(Status.NEW == Status.NEW) \n",
    "print(Status.NEW is Status.NEW) \n",
    "print(Status.NEW == Status.COMPLETED)"
   ]
  },
  {
   "cell_type": "markdown",
   "metadata": {},
   "source": [
    "### 5. Auto Value Assignment\n",
    "\n",
    "You can use the `auto()` function for automatic value assignment."
   ]
  },
  {
   "cell_type": "code",
   "execution_count": 187,
   "metadata": {},
   "outputs": [
    {
     "name": "stdout",
     "output_type": "stream",
     "text": [
      "1\n",
      "2\n",
      "3\n"
     ]
    }
   ],
   "source": [
    "from enum import Enum, auto\n",
    "\n",
    "class Priority(Enum):\n",
    "    LOW = auto()\n",
    "    MEDIUM = auto()\n",
    "    HIGH = auto()\n",
    "    \n",
    "print(Priority.LOW.value)\n",
    "print(Priority.MEDIUM.value)\n",
    "print(Priority.HIGH.value)"
   ]
  },
  {
   "cell_type": "markdown",
   "metadata": {},
   "source": [
    "### 6. Using Enums in Classes\n",
    "\n",
    "Enums can be used within classes to provide meaningful constants. It can also have methods."
   ]
  },
  {
   "cell_type": "code",
   "execution_count": 188,
   "metadata": {},
   "outputs": [
    {
     "name": "stdout",
     "output_type": "stream",
     "text": [
      "Task: Write documentation, Status: NEW\n",
      "Status is NEW, value is new\n",
      "Task: Write documentation, Status: IN_PROGRESS\n",
      "Status is IN_PROGRESS, value is in_progress\n",
      "Task: Write documentation, Status: COMPLETED\n",
      "Status is COMPLETED, value is completed\n",
      "Invalid status\n"
     ]
    }
   ],
   "source": [
    "from enum import Enum\n",
    "\n",
    "class Status(Enum):\n",
    "    NEW = 'new'\n",
    "    IN_PROGRESS = 'in_progress'\n",
    "    COMPLETED = 'completed'\n",
    "\n",
    "    def describe(self):\n",
    "        return f\"Status is {self.name}, value is {self.value}\"\n",
    "\n",
    "class Task:\n",
    "    def __init__(self, title, status):\n",
    "        self.title = title\n",
    "        self.status = Status(status)\n",
    "\n",
    "    def change_status(self, new_status):\n",
    "        if isinstance(new_status, Status):\n",
    "            self.status = new_status\n",
    "        else:\n",
    "            raise ValueError(\"Invalid status\")\n",
    "\n",
    "    def status_description(self):\n",
    "        return self.status.describe()\n",
    "\n",
    "# Creating a new task with 'NEW' status\n",
    "task = Task(\"Write documentation\", Status.NEW)\n",
    "print(f\"Task: {task.title}, Status: {task.status.name}\")\n",
    "print(task.status_description())  \n",
    "\n",
    "# Changing the task status to 'IN_PROGRESS'\n",
    "task.change_status(Status.IN_PROGRESS)\n",
    "print(f\"Task: {task.title}, Status: {task.status.name}\")\n",
    "print(task.status_description())  # \n",
    "\n",
    "# Completing the task by changing its status to 'COMPLETED'\n",
    "task.change_status(Status.COMPLETED)\n",
    "print(f\"Task: {task.title}, Status: {task.status.name}\")\n",
    "print(task.status_description())  \n",
    "\n",
    "# Attempting to change to an invalid status (This will raise an error)\n",
    "try:\n",
    "    task.change_status(\"archived\")\n",
    "except ValueError as e:\n",
    "    print(e) \n"
   ]
  },
  {
   "cell_type": "markdown",
   "metadata": {},
   "source": [
    "### 7. Dynamic Enums\n",
    "\n",
    "You can create Enums dynamically using the `Enum` class."
   ]
  },
  {
   "cell_type": "code",
   "execution_count": 189,
   "metadata": {},
   "outputs": [],
   "source": [
    "DynamicEnum = Enum('DynamicEnum', 'ONE TWO THREE')"
   ]
  },
  {
   "cell_type": "markdown",
   "metadata": {},
   "source": [
    "### Examples"
   ]
  },
  {
   "cell_type": "markdown",
   "metadata": {},
   "source": [
    "#### Command Pattern\n",
    "\n",
    "Using Enums to define commands in the Command Pattern."
   ]
  },
  {
   "cell_type": "code",
   "execution_count": 190,
   "metadata": {},
   "outputs": [
    {
     "name": "stdout",
     "output_type": "stream",
     "text": [
      "Starting...\n",
      "Pausing...\n",
      "Rewinding...\n",
      "Forwarding...\n",
      "Stopping...\n",
      "Invalid command type\n"
     ]
    }
   ],
   "source": [
    "from enum import Enum\n",
    "\n",
    "class Command(Enum):\n",
    "    \"\"\"Enum representing possible commands for the RemoteControl.\"\"\"\n",
    "    START = 'start'\n",
    "    STOP = 'stop'\n",
    "    PAUSE = 'pause'\n",
    "    REWIND = 'rewind'\n",
    "    FORWARD = 'forward'\n",
    "\n",
    "class RemoteControl:\n",
    "    \"\"\"Class representing a remote control that can execute commands.\"\"\"\n",
    "\n",
    "    def __init__(self):\n",
    "        # Mapping commands to their respective methods for execution\n",
    "        self.command_methods = {\n",
    "            Command.START: self.start,\n",
    "            Command.STOP: self.stop,\n",
    "            Command.PAUSE: self.pause,\n",
    "            Command.REWIND: self.rewind,\n",
    "            Command.FORWARD: self.forward\n",
    "        }\n",
    "\n",
    "    def execute(self, command):\n",
    "        \"\"\"\n",
    "        Execute the given command if it exists in the command_methods dictionary.\n",
    "        \n",
    "        :param command: Command enum member\n",
    "        \"\"\"\n",
    "        if not isinstance(command, Command):\n",
    "            raise ValueError(\"Invalid command type\")\n",
    "\n",
    "        # Get the corresponding method for the command\n",
    "        action = self.command_methods.get(command)\n",
    "        \n",
    "        if action:\n",
    "            action()  # Call the method\n",
    "        else:\n",
    "            print(\"Unknown command\")\n",
    "\n",
    "    def start(self):\n",
    "        \"\"\"Action for starting.\"\"\"\n",
    "        print(\"Starting...\")\n",
    "\n",
    "    def stop(self):\n",
    "        \"\"\"Action for stopping.\"\"\"\n",
    "        print(\"Stopping...\")\n",
    "\n",
    "    def pause(self):\n",
    "        \"\"\"Action for pausing.\"\"\"\n",
    "        print(\"Pausing...\")\n",
    "\n",
    "    def rewind(self):\n",
    "        \"\"\"Action for rewinding.\"\"\"\n",
    "        print(\"Rewinding...\")\n",
    "\n",
    "    def forward(self):\n",
    "        \"\"\"Action for forwarding.\"\"\"\n",
    "        print(\"Forwarding...\")\n",
    "\n",
    "remote = RemoteControl()\n",
    "\n",
    "# Execute various commands using the remote control\n",
    "remote.execute(Command.START)    # Execute the START command\n",
    "remote.execute(Command.PAUSE)    # Execute the PAUSE command\n",
    "remote.execute(Command.REWIND)   # Execute the REWIND command\n",
    "remote.execute(Command.FORWARD)  # Execute the FORWARD command\n",
    "remote.execute(Command.STOP)     # Execute the STOP command\n",
    "\n",
    "# Attempt to execute an invalid command (this will raise an error)\n",
    "try:\n",
    "    remote.execute(\"invalid_command\")\n",
    "except ValueError as e:\n",
    "    print(e)  # Handling the invalid command case\n"
   ]
  },
  {
   "cell_type": "markdown",
   "metadata": {},
   "source": [
    "#### Configuration Management\n",
    "\n",
    "Using Enums for configuration settings."
   ]
  },
  {
   "cell_type": "code",
   "execution_count": 191,
   "metadata": {},
   "outputs": [
    {
     "name": "stdout",
     "output_type": "stream",
     "text": [
      "Production mode enabled.\n",
      "Current configuration: PRODUCTION, Logging level: ERROR\n",
      "Debug mode enabled.\n",
      "Current configuration: DEBUG, Logging level: DEBUG\n",
      "Testing mode enabled.\n",
      "Current configuration: TESTING, Logging level: INFO\n",
      "Invalid configuration type\n"
     ]
    }
   ],
   "source": [
    "from enum import Enum\n",
    "\n",
    "class Config(Enum):\n",
    "    \"\"\"Enum representing different configuration settings for the application.\"\"\"\n",
    "    DEBUG = 'debug'\n",
    "    PRODUCTION = 'production'\n",
    "    TESTING = 'testing'\n",
    "\n",
    "class Application:\n",
    "    \"\"\"Class representing an application that operates under different configurations.\"\"\"\n",
    "\n",
    "    def __init__(self, config):\n",
    "        \"\"\"\n",
    "        Initialize the application with the given configuration.\n",
    "        \n",
    "        :param config: Config enum member\n",
    "        \"\"\"\n",
    "        if not isinstance(config, Config):\n",
    "            raise ValueError(\"Invalid configuration type\")\n",
    "        self.config = config\n",
    "        self.setup()\n",
    "\n",
    "    def setup(self):\n",
    "        \"\"\"Set up the application based on the configuration.\"\"\"\n",
    "        if self.config == Config.DEBUG:\n",
    "            self.enable_debug_mode()\n",
    "        elif self.config == Config.PRODUCTION:\n",
    "            self.enable_production_mode()\n",
    "        elif self.config == Config.TESTING:\n",
    "            self.enable_testing_mode()\n",
    "\n",
    "    def enable_debug_mode(self):\n",
    "        \"\"\"Set up the application in debug mode.\"\"\"\n",
    "        self.debug = True\n",
    "        self.logging_level = 'DEBUG'\n",
    "        print(\"Debug mode enabled.\")\n",
    "\n",
    "    def enable_production_mode(self):\n",
    "        \"\"\"Set up the application in production mode.\"\"\"\n",
    "        self.debug = False\n",
    "        self.logging_level = 'ERROR'\n",
    "        print(\"Production mode enabled.\")\n",
    "\n",
    "    def enable_testing_mode(self):\n",
    "        \"\"\"Set up the application in testing mode.\"\"\"\n",
    "        self.debug = True\n",
    "        self.logging_level = 'INFO'\n",
    "        print(\"Testing mode enabled.\")\n",
    "\n",
    "    def get_config_description(self):\n",
    "        \"\"\"Get a description of the current configuration.\"\"\"\n",
    "        return f\"Current configuration: {self.config.name}, Logging level: {self.logging_level}\"\n",
    "\n",
    "# Create an application instance with production configuration\n",
    "app = Application(Config.PRODUCTION)\n",
    "print(app.get_config_description())  # Output the current configuration description\n",
    "\n",
    "# Create an application instance with debug configuration\n",
    "app_debug = Application(Config.DEBUG)\n",
    "print(app_debug.get_config_description())  # Output the current configuration description\n",
    "\n",
    "# Create an application instance with testing configuration\n",
    "app_testing = Application(Config.TESTING)\n",
    "print(app_testing.get_config_description())  # Output the current configuration description\n",
    "\n",
    "# Attempt to create an application with an invalid configuration (this will raise an error)\n",
    "try:\n",
    "    app_invalid = Application(\"invalid_config\")\n",
    "except ValueError as e:\n",
    "    print(e)  # Handling the invalid configuration case"
   ]
  }
 ],
 "metadata": {
  "kernelspec": {
   "display_name": "pytorch",
   "language": "python",
   "name": "python3"
  },
  "language_info": {
   "codemirror_mode": {
    "name": "ipython",
    "version": 3
   },
   "file_extension": ".py",
   "mimetype": "text/x-python",
   "name": "python",
   "nbconvert_exporter": "python",
   "pygments_lexer": "ipython3",
   "version": "3.11.5"
  }
 },
 "nbformat": 4,
 "nbformat_minor": 2
}
