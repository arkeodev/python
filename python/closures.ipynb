{
 "cells": [
  {
   "cell_type": "markdown",
   "metadata": {},
   "source": [
    "# Closures"
   ]
  },
  {
   "cell_type": "markdown",
   "metadata": {},
   "source": [
    "## Introduction"
   ]
  },
  {
   "cell_type": "markdown",
   "metadata": {},
   "source": [
    "In Python, a **closure** is a function object that remembers values in enclosing scopes even if they are not present in memory. Closures can be a powerful tool for creating flexible and maintainable code. They are often used for callbacks, factories, and decorators."
   ]
  },
  {
   "cell_type": "markdown",
   "metadata": {},
   "source": [
    "## Understanding the Basics"
   ]
  },
  {
   "cell_type": "markdown",
   "metadata": {},
   "source": [
    "A closure occurs when a nested function references a value in its enclosing scope. Here's a simple example to illustrate:"
   ]
  },
  {
   "cell_type": "code",
   "execution_count": 34,
   "metadata": {},
   "outputs": [
    {
     "name": "stdout",
     "output_type": "stream",
     "text": [
      "Hello, World!\n"
     ]
    }
   ],
   "source": [
    "def outer_function(msg):\n",
    "    def inner_function():\n",
    "        print(msg)\n",
    "    return inner_function\n",
    "\n",
    "closure_example = outer_function(\"Hello, World!\")\n",
    "closure_example()"
   ]
  },
  {
   "cell_type": "markdown",
   "metadata": {},
   "source": [
    "In this example:\n",
    "- `outer_function` defines a message `msg` and an `inner_function`.\n",
    "- `inner_function` accesses `msg` from its enclosing scope.\n",
    "- `outer_function` returns `inner_function`, which is then called, printing the message."
   ]
  },
  {
   "cell_type": "markdown",
   "metadata": {},
   "source": [
    "## Key Characteristics of Closures**."
   ]
  },
  {
   "cell_type": "markdown",
   "metadata": {},
   "source": [
    "- **Nested Function**: A function inside another function.\n",
    "- **Free Variables**: Variables from the outer function that are used in the nested function.\n",
    "- **Returning the Nested Function**: The outer function returns the nested function"
   ]
  },
  {
   "cell_type": "markdown",
   "metadata": {},
   "source": [
    "## Benefits of Using Closures**"
   ]
  },
  {
   "cell_type": "markdown",
   "metadata": {},
   "source": [
    "- **Encapsulation**: Closures help in keeping data and the code that uses the data together.\n",
    "- **Factory Functions**: Useful in creating factory functions where functions are generated with preset parameters.\n",
    "- **Function Factories**: Useful in scenarios where you need to create multiple functions with the same behavior but different data."
   ]
  },
  {
   "cell_type": "markdown",
   "metadata": {},
   "source": [
    "## Use Cases"
   ]
  },
  {
   "cell_type": "markdown",
   "metadata": {},
   "source": [
    "### 1. Stateful Functions\n",
    "\n",
    "Closures can maintain state across invocations:"
   ]
  },
  {
   "cell_type": "code",
   "execution_count": 35,
   "metadata": {},
   "outputs": [
    {
     "name": "stdout",
     "output_type": "stream",
     "text": [
      "Counter A: 1\n",
      "Counter A: 2\n",
      "Counter B: 1\n"
     ]
    }
   ],
   "source": [
    "def make_counter():\n",
    "    count = 0\n",
    "    def counter():\n",
    "        nonlocal count\n",
    "        count += 1\n",
    "        return count\n",
    "    return counter\n",
    "\n",
    "counter_a = make_counter()\n",
    "print(f\"Counter A: {counter_a()}\")\n",
    "print(f\"Counter A: {counter_a()}\")\n",
    "\n",
    "counter_b = make_counter()\n",
    "print(f\"Counter B: {counter_b()}\")"
   ]
  },
  {
   "cell_type": "markdown",
   "metadata": {},
   "source": [
    "### 2. Decorators\n",
    "\n",
    "Closures are frequently used to create decorators:"
   ]
  },
  {
   "cell_type": "code",
   "execution_count": 36,
   "metadata": {},
   "outputs": [
    {
     "name": "stdout",
     "output_type": "stream",
     "text": [
      "Function display is being called\n",
      "Display function\n"
     ]
    }
   ],
   "source": [
    "def decorator_func(original_func):\n",
    "    def wrapper_func(*args, **kwargs):\n",
    "        print(f\"Function {original_func.__name__} is being called\")\n",
    "        return original_func(*args, **kwargs)\n",
    "    return wrapper_func\n",
    "\n",
    "@decorator_func\n",
    "def display():\n",
    "    print(\"Display function\")\n",
    "\n",
    "display()"
   ]
  },
  {
   "cell_type": "markdown",
   "metadata": {},
   "source": [
    "\n",
    "\n",
    "\n",
    "```python\n",
    "\n",
    "```"
   ]
  },
  {
   "cell_type": "markdown",
   "metadata": {},
   "source": [
    "### 3. Creating Functions Dynamically\n",
    "\n",
    "Closures can be used to create a set of functions dynamically:"
   ]
  },
  {
   "cell_type": "code",
   "execution_count": 37,
   "metadata": {},
   "outputs": [
    {
     "name": "stdout",
     "output_type": "stream",
     "text": [
      "16\n",
      "27\n"
     ]
    }
   ],
   "source": [
    "def power_factory(exp):\n",
    "    def power(base):\n",
    "        return base ** exp\n",
    "    return power\n",
    "\n",
    "square = power_factory(2)\n",
    "cube = power_factory(3)\n",
    "\n",
    "print(square(4))\n",
    "print(cube(3))"
   ]
  },
  {
   "cell_type": "markdown",
   "metadata": {},
   "source": [
    "## Examples"
   ]
  },
  {
   "cell_type": "markdown",
   "metadata": {},
   "source": [
    "### 1. Configurable Logger\n",
    "\n",
    "Creating a logger with customizable logging levels:"
   ]
  },
  {
   "cell_type": "code",
   "execution_count": 38,
   "metadata": {},
   "outputs": [
    {
     "name": "stdout",
     "output_type": "stream",
     "text": [
      "[INFO]: This is an info message.\n",
      "[ERROR]: This is an error message.\n"
     ]
    }
   ],
   "source": [
    "def logger(level):\n",
    "    def log_message(message):\n",
    "        print(f\"[{level.upper()}]: {message}\")\n",
    "    return log_message\n",
    "\n",
    "info_logger = logger(\"info\")\n",
    "error_logger = logger(\"error\")\n",
    "\n",
    "info_logger(\"This is an info message.\")\n",
    "error_logger(\"This is an error message.\")"
   ]
  },
  {
   "cell_type": "markdown",
   "metadata": {},
   "source": [
    "### 2. Caching/Memoization\n",
    "\n",
    "Using closures for caching the results of expensive function calls:"
   ]
  },
  {
   "cell_type": "code",
   "execution_count": 39,
   "metadata": {},
   "outputs": [
    {
     "name": "stdout",
     "output_type": "stream",
     "text": [
      "55\n"
     ]
    }
   ],
   "source": [
    "def memoize(func):\n",
    "    cache = {}\n",
    "    def memoized_func(*args):\n",
    "        if args in cache:\n",
    "            return cache[args]\n",
    "        result = func(*args)\n",
    "        cache[args] = result\n",
    "        return result\n",
    "    return memoized_func\n",
    "\n",
    "@memoize\n",
    "def fibonacci(n):\n",
    "    if n < 2:\n",
    "        return n\n",
    "    return fibonacci(n-1) + fibonacci(n-2)\n",
    "\n",
    "print(fibonacci(10))"
   ]
  },
  {
   "cell_type": "markdown",
   "metadata": {},
   "source": [
    "## Tips"
   ]
  },
  {
   "cell_type": "markdown",
   "metadata": {},
   "source": [
    "### 1. Avoiding Common Pitfalls\n",
    "\n",
    "  - **Mutable Default Arguments**: Be cautious of mutable default arguments in closures. Use `None` and initialize inside the function.\n",
    "  \n",
    "   - **Late Binding**: Python’s closures capture variables, not values. Be mindful of variable values at the time of function creation."
   ]
  },
  {
   "cell_type": "code",
   "execution_count": 40,
   "metadata": {},
   "outputs": [
    {
     "name": "stdout",
     "output_type": "stream",
     "text": [
      "In this case closure gets the last value, because i is not defined as variable.\n",
      "[8, 8, 8, 8, 8]\n",
      "Here the correct output is produced.\n",
      "[0, 2, 4, 6, 8]\n"
     ]
    }
   ],
   "source": [
    "def create_multipliers():\n",
    "    return [lambda x: i * x for i in range(5)]\n",
    "\n",
    "multipliers = create_multipliers()\n",
    "print(\"In this case closure gets the last value, because i is not defined as variable.\")\n",
    "print([m(2) for m in multipliers])\n",
    "\n",
    "# Correct approach using default arguments\n",
    "def create_multipliers():\n",
    "    return [lambda x, i=i: i * x for i in range(5)]\n",
    "\n",
    "multipliers = create_multipliers()\n",
    "print(\"Here the correct output is produced.\")\n",
    "print([m(2) for m in multipliers])"
   ]
  },
  {
   "cell_type": "markdown",
   "metadata": {},
   "source": [
    "### 2. Using Closures with Classes\n",
    "\n",
    "Closures can be combined with classes:"
   ]
  },
  {
   "cell_type": "code",
   "execution_count": 41,
   "metadata": {},
   "outputs": [
    {
     "name": "stdout",
     "output_type": "stream",
     "text": [
      "1\n",
      "2\n"
     ]
    }
   ],
   "source": [
    "class ClosureWithState:\n",
    "    def __init__(self):\n",
    "        self.state = 0\n",
    "\n",
    "    def get_closure(self):\n",
    "        def closure():\n",
    "            self.state += 1\n",
    "            return self.state\n",
    "        return closure\n",
    "\n",
    "stateful_closure = ClosureWithState().get_closure()\n",
    "print(stateful_closure())\n",
    "print(stateful_closure())"
   ]
  },
  {
   "cell_type": "markdown",
   "metadata": {},
   "source": [
    "## Conclusion"
   ]
  },
  {
   "cell_type": "markdown",
   "metadata": {},
   "source": [
    "Closures in Python offer a powerful way to write clean, modular, and maintainable code. By encapsulating functionality and maintaining state, closures enable advanced programming patterns such as decorators, memoization, and dynamic function generation."
   ]
  }
 ],
 "metadata": {
  "kernelspec": {
   "display_name": "pytorch",
   "language": "python",
   "name": "python3"
  },
  "language_info": {
   "codemirror_mode": {
    "name": "ipython",
    "version": 3
   },
   "file_extension": ".py",
   "mimetype": "text/x-python",
   "name": "python",
   "nbconvert_exporter": "python",
   "pygments_lexer": "ipython3",
   "version": "3.11.5"
  }
 },
 "nbformat": 4,
 "nbformat_minor": 2
}
