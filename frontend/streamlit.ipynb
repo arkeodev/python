{
 "cells": [
  {
   "cell_type": "markdown",
   "metadata": {},
   "source": [
    "# Streamlit"
   ]
  },
  {
   "cell_type": "markdown",
   "metadata": {},
   "source": [
    "## Introduction"
   ]
  },
  {
   "cell_type": "markdown",
   "metadata": {},
   "source": [
    "Streamlit is an open-source app framework in Python that is used to create web applications for data science and machine learning projects. With Streamlit, you can easily create interactive web apps with just a few lines of code."
   ]
  },
  {
   "cell_type": "markdown",
   "metadata": {},
   "source": [
    "### Python backend (server)"
   ]
  },
  {
   "cell_type": "markdown",
   "metadata": {},
   "source": [
    "When you execute the command streamlit run your_app.py, your computer uses Python to start up a Streamlit server. This server is the brains of your app and performs the computations for all users who view your app. The machine running your Streamlit server is also called a host."
   ]
  },
  {
   "cell_type": "markdown",
   "metadata": {},
   "source": [
    "### Browser frontend (client)"
   ]
  },
  {
   "cell_type": "markdown",
   "metadata": {},
   "source": [
    "When someone views your app through a browser, their device is a Streamlit client. "
   ]
  },
  {
   "cell_type": "markdown",
   "metadata": {},
   "source": [
    "## Running a Streamlit App"
   ]
  },
  {
   "cell_type": "markdown",
   "metadata": {},
   "source": [
    "There are several command-line options and configurations available when running a Streamlit app. Here are some of the most commonly used options:"
   ]
  },
  {
   "cell_type": "markdown",
   "metadata": {},
   "source": [
    "### Installation and Running a Streamlit App"
   ]
  },
  {
   "cell_type": "code",
   "execution_count": null,
   "metadata": {
    "vscode": {
     "languageId": "shellscript"
    }
   },
   "outputs": [],
   "source": [
    "pip install streamlit -q"
   ]
  },
  {
   "cell_type": "markdown",
   "metadata": {},
   "source": [
    "To run a Streamlit app, navigate to the directory containing your script and run:"
   ]
  },
  {
   "cell_type": "code",
   "execution_count": null,
   "metadata": {
    "vscode": {
     "languageId": "shellscript"
    }
   },
   "outputs": [],
   "source": [
    "streamlit run your_script.py"
   ]
  },
  {
   "cell_type": "markdown",
   "metadata": {},
   "source": [
    "### Commonly Used Options"
   ]
  },
  {
   "cell_type": "markdown",
   "metadata": {},
   "source": [
    "1. **Specifying Port**\n",
    "\n",
    "- You can specify the port to run the app on by using:"
   ]
  },
  {
   "cell_type": "markdown",
   "metadata": {},
   "source": [
    "```bash\n",
    "streamlit run your_script.py --server.port <port_number>\n",
    "```"
   ]
  },
  {
   "cell_type": "markdown",
   "metadata": {},
   "source": [
    "2. **Specifying the Address**\n",
    "\n",
    "   - By default, Streamlit runs on `localhost`. You can change this with:"
   ]
  },
  {
   "cell_type": "markdown",
   "metadata": {},
   "source": [
    "```bash\n",
    "streamlit run your_script.py --server.address <address>\n",
    "```"
   ]
  },
  {
   "cell_type": "markdown",
   "metadata": {},
   "source": [
    "To illustrate, if you have a script named `app.py`, you can run it with various options:"
   ]
  },
  {
   "cell_type": "markdown",
   "metadata": {},
   "source": [
    "```bash\n",
    "streamlit run app.py --server.port 8502 --server.address 0.0.0.0\n",
    "```"
   ]
  },
  {
   "cell_type": "markdown",
   "metadata": {},
   "source": [
    "Streamlit provides a variety of widgets to create interactive web applications. Here, we'll cover some of the fundamental widgets."
   ]
  },
  {
   "cell_type": "markdown",
   "metadata": {},
   "source": [
    "<div style=\"color: white; background-color: red; padding: 10px; border-radius: 5px;\">\n",
    "    <strong>Warning:</strong> You are about to encounter multiple examples of Streamlit implementations. When you execute these examples, the source code of the Jupyter cell will be saved into <code>streamlit_app.py</code>. Afterwards, you can execute the file using the command <code>streamlit run streamlit_app.py</code>.\n",
    "</div>"
   ]
  },
  {
   "cell_type": "markdown",
   "metadata": {},
   "source": [
    "## 1. Widgets"
   ]
  },
  {
   "cell_type": "markdown",
   "metadata": {},
   "source": [
    "### st.write and st.sidebar\n",
    "\n",
    "- `st.write`: A function to display text, data, and even plots.\n",
    "- `st.sidebar`: Used to create a sidebar for user inputs, which helps in organizing the app layout."
   ]
  },
  {
   "cell_type": "code",
   "execution_count": 5,
   "metadata": {},
   "outputs": [
    {
     "name": "stdout",
     "output_type": "stream",
     "text": [
      "Writing streamlit_app.py\n"
     ]
    }
   ],
   "source": [
    "%%writefile streamlit_app.py\n",
    "import streamlit as st\n",
    "\n",
    "# Page title\n",
    "st.title('Hello Streamlit World!')\n",
    "\n",
    "# Sidebar inputs\n",
    "country = st.sidebar.selectbox('Select country:', ['US', 'UK', 'DE', 'FR', 'JP'])\n",
    "temperature_c = st.sidebar.slider('Temperature (°C)', min_value=-30, max_value=50, value=20)\n",
    "\n",
    "# Display temperature in Fahrenheit\n",
    "st.sidebar.write(f'Temperature (°F): {temperature_c * 1.8 + 32}')\n",
    "\n",
    "# Display selected country\n",
    "st.write(f'You selected: {country}')"
   ]
  },
  {
   "cell_type": "markdown",
   "metadata": {},
   "source": [
    "### st.button\n",
    "\n",
    "- `st.button`: Creates a button that triggers an action when clicked."
   ]
  },
  {
   "cell_type": "code",
   "execution_count": 6,
   "metadata": {},
   "outputs": [
    {
     "name": "stdout",
     "output_type": "stream",
     "text": [
      "Writing streamlit_app.py\n"
     ]
    }
   ],
   "source": [
    "%%writefile streamlit_app.py\n",
    "import streamlit as st\n",
    "\n",
    "if st.button('Click me'):\n",
    "    st.write('Button clicked!')"
   ]
  },
  {
   "cell_type": "markdown",
   "metadata": {},
   "source": [
    "### st.checkbox\n",
    "\n",
    "- `st.checkbox`: A checkbox to toggle between True and False."
   ]
  },
  {
   "cell_type": "code",
   "execution_count": 7,
   "metadata": {},
   "outputs": [
    {
     "name": "stdout",
     "output_type": "stream",
     "text": [
      "Overwriting streamlit_app.py\n"
     ]
    }
   ],
   "source": [
    "%%writefile streamlit_app.py\n",
    "import streamlit as st\n",
    "\n",
    "agree = st.checkbox('I agree')\n",
    "\n",
    "if agree:\n",
    "    st.write('Thank you for agreeing!')"
   ]
  },
  {
   "cell_type": "markdown",
   "metadata": {},
   "source": [
    "### st.radio\n",
    "\n",
    "- `st.radio`: A radio button to select a single option from a list."
   ]
  },
  {
   "cell_type": "code",
   "execution_count": 8,
   "metadata": {},
   "outputs": [
    {
     "name": "stdout",
     "output_type": "stream",
     "text": [
      "Overwriting streamlit_app.py\n"
     ]
    }
   ],
   "source": [
    "%%writefile streamlit_app.py\n",
    "import streamlit as st\n",
    "\n",
    "genre = st.radio(\n",
    "    \"What's your favorite movie genre\",\n",
    "    ('Comedy', 'Drama', 'Documentary'))\n",
    "\n",
    "if genre == 'Comedy':\n",
    "    st.write('You selected comedy.')\n",
    "elif genre == 'Drama':\n",
    "    st.write('You selected drama.')\n",
    "else:\n",
    "    st.write('You selected documentary.')"
   ]
  },
  {
   "cell_type": "markdown",
   "metadata": {},
   "source": [
    "### st.selectbox\n",
    "\n",
    "- `st.selectbox`: A dropdown menu to select a single option."
   ]
  },
  {
   "cell_type": "code",
   "execution_count": 9,
   "metadata": {},
   "outputs": [
    {
     "name": "stdout",
     "output_type": "stream",
     "text": [
      "Overwriting streamlit_app.py\n"
     ]
    }
   ],
   "source": [
    "%%writefile streamlit_app.py\n",
    "import streamlit as st\n",
    "\n",
    "option = st.selectbox(\n",
    "    'What is your favorite color?',\n",
    "    ('Blue', 'Red', 'Green'))\n",
    "\n",
    "st.write('You selected:', option)"
   ]
  },
  {
   "cell_type": "markdown",
   "metadata": {},
   "source": [
    "### st.multiselect\n",
    "\n",
    "- `st.multiselect`: A dropdown menu to select multiple options."
   ]
  },
  {
   "cell_type": "code",
   "execution_count": 10,
   "metadata": {},
   "outputs": [
    {
     "name": "stdout",
     "output_type": "stream",
     "text": [
      "Overwriting streamlit_app.py\n"
     ]
    }
   ],
   "source": [
    "%%writefile streamlit_app.py\n",
    "import streamlit as st\n",
    "\n",
    "options = st.multiselect(\n",
    "    'What are your favorite colors',\n",
    "    ['Green', 'Yellow', 'Red', 'Blue'],\n",
    "    ['Yellow', 'Red'])\n",
    "\n",
    "st.write('You selected:', options)"
   ]
  },
  {
   "cell_type": "markdown",
   "metadata": {},
   "source": [
    "### st.slider\n",
    "\n",
    "- `st.slider`: A slider to select a numerical value."
   ]
  },
  {
   "cell_type": "code",
   "execution_count": 11,
   "metadata": {},
   "outputs": [
    {
     "name": "stdout",
     "output_type": "stream",
     "text": [
      "Overwriting streamlit_app.py\n"
     ]
    }
   ],
   "source": [
    "%%writefile streamlit_app.py\n",
    "import streamlit as st\n",
    "\n",
    "age = st.slider('How old are you?', 0, 130, 25)\n",
    "st.write('I am ', age, ' years old')"
   ]
  },
  {
   "cell_type": "markdown",
   "metadata": {},
   "source": [
    "### st.text_input\n",
    "\n",
    "- `st.text_input`: A text input box for user input."
   ]
  },
  {
   "cell_type": "code",
   "execution_count": 12,
   "metadata": {},
   "outputs": [
    {
     "name": "stdout",
     "output_type": "stream",
     "text": [
      "Overwriting streamlit_app.py\n"
     ]
    }
   ],
   "source": [
    "%%writefile streamlit_app.py\n",
    "import streamlit as st\n",
    "\n",
    "title = st.text_input('Movie title', 'Life of Brian')\n",
    "st.write('The current movie title is', title)"
   ]
  },
  {
   "cell_type": "markdown",
   "metadata": {},
   "source": [
    "### st.text_area\n",
    "\n",
    "- `st.text_area`: A larger text input box for user input."
   ]
  },
  {
   "cell_type": "code",
   "execution_count": 13,
   "metadata": {},
   "outputs": [
    {
     "name": "stdout",
     "output_type": "stream",
     "text": [
      "Overwriting streamlit_app.py\n"
     ]
    }
   ],
   "source": [
    "%%writefile streamlit_app.py\n",
    "import streamlit as st\n",
    "\n",
    "txt = st.text_area('Text to analyze', 'Type here...')\n",
    "st.write('You wrote:', txt)"
   ]
  },
  {
   "cell_type": "markdown",
   "metadata": {},
   "source": [
    "### st.date_input\n",
    "\n",
    "- `st.date_input`: A date picker widget."
   ]
  },
  {
   "cell_type": "code",
   "execution_count": 14,
   "metadata": {},
   "outputs": [
    {
     "name": "stdout",
     "output_type": "stream",
     "text": [
      "Overwriting streamlit_app.py\n"
     ]
    }
   ],
   "source": [
    "%%writefile streamlit_app.py\n",
    "import streamlit as st\n",
    "from datetime import datetime\n",
    "\n",
    "d = st.date_input(\n",
    "    \"When's your birthday\",\n",
    "    datetime(2023, 7, 6))\n",
    "st.write('Your birthday is:', d)"
   ]
  },
  {
   "cell_type": "markdown",
   "metadata": {},
   "source": [
    "### st.time_input\n",
    "\n",
    "- `st.time_input`: A time picker widget."
   ]
  },
  {
   "cell_type": "code",
   "execution_count": 15,
   "metadata": {},
   "outputs": [
    {
     "name": "stdout",
     "output_type": "stream",
     "text": [
      "Overwriting streamlit_app.py\n"
     ]
    }
   ],
   "source": [
    "%%writefile streamlit_app.py\n",
    "import streamlit as st\n",
    "from datetime import time\n",
    "\n",
    "t = st.time_input('Set an alarm for', time(8, 45))\n",
    "st.write('Alarm is set for', t)"
   ]
  },
  {
   "cell_type": "markdown",
   "metadata": {},
   "source": [
    "### st.file_uploader\n",
    "\n",
    "- `st.file_uploader`: A widget to upload files.\n"
   ]
  },
  {
   "cell_type": "code",
   "execution_count": 16,
   "metadata": {},
   "outputs": [
    {
     "name": "stdout",
     "output_type": "stream",
     "text": [
      "Overwriting streamlit_app.py\n"
     ]
    }
   ],
   "source": [
    "%%writefile streamlit_app.py\n",
    "import streamlit as st\n",
    "\n",
    "uploaded_file = st.file_uploader(\"Choose a file\")\n",
    "if uploaded_file is not None:\n",
    "    # To read file as bytes:\n",
    "    bytes_data = uploaded_file.getvalue()\n",
    "    st.write(bytes_data)\n",
    "    # To convert to a string based IO:\n",
    "    stringio = StringIO(uploaded_file.getvalue().decode(\"utf-8\"))\n",
    "    st.write(stringio)\n",
    "    # To read file as string:\n",
    "    string_data = stringio.read()\n",
    "    st.write(string_data)\n",
    "    # Can be used wherever a \"file-like\" object is accepted:\n",
    "    dataframe = pd.read_csv(uploaded_file)\n",
    "    st.write(dataframe)"
   ]
  },
  {
   "cell_type": "markdown",
   "metadata": {},
   "source": [
    "### st.camera_input\n",
    "\n",
    "- `st.camera_input`: A widget to take a photo using the camera."
   ]
  },
  {
   "cell_type": "code",
   "execution_count": 19,
   "metadata": {},
   "outputs": [
    {
     "name": "stdout",
     "output_type": "stream",
     "text": [
      "Overwriting streamlit_app.py\n"
     ]
    }
   ],
   "source": [
    "%%writefile streamlit_app.py\n",
    "import streamlit as st\n",
    "import pandas as pd\n",
    "import time\n",
    "\n",
    "# Set page title\n",
    "st.title('Camera Upload Widget')\n",
    "\n",
    "def change_photo_state():\n",
    "    st.session_state.photo = 'done'\n",
    "\n",
    "# Columns\n",
    "col1, col2 = st.columns([1, 1])\n",
    "\n",
    "# Upload photo\n",
    "uploaded_photo = col2.file_uploader(\"Upload a photo:\", on_change=change_photo_state)\n",
    "camera_photo = col2.camera_input(\"Take a photo\", on_change=change_photo_state)\n",
    "\n",
    "if 'photo' not in st.session_state:\n",
    "    st.session_state.photo = 'not done'\n",
    "\n",
    "if st.session_state.photo == 'done':\n",
    "    # Progress bar\n",
    "    progress_bar = col2.progress(0)\n",
    "    for i in range(100):\n",
    "        time.sleep(0.03)\n",
    "        progress_bar.progress(i + 1)\n",
    "    col2.success(\"Photo uploaded successfully!\")\n",
    "\n",
    "    with st.expander(\"Click to read more\"):\n",
    "        st.write(\"Here are more details about the topic you are interested in\")\n",
    "        if uploaded_photo is None:\n",
    "            st.image(camera_photo)\n",
    "        else:\n",
    "            st.image(uploaded_photo)"
   ]
  },
  {
   "cell_type": "markdown",
   "metadata": {},
   "source": [
    "### st.color_picker\n",
    "\n",
    "- `st.color_picker`: A widget to pick a color."
   ]
  },
  {
   "cell_type": "code",
   "execution_count": 20,
   "metadata": {},
   "outputs": [
    {
     "name": "stdout",
     "output_type": "stream",
     "text": [
      "Overwriting streamlit_app.py\n"
     ]
    }
   ],
   "source": [
    "%%writefile streamlit_app.py\n",
    "import streamlit as st\n",
    "\n",
    "color = st.color_picker('Pick A Color', '#00f900')\n",
    "st.write('The current color is', color)"
   ]
  },
  {
   "cell_type": "markdown",
   "metadata": {},
   "source": [
    "## 2. Layouts"
   ]
  },
  {
   "cell_type": "markdown",
   "metadata": {},
   "source": [
    "Streamlit provides several layout elements that help you organize the content in your web application. This section covers the basic layout elements."
   ]
  },
  {
   "cell_type": "markdown",
   "metadata": {},
   "source": [
    "### st.columns\n",
    "\n",
    "- `st.columns`: Creates multiple columns within a single row. This is useful for placing elements side by side."
   ]
  },
  {
   "cell_type": "code",
   "execution_count": 21,
   "metadata": {},
   "outputs": [
    {
     "name": "stdout",
     "output_type": "stream",
     "text": [
      "Overwriting streamlit_app.py\n"
     ]
    }
   ],
   "source": [
    "%%writefile streamlit_app.py\n",
    "import streamlit as st\n",
    "import random\n",
    "\n",
    "# Create two columns\n",
    "left_column, right_column = st.columns(2)\n",
    "\n",
    "with left_column:\n",
    "    st.subheader('A Line Chart')\n",
    "    data = [random.random() for _ in range(100)]\n",
    "    st.line_chart(data)\n",
    "\n",
    "with right_column:\n",
    "    st.subheader('Data')\n",
    "    st.write(data[:10])"
   ]
  },
  {
   "cell_type": "markdown",
   "metadata": {},
   "source": [
    "### st.expander\n",
    "\n",
    "- `st.expander`: Creates a collapsible section that can hide or show content. This is useful for organizing content that is not always needed."
   ]
  },
  {
   "cell_type": "code",
   "execution_count": 22,
   "metadata": {},
   "outputs": [
    {
     "name": "stdout",
     "output_type": "stream",
     "text": [
      "Overwriting streamlit_app.py\n"
     ]
    }
   ],
   "source": [
    "%%writefile streamlit_app.py\n",
    "import streamlit as st\n",
    "import random\n",
    "\n",
    "# Create an expander\n",
    "with st.expander('Click to expand'):\n",
    "    st.bar_chart([random.randint(2, 10) for _ in range(25)])\n",
    "    st.write('This is an image of a dog.')\n",
    "    st.image('https://static.streamlit.io/examples/dog.jpg')"
   ]
  },
  {
   "cell_type": "markdown",
   "metadata": {},
   "source": [
    "### st.container\n",
    "\n",
    "- `st.container`: Creates a container to group elements together. This is useful for logically grouping related elements."
   ]
  },
  {
   "cell_type": "code",
   "execution_count": 23,
   "metadata": {},
   "outputs": [
    {
     "name": "stdout",
     "output_type": "stream",
     "text": [
      "Overwriting streamlit_app.py\n"
     ]
    }
   ],
   "source": [
    "%%writefile streamlit_app.py\n",
    "import streamlit as st\n",
    "import random\n",
    "\n",
    "# Create a container\n",
    "with st.container():\n",
    "    st.subheader('Container')\n",
    "    data = [random.random() for _ in range(100)]\n",
    "    st.line_chart(data)\n",
    "    st.write('This is some text inside the container.')"
   ]
  },
  {
   "cell_type": "markdown",
   "metadata": {},
   "source": [
    "### st.empty\n",
    "\n",
    "- `st.empty`: Creates an empty container that can be updated later. This is useful for creating placeholders that will be filled dynamically."
   ]
  },
  {
   "cell_type": "code",
   "execution_count": 24,
   "metadata": {},
   "outputs": [
    {
     "name": "stdout",
     "output_type": "stream",
     "text": [
      "Overwriting streamlit_app.py\n"
     ]
    }
   ],
   "source": [
    "%%writefile streamlit_app.py\n",
    "import streamlit as st\n",
    "import time\n",
    "\n",
    "# Create an empty container\n",
    "placeholder = st.empty()\n",
    "\n",
    "# Update the container with a progress bar\n",
    "progress_bar = placeholder.progress(0)\n",
    "for i in range(100):\n",
    "    time.sleep(0.1)\n",
    "    progress_bar.progress(i + 1)\n",
    "\n",
    "# Update the container with final content\n",
    "placeholder.write('Computation complete!')"
   ]
  },
  {
   "cell_type": "markdown",
   "metadata": {},
   "source": [
    "## 3. Callbacks"
   ]
  },
  {
   "cell_type": "markdown",
   "metadata": {},
   "source": [
    "Callbacks in Streamlit are functions that are triggered when a widget’s state changes. This allows for dynamic and interactive behavior in the app. Using `st.session_state`, you can manage and persist state across reruns of the app."
   ]
  },
  {
   "cell_type": "markdown",
   "metadata": {},
   "source": [
    "- `st.session_state`: A dictionary-like object that stores the state of the app. It is useful for keeping track of variables, such as user inputs or temporary data.\n",
    "\n",
    "- `on_change`: A parameter that specifies a callback function to be executed when the widget’s value changes. This function updates the state or triggers any other action.\n",
    "\n",
    "- State management: Using `st.session_state`, you can maintain the state of the application across multiple interactions."
   ]
  },
  {
   "cell_type": "markdown",
   "metadata": {},
   "source": [
    "### Example 1: A text input widget and a callback function that updates the session state"
   ]
  },
  {
   "cell_type": "code",
   "execution_count": 27,
   "metadata": {},
   "outputs": [
    {
     "name": "stdout",
     "output_type": "stream",
     "text": [
      "Overwriting streamlit_app.py\n"
     ]
    }
   ],
   "source": [
    "%%writefile streamlit_app.py\n",
    "import streamlit as st\n",
    "\n",
    "# Initialize session state\n",
    "if 'text' not in st.session_state:\n",
    "    st.session_state.text = ''\n",
    "\n",
    "# Callback function to update the session state\n",
    "def update_text():\n",
    "    st.session_state.text = st.session_state.text_input\n",
    "\n",
    "# Text input with a callback\n",
    "st.text_input('Enter some text:', key='text_input', on_change=update_text)\n",
    "\n",
    "# Display the current state\n",
    "st.write(f'Current text: {st.session_state.text}')"
   ]
  },
  {
   "cell_type": "markdown",
   "metadata": {},
   "source": [
    "### Example 2: Callback with Number Input and Conversion\n",
    "\n",
    "This example demonstrates a more complex callback scenario where we convert miles to kilometers and vice versa. The conversion functions are called when the respective number input values change."
   ]
  },
  {
   "cell_type": "code",
   "execution_count": 28,
   "metadata": {},
   "outputs": [
    {
     "name": "stdout",
     "output_type": "stream",
     "text": [
      "Overwriting streamlit_app.py\n"
     ]
    }
   ],
   "source": [
    "%%writefile streamlit_app.py\n",
    "import streamlit as st\n",
    "\n",
    "# Initialize session state\n",
    "if 'miles' not in st.session_state:\n",
    "    st.session_state.miles = 0\n",
    "if 'km' not in st.session_state:\n",
    "    st.session_state.km = 0\n",
    "\n",
    "# Callback functions for conversions\n",
    "def miles_to_km():\n",
    "    st.session_state.km = st.session_state.miles * 1.609\n",
    "\n",
    "def km_to_miles():\n",
    "    st.session_state.miles = st.session_state.km * 0.621\n",
    "\n",
    "# Layout with number inputs and callbacks\n",
    "col1, col2 = st.columns(2)\n",
    "\n",
    "with col1:\n",
    "    st.number_input('Miles:', key='miles', on_change=miles_to_km)\n",
    "\n",
    "with col2:\n",
    "    st.number_input('Km:', key='km', on_change=km_to_miles)\n",
    "\n",
    "# Display the current state\n",
    "st.write(f'{st.session_state.miles} miles is equal to {st.session_state.km} kilometers')"
   ]
  },
  {
   "cell_type": "markdown",
   "metadata": {},
   "source": [
    "### Example 3: Callback with Button and Counter\n",
    "\n",
    "This example shows how to use a button to trigger a callback that increments a counter stored in the session state."
   ]
  },
  {
   "cell_type": "code",
   "execution_count": 29,
   "metadata": {},
   "outputs": [
    {
     "name": "stdout",
     "output_type": "stream",
     "text": [
      "Overwriting streamlit_app.py\n"
     ]
    }
   ],
   "source": [
    "%%writefile streamlit_app.py\n",
    "import streamlit as st\n",
    "\n",
    "# Initialize session state\n",
    "if 'counter' not in st.session_state:\n",
    "    st.session_state.counter = 0\n",
    "\n",
    "# Callback function to increment the counter\n",
    "def increment_counter():\n",
    "    st.session_state.counter += 1\n",
    "\n",
    "# Button with a callback\n",
    "st.button('Increment', on_click=increment_counter)\n",
    "\n",
    "# Display the current state\n",
    "st.write(f'Counter: {st.session_state.counter}')"
   ]
  },
  {
   "cell_type": "markdown",
   "metadata": {},
   "source": [
    "## 4. Progress Bars"
   ]
  },
  {
   "cell_type": "markdown",
   "metadata": {},
   "source": [
    "Progress bars are useful to indicate the progress of a long-running task. They provide visual feedback to the user."
   ]
  },
  {
   "cell_type": "markdown",
   "metadata": {},
   "source": [
    "- `st.progress`: Displays a progress bar.\n",
    "- `st.empty`: Creates a placeholder that can be updated dynamically."
   ]
  },
  {
   "cell_type": "code",
   "execution_count": 34,
   "metadata": {},
   "outputs": [
    {
     "name": "stdout",
     "output_type": "stream",
     "text": [
      "Overwriting streamlit_app.py\n"
     ]
    }
   ],
   "source": [
    "%%writefile streamlit_app.py\n",
    "import streamlit as st\n",
    "import time\n",
    "\n",
    "st.write('Starting an extensive computation...')\n",
    "\n",
    "latest_iteration = st.empty()\n",
    "progress_bar = st.progress(0)\n",
    "\n",
    "for i in range(100):\n",
    "    time.sleep(0.1)\n",
    "    latest_iteration.text(f'Iteration {i + 1}')\n",
    "    progress_bar.progress(i + 1)\n",
    "\n",
    "st.write('Computation complete!')"
   ]
  },
  {
   "cell_type": "markdown",
   "metadata": {},
   "source": [
    "## 5. Streamlit Sessions"
   ]
  },
  {
   "cell_type": "markdown",
   "metadata": {},
   "source": [
    "\n",
    "A session in Streamlit refers to the individual user interaction with the Streamlit app. When a user accesses a Streamlit app, a new session is created for that user. This session is isolated from other users' sessions, meaning that each user has their own unique instance of the app running."
   ]
  },
  {
   "cell_type": "markdown",
   "metadata": {},
   "source": [
    "### Benefits of Session State"
   ]
  },
  {
   "cell_type": "markdown",
   "metadata": {},
   "source": [
    "1. **Isolated User Experience**: Each user has their own separate session state, ensuring that one user's interactions do not affect another's. This is crucial for maintaining a personalized experience for each user.\n",
    "\n",
    "2. **State Persistence**: Session state allows the app to remember the user’s input and actions across different interactions, even as the script is rerun. This makes the app feel more responsive and user-friendly.\n",
    "\n",
    "3. **Multi-User Support**: Since each session is isolated, multiple users can use the app simultaneously without interfering with each other’s experience. This is particularly useful for applications deployed in a shared environment."
   ]
  },
  {
   "cell_type": "markdown",
   "metadata": {},
   "source": [
    "### How Does Session State Work?"
   ]
  },
  {
   "cell_type": "markdown",
   "metadata": {},
   "source": [
    "`st.session_state` is a special dictionary-like object provided by Streamlit. It is used to store and manage the state of variables across different interactions within a user's session. You can store any data in `st.session_state`, such as user inputs, computed values, or application state."
   ]
  },
  {
   "cell_type": "markdown",
   "metadata": {},
   "source": [
    "### Example: Multi-User Counter App\n",
    "\n"
   ]
  },
  {
   "cell_type": "markdown",
   "metadata": {},
   "source": [
    "A simple counter app that uses `st.session_state` to keep track of each user's count separately. Each user can increment their counter independently, and the state will persist across interactions.\n",
    "\n",
    "Please start two different browsers with `http://localhost:8501/` to simulate different counter values with the same app."
   ]
  },
  {
   "cell_type": "code",
   "execution_count": 35,
   "metadata": {},
   "outputs": [
    {
     "name": "stdout",
     "output_type": "stream",
     "text": [
      "Overwriting streamlit_app.py\n"
     ]
    }
   ],
   "source": [
    "%%writefile streamlit_app.py\n",
    "import streamlit as st\n",
    "\n",
    "# Initialize session state variables\n",
    "if 'counter' not in st.session_state:\n",
    "    st.session_state.counter = 0\n",
    "\n",
    "# Function to increment the counter\n",
    "def increment_counter():\n",
    "    st.session_state.counter += 1\n",
    "\n",
    "# Page title\n",
    "st.title('Multi-User Counter App')\n",
    "\n",
    "# Display the counter\n",
    "st.write(f'Current counter value: {st.session_state.counter}')\n",
    "\n",
    "# Button to increment the counter\n",
    "st.button('Increment', on_click=increment_counter)\n",
    "\n",
    "# Additional information about session state\n",
    "st.write(\"\"\"\n",
    "### How It Works\n",
    "- Each user has their own session.\n",
    "- The counter value is stored in `st.session_state`.\n",
    "- When the \"Increment\" button is clicked, the `increment_counter` function is called, updating the counter in the session state.\n",
    "- This ensures that each user's counter is independent of others.\n",
    "\"\"\")"
   ]
  },
  {
   "cell_type": "markdown",
   "metadata": {},
   "source": [
    "## 6. Streamlit Caching"
   ]
  },
  {
   "cell_type": "markdown",
   "metadata": {},
   "source": [
    "Streamlit executes the entire script from top to bottom each time a user interacts or changes the code. While this model simplifies app development, it can lead to performance issues:\n",
    "\n",
    "1. Long-running functions may execute repeatedly, slowing down your app.\n",
    "2. Repeated object creation hampers persistence across reruns or sessions.\n",
    "\n",
    "Streamlit addresses these challenges with a built-in caching mechanism, storing results of function calls to avoid redundant executions. This not only accelerates the app but also aids in object persistence."
   ]
  },
  {
   "cell_type": "markdown",
   "metadata": {},
   "source": [
    "### Caching Decorators\n",
    "\n"
   ]
  },
  {
   "cell_type": "markdown",
   "metadata": {},
   "source": [
    "Streamlit provides two main decorators for caching:\n",
    "\n",
    "- `@st.cache_data`: Ideal for caching data computations like loading data or processing arrays.\n",
    "\n",
    "- `@st.cache_resource`: Best for caching non-data resources like machine learning models or database connections."
   ]
  },
  {
   "cell_type": "markdown",
   "metadata": {},
   "source": [
    "### `@st.cache_data`\n",
    "\n",
    "Use `@st.def_cache_data` to cache functions returning serializable data objects. This decorator checks the function's input parameters and its internal code to determine if the function should run or if a cached result can be returned."
   ]
  },
  {
   "cell_type": "markdown",
   "metadata": {},
   "source": [
    "Consider an app that loads a CSV file. Without caching, each interaction would retrigger the data loading, which is inefficient.\n",
    "\n",
    "**Caching Implementation:**\n",
    "```python\n",
    "@st.cache_data\n",
    "def load_data(url):\n",
    "    df = pd.read_json(url)\n",
    "    return df\n",
    "\n",
    "url = \"https://example.com/large_dataset.csv\"\n",
    "df = load_data(url)\n",
    "st.dataframe(df)\n",
    "```\n",
    "\n",
    "By adding `@st.cache_data`, the data is loaded only once, and subsequent interactions fetch the data from the cache, speeding up the app."
   ]
  },
  {
   "cell_type": "markdown",
   "metadata": {},
   "source": [
    "### `@st.cache_resource`\n",
    "\n",
    "This decorator is used for caching global resources that are not serializable and should be reused, such as ML models or database connections."
   ]
  },
  {
   "cell_type": "markdown",
   "metadata": {},
   "source": [
    "```python\n",
    "@st.cache_resource\n",
    "def load_model():\n",
    "    model = some_library.load_model('model_path')\n",
    "    return model\n",
    "\n",
    "model = load_model()\n",
    "```"
   ]
  },
  {
   "cell_type": "markdown",
   "metadata": {},
   "source": [
    "### Important Considerations\n",
    "\n",
    "- Serialized data ensures that the cached objects are consistent and not affected by external changes.\n",
    "\n",
    "- Be cautious with data security when caching, as serialized objects could be tampered with or exploited.\n",
    "\n",
    "- Sometimes, it's useful to exclude certain parameters from triggering cache invalidation, such as timestamps or user-specific data that do not influence the function's outcome.\n",
    "\n",
    "- For dynamic data or limited memory scenarios, control the cache's lifespan and size with `ttl` (time to live) and `max_entries` parameters."
   ]
  },
  {
   "cell_type": "markdown",
   "metadata": {},
   "source": [
    "## 7. Example: A Data Dashboard"
   ]
  },
  {
   "cell_type": "code",
   "execution_count": 41,
   "metadata": {},
   "outputs": [
    {
     "name": "stdout",
     "output_type": "stream",
     "text": [
      "Overwriting streamlit_app.py\n"
     ]
    }
   ],
   "source": [
    "%%writefile streamlit_app.py\n",
    "import streamlit as st\n",
    "import pandas as pd\n",
    "import numpy as np\n",
    "import altair as alt\n",
    "import time\n",
    "\n",
    "# Page configuration\n",
    "st.set_page_config(page_title=\"Production-Level Data Dashboard\", layout=\"wide\")\n",
    "\n",
    "# Sample data\n",
    "@st.cache_data\n",
    "def load_data():\n",
    "    data = pd.DataFrame({\n",
    "        'A': np.random.randn(100),\n",
    "        'B': np.random.rand(100),\n",
    "        'C': np.random.randint(1, 10, 100),\n",
    "        'D': np.random.choice(['X', 'Y', 'Z'], 100)\n",
    "    })\n",
    "    data['index'] = data.index\n",
    "    return data\n",
    "\n",
    "data = load_data()\n",
    "\n",
    "# Sidebar filters\n",
    "st.sidebar.header('Filters')\n",
    "if data is not None:\n",
    "    category = st.sidebar.multiselect('Select category:', options=['X', 'Y', 'Z'], default=['X', 'Y', 'Z'])\n",
    "    value_range = st.sidebar.slider('Select value range for A:', min_value=float(data['A'].min()), max_value=float(data['A'].max()), value=(float(data['A'].min()), float(data['A'].max())))\n",
    "\n",
    "    # Filter data\n",
    "    filtered_data = data[(data['D'].isin(category)) & (data['A'].between(value_range[0], value_range[1]))]\n",
    "\n",
    "    # Main content\n",
    "    st.title('Data Dashboard')\n",
    "\n",
    "    # Display data\n",
    "    st.subheader('Filtered Data')\n",
    "    st.write(filtered_data)\n",
    "\n",
    "    # Line chart\n",
    "    st.subheader('Line Chart')\n",
    "    line_chart = alt.Chart(filtered_data).mark_line().encode(\n",
    "        x='index:Q',\n",
    "        y='A:Q'\n",
    "    )\n",
    "    st.altair_chart(line_chart, use_container_width=True)\n",
    "\n",
    "    # Bar chart\n",
    "    st.subheader('Bar Chart')\n",
    "    bar_chart = alt.Chart(filtered_data).mark_bar().encode(\n",
    "        x='D:N',\n",
    "        y='C:Q'\n",
    "    )\n",
    "    st.altair_chart(bar_chart, use_container_width=True)\n",
    "\n",
    "    # Progress bar simulation\n",
    "    st.subheader('Simulating a Long Process')\n",
    "    progress_bar = st.progress(0)\n",
    "    for i in range(100):\n",
    "        time.sleep(0.05)\n",
    "        progress_bar.progress(i + 1)\n",
    "    st.write('Process complete!')\n",
    "else:\n",
    "    st.error('Error loading data. Please try again later.')\n"
   ]
  }
 ],
 "metadata": {
  "kernelspec": {
   "display_name": "scrapar",
   "language": "python",
   "name": "python3"
  },
  "language_info": {
   "codemirror_mode": {
    "name": "ipython",
    "version": 3
   },
   "file_extension": ".py",
   "mimetype": "text/x-python",
   "name": "python",
   "nbconvert_exporter": "python",
   "pygments_lexer": "ipython3",
   "version": "3.11.9"
  }
 },
 "nbformat": 4,
 "nbformat_minor": 2
}
